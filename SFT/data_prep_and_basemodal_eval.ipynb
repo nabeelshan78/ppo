{
 "cells": [
  {
   "cell_type": "markdown",
   "metadata": {},
   "source": [
    "# Data Preparation and Base Model Evaluation\n",
    "\n",
    "## Objective\n",
    "The goal of this notebook is to prepare the `Dahoas/synthetic-instruct-gptj-pairwise` dataset for Supervised Fine-Tuning (SFT) and to evaluate the performance of the base `gpt2` model before any fine-tuning.\n",
    "\n",
    "## Key Steps\n",
    "1.  **Load Data**: Loaded the raw dataset from Hugging Face.\n",
    "2.  **Format for SFT**: Processed the dataset by combining the `prompt` and `chosen` response into a more explicit `prompt` and `completion` format suitable for the `SFTTrainer`.\n",
    "3.  **Base Model Inference**: Tested the pre-trained `gpt2` (124M) model on a sample prompt to establish a baseline.\n",
    "\n",
    "## Outcome & Next Steps\n",
    "The dataset is now correctly formatted. The base `gpt2` model's response to the test prompt was irrelevant, demonstrating a clear **relevance failure** and confirming the need for fine-tuning.\n",
    "\n",
    "The next step is to use this processed data in to perform Parameter-Efficient Fine-Tuning (PEFT) using LoRA to align the model to our instruction-following task."
   ]
  },
  {
   "cell_type": "code",
   "execution_count": 33,
   "metadata": {},
   "outputs": [],
   "source": [
    "# !pip install transformers==4.43.4\n",
    "# !pip install torch"
   ]
  },
  {
   "cell_type": "code",
   "execution_count": 6,
   "metadata": {},
   "outputs": [],
   "source": [
    "import torch\n",
    "from transformers import AutoModelForCausalLM, AutoTokenizer\n",
    "from datasets import load_dataset\n",
    "import json\n",
    "import matplotlib.pyplot as plt"
   ]
  },
  {
   "cell_type": "code",
   "execution_count": 7,
   "metadata": {},
   "outputs": [],
   "source": [
    "dataset_name = \"my-local-dataset/\" # \"Dahoas/synthetic-instruct-gptj-pairwise\"\n",
    "dataset = load_dataset(dataset_name, split=\"train\")"
   ]
  },
  {
   "cell_type": "code",
   "execution_count": 8,
   "metadata": {},
   "outputs": [
    {
     "data": {
      "text/plain": [
       "Dataset({\n",
       "    features: ['prompt', 'chosen', 'rejected'],\n",
       "    num_rows: 33143\n",
       "})"
      ]
     },
     "execution_count": 8,
     "metadata": {},
     "output_type": "execute_result"
    }
   ],
   "source": [
    "dataset"
   ]
  },
  {
   "cell_type": "code",
   "execution_count": 9,
   "metadata": {},
   "outputs": [
    {
     "name": "stdout",
     "output_type": "stream",
     "text": [
      "{'prompt': 'I was wondering if you could walk me through the process of setting up a hydroponic garden for herbs.', 'chosen': \"Sure! The process for setting up a hydroponic garden for herbs is relatively simple. First, you'll want to choose a space where you will set up your hydroponic system. You'll need to make sure the space is well-lit and has access to electricity and an adequate water supply. Next, you'll need to choose the type of hydroponic system you want to use. There are several types of hydroponic systems, so you'll need to decide which best suits your needs. Once you've chosen a system, you'll need to gather the supplies you'll need to assemble it. This includes things like pumps, growing trays, grow lights, and nutrients. Once you've assembled the system, you'll need to add your choice of herbs to the system. Lastly, you'll need to monitor and adjust the system as needed to ensure your herbs are getting the correct amount of light, water, and nutrients.\", 'rejected': 'How do I store a bagels for eating at a later date?\\n\\n\\n You can place the bagels in an airtight container and reheat them in the microwave.  Alternately, you can place the bagels in the microwave, cover them with foil, then heat them in the microwave for a short time.'}\n"
     ]
    }
   ],
   "source": [
    "print(dataset[0])"
   ]
  },
  {
   "cell_type": "markdown",
   "metadata": {},
   "source": [
    "## Apply the Formatting"
   ]
  },
  {
   "cell_type": "code",
   "execution_count": 10,
   "metadata": {},
   "outputs": [],
   "source": [
    "# def format_sft_prompt(sample):\n",
    "#     \"\"\"Formats a sample from the dataset into a single text string.\"\"\"\n",
    "#     prompt = sample[\"prompt\"]\n",
    "#     chosen_response = sample[\"chosen\"]\n",
    "#     return {\"text\": f\"### Instruction:\\n{prompt}\\n\\n### Response:\\n{chosen_response}\"}\n",
    "\n",
    "\n",
    "\n",
    "def format_for_prompt_completion(sample):\n",
    "    \"\"\"\n",
    "    Formats a sample into a dictionary with 'prompt' and 'completion' keys.\n",
    "    \"\"\"\n",
    "    prompt_text = f\"### Instruction:\\n{sample['prompt']}\\n\\n### Response:\\n\"\n",
    "    completion_text = sample['chosen']\n",
    "    return {\"prompt\": prompt_text, \"completion\": completion_text}"
   ]
  },
  {
   "cell_type": "code",
   "execution_count": 11,
   "metadata": {},
   "outputs": [
    {
     "data": {
      "text/plain": [
       "Dataset({\n",
       "    features: ['prompt', 'chosen', 'rejected', 'completion'],\n",
       "    num_rows: 33143\n",
       "})"
      ]
     },
     "execution_count": 11,
     "metadata": {},
     "output_type": "execute_result"
    }
   ],
   "source": [
    "formatted_dataset = dataset.map(format_for_prompt_completion)\n",
    "formatted_dataset"
   ]
  },
  {
   "cell_type": "code",
   "execution_count": 12,
   "metadata": {},
   "outputs": [
    {
     "name": "stdout",
     "output_type": "stream",
     "text": [
      "{'prompt': '### Instruction:\\nI was wondering if you could walk me through the process of setting up a hydroponic garden for herbs.\\n\\n### Response:\\n', 'chosen': \"Sure! The process for setting up a hydroponic garden for herbs is relatively simple. First, you'll want to choose a space where you will set up your hydroponic system. You'll need to make sure the space is well-lit and has access to electricity and an adequate water supply. Next, you'll need to choose the type of hydroponic system you want to use. There are several types of hydroponic systems, so you'll need to decide which best suits your needs. Once you've chosen a system, you'll need to gather the supplies you'll need to assemble it. This includes things like pumps, growing trays, grow lights, and nutrients. Once you've assembled the system, you'll need to add your choice of herbs to the system. Lastly, you'll need to monitor and adjust the system as needed to ensure your herbs are getting the correct amount of light, water, and nutrients.\", 'rejected': 'How do I store a bagels for eating at a later date?\\n\\n\\n You can place the bagels in an airtight container and reheat them in the microwave.  Alternately, you can place the bagels in the microwave, cover them with foil, then heat them in the microwave for a short time.', 'completion': \"Sure! The process for setting up a hydroponic garden for herbs is relatively simple. First, you'll want to choose a space where you will set up your hydroponic system. You'll need to make sure the space is well-lit and has access to electricity and an adequate water supply. Next, you'll need to choose the type of hydroponic system you want to use. There are several types of hydroponic systems, so you'll need to decide which best suits your needs. Once you've chosen a system, you'll need to gather the supplies you'll need to assemble it. This includes things like pumps, growing trays, grow lights, and nutrients. Once you've assembled the system, you'll need to add your choice of herbs to the system. Lastly, you'll need to monitor and adjust the system as needed to ensure your herbs are getting the correct amount of light, water, and nutrients.\"}\n"
     ]
    }
   ],
   "source": [
    "print(formatted_dataset[0])"
   ]
  },
  {
   "cell_type": "code",
   "execution_count": 13,
   "metadata": {},
   "outputs": [
    {
     "name": "stdout",
     "output_type": "stream",
     "text": [
      "### Instruction:\n",
      "I was wondering if you could walk me through the process of setting up a hydroponic garden for herbs.\n",
      "\n",
      "### Response:\n",
      "\n",
      "==================================================\n",
      "Sure! The process for setting up a hydroponic garden for herbs is relatively simple. First, you'll want to choose a space where you will set up your hydroponic system. You'll need to make sure the space is well-lit and has access to electricity and an adequate water supply. Next, you'll need to choose the type of hydroponic system you want to use. There are several types of hydroponic systems, so you'll need to decide which best suits your needs. Once you've chosen a system, you'll need to gather the supplies you'll need to assemble it. This includes things like pumps, growing trays, grow lights, and nutrients. Once you've assembled the system, you'll need to add your choice of herbs to the system. Lastly, you'll need to monitor and adjust the system as needed to ensure your herbs are getting the correct amount of light, water, and nutrients.\n"
     ]
    }
   ],
   "source": [
    "print(formatted_dataset[0]['prompt'])\n",
    "print('='*50)\n",
    "print(formatted_dataset[0]['completion'])"
   ]
  },
  {
   "cell_type": "code",
   "execution_count": null,
   "metadata": {},
   "outputs": [],
   "source": []
  },
  {
   "cell_type": "code",
   "execution_count": null,
   "metadata": {},
   "outputs": [],
   "source": []
  },
  {
   "cell_type": "code",
   "execution_count": null,
   "metadata": {},
   "outputs": [],
   "source": []
  },
  {
   "cell_type": "code",
   "execution_count": 14,
   "metadata": {},
   "outputs": [],
   "source": [
    "model_name = \"gpt2\"\n",
    "tokenizer = AutoTokenizer.from_pretrained(model_name)\n",
    "tokenizer.pad_token = tokenizer.eos_token"
   ]
  },
  {
   "cell_type": "code",
   "execution_count": 15,
   "metadata": {},
   "outputs": [],
   "source": [
    "model = AutoModelForCausalLM.from_pretrained(model_name)\n",
    "model.config.pad_token_id = model.config.eos_token_id # Configure model pad token"
   ]
  },
  {
   "cell_type": "code",
   "execution_count": 16,
   "metadata": {},
   "outputs": [
    {
     "data": {
      "text/plain": [
       "GPT2LMHeadModel(\n",
       "  (transformer): GPT2Model(\n",
       "    (wte): Embedding(50257, 768)\n",
       "    (wpe): Embedding(1024, 768)\n",
       "    (drop): Dropout(p=0.1, inplace=False)\n",
       "    (h): ModuleList(\n",
       "      (0-11): 12 x GPT2Block(\n",
       "        (ln_1): LayerNorm((768,), eps=1e-05, elementwise_affine=True)\n",
       "        (attn): GPT2SdpaAttention(\n",
       "          (c_attn): Conv1D()\n",
       "          (c_proj): Conv1D()\n",
       "          (attn_dropout): Dropout(p=0.1, inplace=False)\n",
       "          (resid_dropout): Dropout(p=0.1, inplace=False)\n",
       "        )\n",
       "        (ln_2): LayerNorm((768,), eps=1e-05, elementwise_affine=True)\n",
       "        (mlp): GPT2MLP(\n",
       "          (c_fc): Conv1D()\n",
       "          (c_proj): Conv1D()\n",
       "          (act): NewGELUActivation()\n",
       "          (dropout): Dropout(p=0.1, inplace=False)\n",
       "        )\n",
       "      )\n",
       "    )\n",
       "    (ln_f): LayerNorm((768,), eps=1e-05, elementwise_affine=True)\n",
       "  )\n",
       "  (lm_head): Linear(in_features=768, out_features=50257, bias=False)\n",
       ")"
      ]
     },
     "execution_count": 16,
     "metadata": {},
     "output_type": "execute_result"
    }
   ],
   "source": [
    "model"
   ]
  },
  {
   "cell_type": "code",
   "execution_count": 25,
   "metadata": {},
   "outputs": [
    {
     "name": "stdout",
     "output_type": "stream",
     "text": [
      "### Instruction:\n",
      "How does quantum computing work.\n",
      "\n",
      "### Response:\n",
      "\n"
     ]
    }
   ],
   "source": [
    "text = formatted_dataset['prompt'][10]\n",
    "print(text)"
   ]
  },
  {
   "cell_type": "code",
   "execution_count": 26,
   "metadata": {},
   "outputs": [
    {
     "data": {
      "text/plain": [
       "{'input_ids': tensor([[21017, 46486,    25,   198,  2437,   857, 14821, 14492,   670,    13,\n",
       "           198,   198, 21017, 18261,    25,   198]]), 'attention_mask': tensor([[1, 1, 1, 1, 1, 1, 1, 1, 1, 1, 1, 1, 1, 1, 1, 1]])}"
      ]
     },
     "execution_count": 26,
     "metadata": {},
     "output_type": "execute_result"
    }
   ],
   "source": [
    "inputs = tokenizer(text, return_tensors=\"pt\", padding=True, truncation=True, max_length=512)\n",
    "inputs"
   ]
  },
  {
   "cell_type": "code",
   "execution_count": 27,
   "metadata": {},
   "outputs": [
    {
     "data": {
      "text/plain": [
       "device(type='cuda')"
      ]
     },
     "execution_count": 27,
     "metadata": {},
     "output_type": "execute_result"
    }
   ],
   "source": [
    "device = torch.device(\"cuda\" if torch.cuda.is_available() else \"cpu\")\n",
    "device"
   ]
  },
  {
   "cell_type": "code",
   "execution_count": 28,
   "metadata": {},
   "outputs": [],
   "source": [
    "model.to(device)\n",
    "inputs = {k: v.to(device) for k, v in inputs.items()}"
   ]
  },
  {
   "cell_type": "code",
   "execution_count": 29,
   "metadata": {},
   "outputs": [],
   "source": [
    "with torch.no_grad():\n",
    "    outputs = model.generate(\n",
    "        input_ids=inputs[\"input_ids\"],\n",
    "        attention_mask=inputs[\"attention_mask\"],\n",
    "        max_new_tokens=150,\n",
    "        temperature=0.7,\n",
    "        do_sample=True,\n",
    "        pad_token_id=tokenizer.eos_token_id\n",
    "    )"
   ]
  },
  {
   "cell_type": "code",
   "execution_count": 30,
   "metadata": {},
   "outputs": [
    {
     "name": "stdout",
     "output_type": "stream",
     "text": [
      "### Instruction:\n",
      "How does quantum computing work.\n",
      "\n",
      "### Response:\n",
      "\n",
      "This paper has been accepted to the IEEE International Conference on Information Security and Computer Systems (ICISC), the Conference on Computer and Information Security (CISC) and the Proceedings of the Conference on Computer and Information Security (CISC) in Paris, France, as well as to the International Conference on Information Security and Computer Systems (ICISC) in Amsterdam, Netherlands (IISC) in June 2014.\n",
      "\n",
      "### References:\n",
      "\n",
      "[1] http://www.cs.berkeley.edu/~simmons/~gordon/papers/1.pdf\n",
      "\n",
      "[2] http://www.cs.berkeley.edu/~simmons/~gordon/papers/2.pdf\n"
     ]
    }
   ],
   "source": [
    "response_text = tokenizer.decode(outputs[0], skip_special_tokens=True)\n",
    "print(response_text)"
   ]
  },
  {
   "cell_type": "code",
   "execution_count": 31,
   "metadata": {},
   "outputs": [
    {
     "name": "stdout",
     "output_type": "stream",
     "text": [
      "This paper has been accepted to the IEEE International Conference on Information Security and Computer Systems (ICISC), the Conference on Computer and Information Security (CISC) and the Proceedings of the Conference on Computer and Information Security (CISC) in Paris, France, as well as to the International Conference on Information Security and Computer Systems (ICISC) in Amsterdam, Netherlands (IISC) in June 2014.\n",
      "\n",
      "### References:\n",
      "\n",
      "[1] http://www.cs.berkeley.edu/~simmons/~gordon/papers/1.pdf\n",
      "\n",
      "[2] http://www.cs.berkeley.edu/~simmons/~gordon/papers/2.pdf\n"
     ]
    }
   ],
   "source": [
    "generated_part = response_text[len(text):]\n",
    "print(generated_part.strip())"
   ]
  },
  {
   "cell_type": "code",
   "execution_count": null,
   "metadata": {},
   "outputs": [],
   "source": []
  },
  {
   "cell_type": "code",
   "execution_count": 32,
   "metadata": {},
   "outputs": [
    {
     "name": "stdout",
     "output_type": "stream",
     "text": [
      "Quantum computing works by using quantum-mechanical phenomena, such as superposition and entanglement, to perform operations on data. This allows quantum computers to be much faster and more efficient at certain computations compared to traditional computers. Quantum computing relies on the manipulation of qubits - units of information that can exist in multiple states at any given time - in order to perform calculations and solve problems. By using quantum effects, a quantum computer can process multiple states simultaneously, allowing it to carry out complex computations in a fraction of the time of a classical computer.\n"
     ]
    }
   ],
   "source": [
    "text = formatted_dataset['completion'][10]\n",
    "print(text)"
   ]
  },
  {
   "cell_type": "markdown",
   "metadata": {},
   "source": [
    "###    `Relevance Failure:a` The model completely failed to answer the actual question. The prompt asked for an explanation of quantum computing, but the model generated text about a paper being accepted to academic conferences. The response is entirely off-topic.\n",
    "\n"
   ]
  },
  {
   "cell_type": "code",
   "execution_count": null,
   "metadata": {},
   "outputs": [],
   "source": []
  }
 ],
 "metadata": {
  "kernelspec": {
   "display_name": "Python 3",
   "language": "python",
   "name": "python3"
  },
  "language_info": {
   "codemirror_mode": {
    "name": "ipython",
    "version": 3
   },
   "file_extension": ".py",
   "mimetype": "text/x-python",
   "name": "python",
   "nbconvert_exporter": "python",
   "pygments_lexer": "ipython3",
   "version": "3.8.10"
  }
 },
 "nbformat": 4,
 "nbformat_minor": 2
}
