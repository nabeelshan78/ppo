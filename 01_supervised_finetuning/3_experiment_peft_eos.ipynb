{
 "cells": [
  {
   "cell_type": "markdown",
   "metadata": {},
   "source": [
    "# Supervised Fine-Tuning (SFT): QLoRA with Explicit EOS Tokens\n",
    "\n",
    "This notebook is an experiment building on the previous QLoRA fine-tuning. The key difference is the data preparation step.\n",
    "\n",
    "### **Objective:**\n",
    "- Investigate if explicitly teaching the model when to stop generating improves response quality and reduces rambling.\n",
    "- **Method:** We add a special End-Of-Sequence (`<|endoftext|>`) token to the end of every \"completion\" in the training and test datasets before starting the QLoRA training process."
   ]
  },
  {
   "cell_type": "code",
   "execution_count": 46,
   "metadata": {},
   "outputs": [],
   "source": [
    "# !pip install transformers==4.43.4\n",
    "# !pip install torch\n",
    "# # !pip install trl\n",
    "# !pip install trl==0.11\n",
    "# !pip install peft\n",
    "# !pip install --upgrade tqdm\n",
    "# !pip install -U bitsandbytes\n",
    "# !pip install --upgrade jinja2"
   ]
  },
  {
   "cell_type": "code",
   "execution_count": 47,
   "metadata": {},
   "outputs": [],
   "source": [
    "import torch\n",
    "from transformers import AutoModelForCausalLM, AutoTokenizer, BitsAndBytesConfig, TrainingArguments\n",
    "from peft import LoraConfig\n",
    "from trl import SFTTrainer"
   ]
  },
  {
   "cell_type": "code",
   "execution_count": 48,
   "metadata": {},
   "outputs": [],
   "source": [
    "from prepare_data import get_sft_datasets"
   ]
  },
  {
   "cell_type": "code",
   "execution_count": 49,
   "metadata": {},
   "outputs": [
    {
     "name": "stdout",
     "output_type": "stream",
     "text": [
      "Loading and processing dataset\n",
      "Dataset split into 31485 training examples and 1658 testing examples.\n",
      "Dataset processing complete.\n"
     ]
    }
   ],
   "source": [
    "train_dataset, test_dataset = get_sft_datasets(dataset_name='my-local-dataset/')"
   ]
  },
  {
   "cell_type": "code",
   "execution_count": 50,
   "metadata": {},
   "outputs": [],
   "source": [
    "tokenizer = AutoTokenizer.from_pretrained('gpt2')"
   ]
  },
  {
   "cell_type": "code",
   "execution_count": 51,
   "metadata": {},
   "outputs": [],
   "source": [
    "def add_eos_token(sample):\n",
    "    sample[\"completion\"] = sample[\"completion\"] + tokenizer.eos_token\n",
    "    return sample"
   ]
  },
  {
   "cell_type": "code",
   "execution_count": 52,
   "metadata": {},
   "outputs": [],
   "source": [
    "train_dataset = train_dataset.map(add_eos_token)\n",
    "test_dataset = test_dataset.map(add_eos_token)"
   ]
  },
  {
   "cell_type": "code",
   "execution_count": null,
   "metadata": {},
   "outputs": [],
   "source": []
  },
  {
   "cell_type": "code",
   "execution_count": 53,
   "metadata": {},
   "outputs": [
    {
     "name": "stdout",
     "output_type": "stream",
     "text": [
      "\n",
      "--- Train Set Verification ---\n",
      "Train dataset size: 31485 examples\n",
      "Features: {'prompt': Value(dtype='string', id=None), 'completion': Value(dtype='string', id=None)}\n",
      "\n",
      "PROMPT: ### Instruction:\n",
      "What are some tips for developing a better mental attitude towards difficult tasks.\n",
      "\n",
      "### Response:\n",
      "\n",
      "COMPLETION: Break difficult tasks down into manageable pieces. \n",
      "2. Take things one step at a time and reward yourself for small accomplishments. \n",
      "3. Visualize yourself succeeding in the task. \n",
      "4. Focus on the process rather than the outcome. \n",
      "5. Remind yourself that you are capable of completing the task.\n",
      "6. Believe in yourself and your ability to find new solutions to problems. \n",
      "7. Give yourself positive affirmations and build a positive mindset.\n",
      "8. Eliminate distractions and prioritize meaningful tasks. \n",
      "9. Take time to refocus and regroup when necessary. \n",
      "10. Surround yourself with positive people who will help you stay focused on your goals.<|endoftext|>\n",
      "\n",
      "--- Test Set Verification ---\n",
      "Test dataset size: 1658 examples\n",
      "Features: {'prompt': Value(dtype='string', id=None), 'completion': Value(dtype='string', id=None)}\n",
      "\n",
      "PROMPT: ### Instruction:\n",
      "What are the different types of loans I can apply for to purchase a house.\n",
      "\n",
      "### Response:\n",
      "\n",
      "COMPLETION: Conventional Loans  \n",
      "\t\t\t2  FHA Loans  \n",
      "\t\t\t3  VA Loans \n",
      "\t\t\t4  USDA Loans \n",
      "\t\t\t5  Home Equity Loans \n",
      "\t\t\t6  Balloon Mortgages \n",
      "\t\t\t7  Adjustable Rate Mortgages (ARMs) \n",
      "\t\t\t8  Jumbo Mortgage Loans.<|endoftext|>\n"
     ]
    }
   ],
   "source": [
    "print(\"\\n--- Train Set Verification ---\")\n",
    "print(f\"Train dataset size: {len(train_dataset)} examples\")\n",
    "print(\"Features:\", train_dataset.features)\n",
    "print(\"\\nPROMPT:\", train_dataset[0]['prompt'])\n",
    "print(\"COMPLETION:\", train_dataset[0]['completion'])\n",
    "    \n",
    "print(\"\\n--- Test Set Verification ---\")\n",
    "print(f\"Test dataset size: {len(test_dataset)} examples\")\n",
    "print(\"Features:\", test_dataset.features)\n",
    "print(\"\\nPROMPT:\", test_dataset[0]['prompt'])\n",
    "print(\"COMPLETION:\", test_dataset[0]['completion'])"
   ]
  },
  {
   "cell_type": "code",
   "execution_count": 54,
   "metadata": {},
   "outputs": [
    {
     "data": {
      "text/plain": [
       "Dataset({\n",
       "    features: ['prompt', 'completion'],\n",
       "    num_rows: 31485\n",
       "})"
      ]
     },
     "execution_count": 54,
     "metadata": {},
     "output_type": "execute_result"
    }
   ],
   "source": [
    "train_dataset"
   ]
  },
  {
   "cell_type": "code",
   "execution_count": 55,
   "metadata": {},
   "outputs": [
    {
     "data": {
      "text/plain": [
       "Dataset({\n",
       "    features: ['prompt', 'completion'],\n",
       "    num_rows: 1658\n",
       "})"
      ]
     },
     "execution_count": 55,
     "metadata": {},
     "output_type": "execute_result"
    }
   ],
   "source": [
    "test_dataset"
   ]
  },
  {
   "cell_type": "code",
   "execution_count": null,
   "metadata": {},
   "outputs": [],
   "source": []
  },
  {
   "cell_type": "code",
   "execution_count": null,
   "metadata": {},
   "outputs": [],
   "source": []
  },
  {
   "cell_type": "code",
   "execution_count": 56,
   "metadata": {},
   "outputs": [
    {
     "name": "stdout",
     "output_type": "stream",
     "text": [
      "CUDA available: True\n",
      "GPU count: 1\n",
      "GPU name: NVIDIA A10G\n"
     ]
    }
   ],
   "source": [
    "print(\"CUDA available:\", torch.cuda.is_available())\n",
    "print(\"GPU count:\", torch.cuda.device_count())\n",
    "if torch.cuda.is_available():\n",
    "    print(\"GPU name:\", torch.cuda.get_device_name(0))"
   ]
  },
  {
   "cell_type": "code",
   "execution_count": null,
   "metadata": {},
   "outputs": [],
   "source": []
  },
  {
   "cell_type": "code",
   "execution_count": 57,
   "metadata": {},
   "outputs": [],
   "source": [
    "# Model and tokenizer names\n",
    "model_name = \"gpt2\"\n",
    "\n",
    "tokenizer = AutoTokenizer.from_pretrained(model_name)\n",
    "tokenizer.pad_token = tokenizer.eos_token "
   ]
  },
  {
   "cell_type": "code",
   "execution_count": 58,
   "metadata": {},
   "outputs": [
    {
     "data": {
      "text/plain": [
       "'<|endoftext|>'"
      ]
     },
     "execution_count": 58,
     "metadata": {},
     "output_type": "execute_result"
    }
   ],
   "source": [
    "tokenizer.eos_token"
   ]
  },
  {
   "cell_type": "code",
   "execution_count": null,
   "metadata": {},
   "outputs": [],
   "source": []
  },
  {
   "cell_type": "code",
   "execution_count": 59,
   "metadata": {},
   "outputs": [],
   "source": [
    "bnb_config = BitsAndBytesConfig(\n",
    "    load_in_4bit=True,\n",
    "    bnb_4bit_quant_type=\"nf4\",\n",
    "    bnb_4bit_compute_dtype=torch.float16,\n",
    ")"
   ]
  },
  {
   "cell_type": "code",
   "execution_count": 60,
   "metadata": {},
   "outputs": [],
   "source": [
    "model = AutoModelForCausalLM.from_pretrained(\n",
    "    model_name,\n",
    "    quantization_config=bnb_config,\n",
    "    device_map=\"auto\",\n",
    ")\n",
    "model.config.use_cache = False # Disable caching for training"
   ]
  },
  {
   "cell_type": "code",
   "execution_count": null,
   "metadata": {},
   "outputs": [],
   "source": []
  },
  {
   "cell_type": "code",
   "execution_count": null,
   "metadata": {},
   "outputs": [],
   "source": []
  },
  {
   "cell_type": "code",
   "execution_count": 65,
   "metadata": {},
   "outputs": [],
   "source": [
    "lora_config = LoraConfig(\n",
    "    r=16,                \n",
    "    lora_alpha=32,       \n",
    "    target_modules=[\"c_attn\"],\n",
    "    lora_dropout=0.05,\n",
    "    bias=\"none\",\n",
    "    task_type=\"CAUSAL_LM\"\n",
    ")"
   ]
  },
  {
   "cell_type": "code",
   "execution_count": 29,
   "metadata": {},
   "outputs": [],
   "source": [
    "training_args = TrainingArguments(\n",
    "    output_dir=\"./sft_results_2\",\n",
    "    num_train_epochs=4,\n",
    "    per_device_train_batch_size=4,\n",
    "    per_device_eval_batch_size=4,\n",
    "    gradient_accumulation_steps=4,\n",
    "    optim=\"paged_adamw_8bit\",\n",
    "    learning_rate=2e-4,\n",
    "    fp16=True,\n",
    "    max_grad_norm=0.3,\n",
    "    warmup_ratio=0.03,\n",
    "    lr_scheduler_type=\"constant\",\n",
    "    logging_steps=50,\n",
    "    logging_first_step=True,\n",
    "    eval_strategy=\"steps\",      \n",
    "    eval_steps=500,             \n",
    "    save_steps=500,             \n",
    "    save_total_limit=2,         \n",
    "    load_best_model_at_end=True\n",
    ")"
   ]
  },
  {
   "cell_type": "code",
   "execution_count": 30,
   "metadata": {},
   "outputs": [],
   "source": [
    "trainer = SFTTrainer(\n",
    "    model=model,\n",
    "    train_dataset=train_dataset,\n",
    "    eval_dataset=test_dataset,\n",
    "    peft_config=lora_config,\n",
    "    tokenizer=tokenizer,\n",
    "    args=training_args,\n",
    "    max_seq_length=1024,\n",
    ")"
   ]
  },
  {
   "cell_type": "markdown",
   "metadata": {},
   "source": [
    "##  Start training"
   ]
  },
  {
   "cell_type": "code",
   "execution_count": 31,
   "metadata": {
    "scrolled": true
   },
   "outputs": [
    {
     "data": {
      "text/html": [
       "\n",
       "    <div>\n",
       "      \n",
       "      <progress value='7872' max='7872' style='width:300px; height:20px; vertical-align: middle;'></progress>\n",
       "      [7872/7872 06:55, Epoch 4/4]\n",
       "    </div>\n",
       "    <table border=\"1\" class=\"dataframe\">\n",
       "  <thead>\n",
       " <tr style=\"text-align: left;\">\n",
       "      <th>Step</th>\n",
       "      <th>Training Loss</th>\n",
       "      <th>Validation Loss</th>\n",
       "    </tr>\n",
       "  </thead>\n",
       "  <tbody>\n",
       "    <tr>\n",
       "      <td>6000</td>\n",
       "      <td>1.951500</td>\n",
       "      <td>1.852630</td>\n",
       "    </tr>\n",
       "    <tr>\n",
       "      <td>6500</td>\n",
       "      <td>1.974800</td>\n",
       "      <td>1.847742</td>\n",
       "    </tr>\n",
       "    <tr>\n",
       "      <td>7000</td>\n",
       "      <td>1.959700</td>\n",
       "      <td>1.845950</td>\n",
       "    </tr>\n",
       "    <tr>\n",
       "      <td>7500</td>\n",
       "      <td>1.956800</td>\n",
       "      <td>1.842180</td>\n",
       "    </tr>\n",
       "  </tbody>\n",
       "</table><p>"
      ],
      "text/plain": [
       "<IPython.core.display.HTML object>"
      ]
     },
     "metadata": {},
     "output_type": "display_data"
    },
    {
     "data": {
      "text/plain": [
       "TrainOutput(global_step=7872, training_loss=0.4915966784081808, metrics={'train_runtime': 415.7917, 'train_samples_per_second': 302.892, 'train_steps_per_second': 18.933, 'total_flos': 1.1323868512720896e+16, 'train_loss': 0.4915966784081808, 'epoch': 4.0})"
      ]
     },
     "execution_count": 31,
     "metadata": {},
     "output_type": "execute_result"
    }
   ],
   "source": [
    "trainer.train(resume_from_checkpoint='sft_results/checkpoint-5904/')"
   ]
  },
  {
   "cell_type": "code",
   "execution_count": null,
   "metadata": {},
   "outputs": [],
   "source": []
  },
  {
   "cell_type": "code",
   "execution_count": 32,
   "metadata": {},
   "outputs": [
    {
     "data": {
      "text/plain": [
       "('./peft_sft_final_checkpoint_2/tokenizer_config.json',\n",
       " './peft_sft_final_checkpoint_2/special_tokens_map.json',\n",
       " './peft_sft_final_checkpoint_2/vocab.json',\n",
       " './peft_sft_final_checkpoint_2/merges.txt',\n",
       " './peft_sft_final_checkpoint_2/added_tokens.json',\n",
       " './peft_sft_final_checkpoint_2/tokenizer.json')"
      ]
     },
     "execution_count": 32,
     "metadata": {},
     "output_type": "execute_result"
    }
   ],
   "source": [
    "trainer.save_model(\"./peft_sft_final_checkpoint_2\")\n",
    "tokenizer.save_pretrained(\"./peft_sft_final_checkpoint_2\")"
   ]
  },
  {
   "cell_type": "code",
   "execution_count": null,
   "metadata": {},
   "outputs": [],
   "source": []
  },
  {
   "cell_type": "code",
   "execution_count": 62,
   "metadata": {},
   "outputs": [
    {
     "name": "stdout",
     "output_type": "stream",
     "text": [
      "\n",
      "Loading base gpt2 model...\n",
      "Loading PEFT fine-tuned SFT model...\n"
     ]
    }
   ],
   "source": [
    "device = torch.device(\"cuda\" if torch.cuda.is_available() else \"cpu\")\n",
    "\n",
    "print(\"\\nLoading base gpt2 model...\")\n",
    "base_model = AutoModelForCausalLM.from_pretrained(\"gpt2\").to(device)\n",
    "base_tokenizer = AutoTokenizer.from_pretrained(\"gpt2\")\n",
    "\n",
    "print(\"Loading PEFT fine-tuned SFT model...\")\n",
    "sft_model = AutoModelForCausalLM.from_pretrained(\"./peft_sft_final_checkpoint_2\").to(device)\n",
    "sft_tokenizer = AutoTokenizer.from_pretrained(\"./peft_sft_final_checkpoint_2\")"
   ]
  },
  {
   "cell_type": "code",
   "execution_count": 38,
   "metadata": {},
   "outputs": [],
   "source": [
    "def generate_response(model, tokenizer, prompt_text):\n",
    "    \"\"\"\n",
    "    Generates a response from a given model and tokenizer.\n",
    "    \"\"\"\n",
    "    \n",
    "    formatted_prompt = f\"### Instruction:\\n{prompt_text}\\n\\n### Response:\\n\"\n",
    "    \n",
    "    inputs = tokenizer(formatted_prompt, return_tensors=\"pt\").to(device)\n",
    "    \n",
    "    with torch.no_grad():\n",
    "        outputs = model.generate(\n",
    "            **inputs,\n",
    "            max_new_tokens=500,\n",
    "            temperature=0.7,  \n",
    "            do_sample=True, \n",
    "        )\n",
    "    \n",
    "    full_response = tokenizer.decode(outputs[0], skip_special_tokens=True)\n",
    "    return full_response[len(formatted_prompt):].strip()"
   ]
  },
  {
   "cell_type": "code",
   "execution_count": 41,
   "metadata": {},
   "outputs": [],
   "source": [
    "def evaluate_models(prompt, ground_truth, models):\n",
    "    print(\"\\n\" + \"=\"*60)\n",
    "    print(\" PERFORMANCE COMPARISON \".center(60, \"=\"))\n",
    "    print(\"=\"*60)\n",
    "\n",
    "    print(f\"\\nPROMPT:\\n{prompt}\\n\")\n",
    "    print(f\"GROUND TRUTH:\\n{ground_truth}\\n\")\n",
    "\n",
    "    for name, model, tokenizer in models:\n",
    "        print(f\"\\n--- {name.upper()} RESPONSE ---\")\n",
    "        response = generate_response(model, tokenizer, prompt)\n",
    "        print(response)\n",
    "\n",
    "    print(\"\\n\" + \"=\"*60)\n",
    "\n",
    "models_to_compare = [\n",
    "    (\"Base Model (GPT-2)\", base_model, base_tokenizer),\n",
    "    (\"PEFT SFT Model\", sft_model, sft_tokenizer),\n",
    "]"
   ]
  },
  {
   "cell_type": "code",
   "execution_count": 42,
   "metadata": {},
   "outputs": [
    {
     "name": "stderr",
     "output_type": "stream",
     "text": [
      "Setting `pad_token_id` to `eos_token_id`:50256 for open-end generation.\n"
     ]
    },
    {
     "name": "stdout",
     "output_type": "stream",
     "text": [
      "\n",
      "============================================================\n",
      "================== PERFORMANCE COMPARISON ==================\n",
      "============================================================\n",
      "\n",
      "PROMPT:\n",
      "### Instruction:\n",
      "What is the best way to clean and care for leather shoes.\n",
      "\n",
      "### Response:\n",
      "\n",
      "\n",
      "GROUND TRUTH:\n",
      "The best way to clean and care for leather shoes is to start by using a leather cleaner specifically designed for the type of leather used. This will not only help keep them clean, but also help protect the leather from the elements. Once cleaned, apply a leather conditioner to help keep the leather soft and supple. Finally, use a leather polish to help add luster and protection. Reapply the products every couple of months to keep your shoes looking their best.<|endoftext|>\n",
      "\n",
      "\n",
      "--- BASE MODEL (GPT-2) RESPONSE ---\n"
     ]
    },
    {
     "name": "stderr",
     "output_type": "stream",
     "text": [
      "Setting `pad_token_id` to `eos_token_id`:50256 for open-end generation.\n"
     ]
    },
    {
     "name": "stdout",
     "output_type": "stream",
     "text": [
      "What is the best way to prevent the loss of leather shoes.\n",
      "\n",
      "### Response:\n",
      "\n",
      "\n",
      "### Response:\n",
      "\n",
      "What are the best ways to prevent the loss of leather shoes in the home.\n",
      "\n",
      "### Response:\n",
      "\n",
      "\n",
      "### Response: What is the best way to prevent the loss of leather shoes when you're not in the house.\n",
      "\n",
      "### Response:\n",
      "\n",
      "\n",
      "### Response: What is the best way to prevent the loss of leather shoes when you're in a room with a door that's not locked.\n",
      "\n",
      "### Response:\n",
      "\n",
      "\n",
      "### Response: What is the best way to prevent the loss of leather shoes when you're on the property and not in your home.\n",
      "\n",
      "### Response:\n",
      "\n",
      "\n",
      "### Response: What is the best way to prevent the loss of leather shoes when you're on the property when your house has no locks.\n",
      "\n",
      "### Response:\n",
      "\n",
      "\n",
      "### Response: What is the best way to prevent the loss of leather shoes when you're in a room with a locked door.\n",
      "\n",
      "### Response:\n",
      "\n",
      "\n",
      "### Response: What is the best way to prevent the loss of leather shoes when you're having your furniture turned on when your home is full of people.\n",
      "\n",
      "### Response:\n",
      "\n",
      "\n",
      "### Response: What is the best way to prevent the loss of leather shoes when you're getting your furniture started on the property when your house is full of people.\n",
      "\n",
      "### Response:\n",
      "\n",
      "\n",
      "### Response: What is the best way to prevent the loss of leather shoes when you're getting your furniture started on the property when your house is full of people.\n",
      "\n",
      "### Response:\n",
      "\n",
      "\n",
      "### Response: What is the best way to prevent the loss of leather shoes when you're in a room with a locked door, which is full of people.\n",
      "\n",
      "### Response:\n",
      "\n",
      "\n",
      "### Response: What is the best way to prevent the loss of leather shoes when you're outside your home when your house has no locks.\n",
      "\n",
      "##### What is the best way to prevent the loss of leather shoes?\n",
      "\n",
      "# Response:\n",
      "\n",
      "\n",
      "### Response: What is the best way to prevent the loss of leather shoes when you're outside your home when your house has no locks.\n",
      "\n",
      "### Response:\n",
      "\n",
      "\n",
      "### Response: What is the best way to prevent the loss of leather shoes when you're at home when you're not in your home.\n",
      "\n",
      "# Response:\n",
      "\n",
      "\n",
      "### Response: What\n",
      "\n",
      "--- PEFT SFT MODEL RESPONSE ---\n",
      "The best way to clean leather shoes is to create a clean and comfortable shoe that is comfortable, comfortable to wear, and provides a clean and comfortable feel. After cleaning, rinse with warm water and dry thoroughly with a clean cloth or a mild soap. It is also important to rinse with water or with a mild detergent before using. It is also important to wash your shoes regularly with water to avoid rubbing yourself on the leather. Lastly, it is important to wear shoes with laces or petticoats to help prevent them from rubbing against the skin. Finally, wear a lightweight suit or skirt to keep your feet warm and protected. It is important to take extra care to wash your shoes regularly with soft cloths or gloves to keep them dry. Finally, consult a leather professional to ensure that their shoes are properly cared for and that they are not exposed to harmful bacteria or other harmful bacteria. Finally, wear a protective eye liner to protect your feet from contact with the environment. Finally, use a variety of soles, cushioning, and laces to keep your feet warm and comfortable. It is also important to keep your feet warm with a soft cover or mask to keep your feet warm from sunlight and cold. Lastly, keep your feet warm with a warm towel and water to keep them dry. Finally, don’t forget to use an air freshener to keep your feet warm and dry. Lastly, make sure to use a soft cloth to help prevent scabs or scratches. Finally, don’t forget to wear a pair of sandals or a liner to keep your feet dry from sunburn. Finally, keep your feet warm with a soft cloth or suit or skirt to keep your feet warm and comfortable. Finally, don’t forget to use a lightweight coat or scarf to protect them from sunburn. It is important to take extra care to make sure your feet are not exposed to harmful bacteria or other harmful bacteria. Finally, wear a protective eye liner to keep your feet warm and comfortable. Finally, don’t forget to use a soft cover or mask to keep your feet warm and comfortable. Lastly, keep your feet warm with a soft cloth or suit or skirt to keep your feet warm and comfortable. Finally, don’t forget to wear a pair of sandals or a liner to keep your feet warm and comfortable. Finally, don’t forget to use a soft cloth or suit or skirt to protect them from sunburn.\n",
      "\n",
      "============================================================\n"
     ]
    }
   ],
   "source": [
    "idx = 10\n",
    "prompt = test_dataset[idx][\"prompt\"]\n",
    "ground_truth = test_dataset[idx][\"completion\"]\n",
    "\n",
    "\n",
    "evaluate_models(prompt, ground_truth, models_to_compare)"
   ]
  },
  {
   "cell_type": "code",
   "execution_count": 43,
   "metadata": {},
   "outputs": [
    {
     "name": "stderr",
     "output_type": "stream",
     "text": [
      "Setting `pad_token_id` to `eos_token_id`:50256 for open-end generation.\n"
     ]
    },
    {
     "name": "stdout",
     "output_type": "stream",
     "text": [
      "\n",
      "============================================================\n",
      "================== PERFORMANCE COMPARISON ==================\n",
      "============================================================\n",
      "\n",
      "PROMPT:\n",
      "### Instruction:\n",
      "I want to shop for a new car. What should I look for in price, features, and safety.\n",
      "\n",
      "### Response:\n",
      "\n",
      "\n",
      "GROUND TRUTH:\n",
      "For price, look for a car that fits your budget. Consider the total cost, including maintenance, registration, and insurance. When it comes to features, think about what is most important to you. Do you need a lot of cargo space? Or are you looking for the latest technology? When it comes to safety, look for a car with the latest safety features, like lane-keeping assist, adaptive cruise control, and blind spot monitoring. Additionally, consider the car’s ratings in crash tests and look for features like airbags, anti-lock brakes, and anti-theft systems.<|endoftext|>\n",
      "\n",
      "\n",
      "--- BASE MODEL (GPT-2) RESPONSE ---\n"
     ]
    },
    {
     "name": "stderr",
     "output_type": "stream",
     "text": [
      "Setting `pad_token_id` to `eos_token_id`:50256 for open-end generation.\n"
     ]
    },
    {
     "name": "stdout",
     "output_type": "stream",
     "text": [
      "I want to buy a new car. What should I look for in price, features, and safety.\n",
      "\n",
      "### Response:\n",
      "\n",
      "\n",
      "### Response:\n",
      "\n",
      "I want to make the car more comfortable. What should I look for in price, features, and safety.\n",
      "\n",
      "### Response:\n",
      "\n",
      "\n",
      "### Response:\n",
      "\n",
      "I want to make the car more comfortable. What should I look for in price, features, and safety.\n",
      "\n",
      "### Response:\n",
      "\n",
      "\n",
      "### Response:\n",
      "\n",
      "I want to buy a new car. What should I look for in price, features, and safety.\n",
      "\n",
      "### Response:\n",
      "\n",
      "\n",
      "### Response:\n",
      "\n",
      "I want to make the car more comfortable. What should I look for in price, features, and safety.\n",
      "\n",
      "### Response:\n",
      "\n",
      "\n",
      "### Response:\n",
      "\n",
      "I want to make the car more comfortable. What should I look for in price, features, and safety.\n",
      "\n",
      "### Response:\n",
      "\n",
      "\n",
      "### Response:\n",
      "\n",
      "I want to make the car more comfortable. What should I look for in price, features, and safety.\n",
      "\n",
      "### Response:\n",
      "\n",
      "\n",
      "### Response:\n",
      "\n",
      "I want to make the car more comfortable. What should I look for in price, features, and safety.\n",
      "\n",
      "### Response:\n",
      "\n",
      "\n",
      "### Response:\n",
      "\n",
      "I want to make the car more comfortable. What should I look for in price, features, and safety.\n",
      "\n",
      "##### I will not sell this car.\n",
      "\n",
      "##### I want to make the car more comfortable. What should I look for in price, features, and safety.\n",
      "\n",
      "##### Response:\n",
      "\n",
      "\n",
      "### Response:\n",
      "\n",
      "I want to make the car more comfortable. What should I look for in price, features, and safety.\n",
      "\n",
      "### Response:\n",
      "\n",
      "\n",
      "### Response:\n",
      "\n",
      "I want to make the car more comfortable. What should I look for in price, features, and safety.\n",
      "\n",
      "### Response:\n",
      "\n",
      "\n",
      "### Response:\n",
      "\n",
      "I want to make the car more comfortable. What should I look for in price, features, and safety.\n",
      "\n",
      "### Response:\n",
      "\n",
      "\n",
      "### Response:\n",
      "\n",
      "I want to make the car more comfortable. What should I look for in price, features, and safety.\n",
      "\n",
      "##### I will not sell this car.\n",
      "\n",
      "##### I want to make the car more comfortable. What should I look for in price, features\n",
      "\n",
      "--- PEFT SFT MODEL RESPONSE ---\n",
      "Determining the price of a new car depends on your individual needs. Look for the type, type of car, and features that are the most appealing to you. Consider the type of car, its paint, tires, brakes, and engine to determine the most appealing and affordable option for you. Consider the price, style, and safety features, as well as the type of car to consider to find the most suitable option for you. Additionally, consider the price and features of the car’s interior and exterior to determine the best fit for your specific needs. Finally, consider the safety features of the car’s exterior and interior, as well as its interior and interior components to determine the best and safest option for you. Finally, consider the safety features of the car’s interior and interior components to determine the best and safest option for you. Finally, look for the best and safest option for you to find the best fit for your specific needs. Finally, consult with your insurance provider to make sure that the best and safest option that is available for you is the one that is best for you. Finally, consult with a professional shop or mechanic to make sure that the best and safest option that is available for you is the one that is best for you. It is also important to consider the different types of cars on the market, as well as the type of car’s history, price, and warranty and repair policies that apply to them. Finally, consult with your insurance company to make sure that the best and safest option for you is the one that is best for you. Finally, consult with a doctor or other professional to make sure that the best and safest option that is available for you is the one that is best for you. Finally, consult with a specialist shop or mechanic to make sure that the best and safest option that is available for you is the one that is best for you. In order to make sure that you have the best and safest option for yourself, it is important to research the options available online and compare them with other manufacturers. Stay tuned for more information about the different safety features of different types of car. It is also important to consult with your insurance provider to make sure that the best and safest option that is available for you is the one that is best for you. It is also important to consult with a specialist shop or mechanic to make sure that the best and safest option that is available for you is the one that is best\n",
      "\n",
      "============================================================\n"
     ]
    }
   ],
   "source": [
    "idx = 20\n",
    "prompt = test_dataset[idx][\"prompt\"]\n",
    "ground_truth = test_dataset[idx][\"completion\"]\n",
    "\n",
    "\n",
    "evaluate_models(prompt, ground_truth, models_to_compare)"
   ]
  },
  {
   "cell_type": "code",
   "execution_count": null,
   "metadata": {},
   "outputs": [],
   "source": []
  },
  {
   "cell_type": "code",
   "execution_count": null,
   "metadata": {},
   "outputs": [],
   "source": []
  },
  {
   "cell_type": "code",
   "execution_count": 44,
   "metadata": {},
   "outputs": [],
   "source": [
    "import json\n",
    "import matplotlib.pyplot as plt\n",
    "\n",
    "log_file = \"sft_results_2/checkpoint-7872/trainer_state.json\"\n",
    "\n",
    "# Read the log file\n",
    "with open(log_file, 'r') as f:\n",
    "    logs = json.load(f)\n",
    "\n",
    "# --- Prepare lists to store all metrics ---\n",
    "train_steps = []\n",
    "train_losses = []\n",
    "eval_steps = []\n",
    "eval_losses = []\n",
    "\n",
    "# --- Iterate through the log history and extract all data ---\n",
    "for log in logs[\"log_history\"]:\n",
    "    if \"loss\" in log:\n",
    "        train_steps.append(log[\"step\"])\n",
    "        train_losses.append(log[\"loss\"])\n",
    "    \n",
    "    elif \"eval_loss\" in log:\n",
    "        eval_steps.append(log[\"step\"])\n",
    "        eval_losses.append(log[\"eval_loss\"])"
   ]
  },
  {
   "cell_type": "code",
   "execution_count": 45,
   "metadata": {},
   "outputs": [
    {
     "data": {
      "image/png": "[encoded data removed]",
      "text/plain": [
       "<Figure size 1200x600 with 1 Axes>"
      ]
     },
     "metadata": {},
     "output_type": "display_data"
    }
   ],
   "source": [
    "fig, ax1 = plt.subplots(figsize=(12, 6))\n",
    "\n",
    "ax1.plot(train_steps, train_losses, 'b-', label=\"Training Loss\")\n",
    "ax1.plot(eval_steps, eval_losses, 'g-s', label=\"Validation Loss\", markersize=8) \n",
    "ax1.set_xlabel(\"Steps\", fontsize=12)\n",
    "ax1.set_ylabel(\"Loss\", color='b', fontsize=12)\n",
    "ax1.tick_params(axis='y', labelcolor='b')\n",
    "ax1.grid(True, which='both', linestyle='--', linewidth=0.5)\n",
    "\n",
    "plt.title(\"Training & Validation Losses Over Time\", fontsize=16)\n",
    "\n",
    "lines, labels = ax1.get_legend_handles_labels()\n",
    "ax1.legend(lines, labels, loc='upper right')\n",
    "\n",
    "plt.show()"
   ]
  },
  {
   "cell_type": "code",
   "execution_count": null,
   "metadata": {},
   "outputs": [],
   "source": []
  },
  {
   "cell_type": "code",
   "execution_count": null,
   "metadata": {},
   "outputs": [],
   "source": []
  },
  {
   "cell_type": "code",
   "execution_count": 63,
   "metadata": {},
   "outputs": [],
   "source": [
    "from peft import get_peft_model\n",
    "\n",
    "def print_trainable_parameters(model):\n",
    "    trainable_params = 0\n",
    "    all_param = 0\n",
    "    for _, param in model.named_parameters():\n",
    "        all_param += param.numel()\n",
    "        if param.requires_grad:\n",
    "            trainable_params += param.numel()\n",
    "    print(\n",
    "        f\"trainable params: {trainable_params} || all params: {all_param} || trainable%: {100 * trainable_params / all_param:.2f}\"\n",
    "    )"
   ]
  },
  {
   "cell_type": "code",
   "execution_count": 64,
   "metadata": {},
   "outputs": [
    {
     "name": "stdout",
     "output_type": "stream",
     "text": [
      "--- Base Model Parameters ---\n",
      "trainable params: 124439808 || all params: 124439808 || trainable%: 100.00\n"
     ]
    }
   ],
   "source": [
    "print(\"--- Base Model Parameters ---\")\n",
    "print_trainable_parameters(base_model)"
   ]
  },
  {
   "cell_type": "code",
   "execution_count": 67,
   "metadata": {},
   "outputs": [
    {
     "name": "stdout",
     "output_type": "stream",
     "text": [
      "\n",
      "--- PEFT Model Parameters ---\n",
      "trainable params: 589824 || all params: 125029632 || trainable%: 0.47\n"
     ]
    }
   ],
   "source": [
    "peft_model = get_peft_model(base_model, lora_config)\n",
    "\n",
    "print(\"\\n--- PEFT Model Parameters ---\")\n",
    "print_trainable_parameters(peft_model)"
   ]
  },
  {
   "cell_type": "code",
   "execution_count": null,
   "metadata": {},
   "outputs": [],
   "source": []
  }
 ],
 "metadata": {
  "kernelspec": {
   "display_name": "Python 3",
   "language": "python",
   "name": "python3"
  },
  "language_info": {
   "codemirror_mode": {
    "name": "ipython",
    "version": 3
   },
   "file_extension": ".py",
   "mimetype": "text/x-python",
   "name": "python",
   "nbconvert_exporter": "python",
   "pygments_lexer": "ipython3",
   "version": "3.8.10"
  }
 },
 "nbformat": 4,
 "nbformat_minor": 2
}
