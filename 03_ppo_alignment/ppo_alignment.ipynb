{
 "cells": [
  {
   "cell_type": "markdown",
   "metadata": {},
   "source": [
    "# Aligning the LLM with Proximal Policy Optimization (PPO)\n",
    "\n",
    "This notebook represents the final and most critical stage of the RLHF process. We take our Supervised Fine-Tuned (SFT) model and further refine its behavior using reinforcement learning.\n",
    "\n",
    "### The Goal:\n",
    "The objective is to steer the model's generations towards responses that our **Reward Model** deems high-quality, without straying too far from the coherent language patterns learned during the SFT phase.\n",
    "\n",
    "### Key Components:\n",
    "* **Policy Model**: The SFT model that we will actively train to maximize rewards.\n",
    "* **Reward Model**: A frozen \"judge\" that scores the Policy Model's outputs.\n",
    "* **Reference Model**: A frozen copy of the original SFT model used to calculate a KL-divergence penalty, preventing the policy from changing too drastically and \"forgetting\" how to generate good text.\n",
    "\n",
    "By the end of this process, we will have a PPO-aligned model that is optimized to generate helpful and harmless responses according to our learned reward function."
   ]
  },
  {
   "cell_type": "code",
   "execution_count": null,
   "metadata": {},
   "outputs": [],
   "source": [
    "# !pip install transformers==4.43.4\n",
    "# !pip install torch\n",
    "# !pip install trl==0.11\n",
    "# !pip install peft\n",
    "# !pip install tqdm\n",
    "# !pip install rouge_score\n",
    "# !pip install --upgrade tqdm"
   ]
  },
  {
   "cell_type": "code",
   "execution_count": null,
   "metadata": {},
   "outputs": [],
   "source": []
  },
  {
   "cell_type": "code",
   "execution_count": 61,
   "metadata": {},
   "outputs": [],
   "source": [
    "import numpy as np\n",
    "import os\n",
    "import torch\n",
    "from datasets import load_dataset\n",
    "from tqdm import tqdm\n",
    "from transformers import AutoTokenizer, GPT2ForSequenceClassification\n",
    "from transformers import DataCollatorWithPadding\n",
    "from peft import PeftModel\n",
    "from trl import PPOConfig, PPOTrainer, AutoModelForCausalLMWithValueHead"
   ]
  },
  {
   "cell_type": "markdown",
   "metadata": {},
   "source": [
    "### Load Configurations and Dependencies"
   ]
  },
  {
   "cell_type": "code",
   "execution_count": 3,
   "metadata": {},
   "outputs": [],
   "source": [
    "from ppo_config import BASE_MODEL_NAME, FULL_SFT_CHECKPOINT_PATH, RM_CHECKPOINT_PATH, PPO_CONFIG, DEVICE\n",
    "from prepare_data import get_sft_datasets"
   ]
  },
  {
   "cell_type": "markdown",
   "metadata": {},
   "source": [
    "### PPO Trainer Configuration"
   ]
  },
  {
   "cell_type": "code",
   "execution_count": 4,
   "metadata": {},
   "outputs": [],
   "source": [
    "ppo_config = PPOConfig(**PPO_CONFIG)"
   ]
  },
  {
   "cell_type": "markdown",
   "metadata": {},
   "source": [
    "### Load Tokenizer and Models "
   ]
  },
  {
   "cell_type": "code",
   "execution_count": 5,
   "metadata": {},
   "outputs": [],
   "source": [
    "# Loading the tokenizer for the Full-SFT model (which is the policy)\n",
    "tokenizer = AutoTokenizer.from_pretrained(BASE_MODEL_NAME, padding_side=\"left\")\n",
    "tokenizer.pad_token = tokenizer.eos_token"
   ]
  },
  {
   "cell_type": "code",
   "execution_count": 6,
   "metadata": {},
   "outputs": [
    {
     "data": {
      "text/plain": [
       "'./reward_model_output_new'"
      ]
     },
     "execution_count": 6,
     "metadata": {},
     "output_type": "execute_result"
    }
   ],
   "source": [
    "RM_CHECKPOINT_PATH"
   ]
  },
  {
   "cell_type": "code",
   "execution_count": 7,
   "metadata": {},
   "outputs": [
    {
     "data": {
      "text/plain": [
       "'./full_sft_final_checkpoint'"
      ]
     },
     "execution_count": 7,
     "metadata": {},
     "output_type": "execute_result"
    }
   ],
   "source": [
    "FULL_SFT_CHECKPOINT_PATH"
   ]
  },
  {
   "cell_type": "code",
   "execution_count": 8,
   "metadata": {},
   "outputs": [
    {
     "name": "stderr",
     "output_type": "stream",
     "text": [
      "Some weights of GPT2ForSequenceClassification were not initialized from the model checkpoint at gpt2 and are newly initialized: ['score.weight']\n",
      "You should probably TRAIN this model on a down-stream task to be able to use it for predictions and inference.\n"
     ]
    },
    {
     "name": "stdout",
     "output_type": "stream",
     "text": [
      "All models loaded successfully!\n"
     ]
    }
   ],
   "source": [
    "# Loading the Full-SFT model to be trained (the \"policy model\")\n",
    "# We use AutoModelForCausalLMWithValueHead to add a value head for PPO\n",
    "\n",
    "policy_model = AutoModelForCausalLMWithValueHead.from_pretrained(\n",
    "    FULL_SFT_CHECKPOINT_PATH,\n",
    "    is_trainable=True,\n",
    "    device_map=DEVICE\n",
    ").to(DEVICE)\n",
    "\n",
    "ref_model = AutoModelForCausalLMWithValueHead.from_pretrained(\n",
    "    FULL_SFT_CHECKPOINT_PATH,\n",
    "    device_map=DEVICE\n",
    ").to(DEVICE)\n",
    "\n",
    "\n",
    "# Load the Reward Model (frozen, for evaluation)\n",
    "\n",
    "reward_model = GPT2ForSequenceClassification.from_pretrained(RM_CHECKPOINT_PATH, num_labels=1).to(DEVICE)\n",
    "reward_model.eval()\n",
    "\n",
    "reward_model.config.pad_token_id = tokenizer.pad_token_id\n",
    "\n",
    "print(\"All models loaded successfully!\")"
   ]
  },
  {
   "cell_type": "markdown",
   "metadata": {},
   "source": [
    "### Prepare the Dataset"
   ]
  },
  {
   "cell_type": "code",
   "execution_count": 9,
   "metadata": {},
   "outputs": [
    {
     "name": "stdout",
     "output_type": "stream",
     "text": [
      "Loading and processing dataset\n",
      "Dataset split into 31485 training examples and 1658 testing examples.\n",
      "Dataset processing complete.\n"
     ]
    }
   ],
   "source": [
    "train_dataset, test_dataset = get_sft_datasets(\"./my-local-dataset/\")"
   ]
  },
  {
   "cell_type": "code",
   "execution_count": 10,
   "metadata": {},
   "outputs": [
    {
     "data": {
      "text/plain": [
       "Dataset({\n",
       "    features: ['prompt', 'completion'],\n",
       "    num_rows: 31485\n",
       "})"
      ]
     },
     "execution_count": 10,
     "metadata": {},
     "output_type": "execute_result"
    }
   ],
   "source": [
    "train_dataset"
   ]
  },
  {
   "cell_type": "code",
   "execution_count": 11,
   "metadata": {},
   "outputs": [
    {
     "data": {
      "text/plain": [
       "Dataset({\n",
       "    features: ['prompt', 'completion'],\n",
       "    num_rows: 1658\n",
       "})"
      ]
     },
     "execution_count": 11,
     "metadata": {},
     "output_type": "execute_result"
    }
   ],
   "source": [
    "test_dataset"
   ]
  },
  {
   "cell_type": "code",
   "execution_count": 12,
   "metadata": {},
   "outputs": [],
   "source": [
    "ppo_train_dataset = train_dataset.rename_column(\"prompt\", \"query\")\n",
    "ppo_test_dataset = test_dataset.rename_column(\"prompt\", \"query\")"
   ]
  },
  {
   "cell_type": "code",
   "execution_count": null,
   "metadata": {},
   "outputs": [],
   "source": []
  },
  {
   "cell_type": "code",
   "execution_count": 13,
   "metadata": {},
   "outputs": [],
   "source": [
    "def tokenize_prompt(sample):\n",
    "    tokenized = tokenizer(sample[\"query\"], truncation=True, max_length=512)\n",
    "    return tokenized"
   ]
  },
  {
   "cell_type": "code",
   "execution_count": 14,
   "metadata": {},
   "outputs": [
    {
     "data": {
      "application/vnd.jupyter.widget-view+json": {
       "model_id": "f81ff2a779ef4677898e8f182a2b61ed",
       "version_major": 2,
       "version_minor": 0
      },
      "text/plain": [
       "Map:   0%|          | 0/31485 [00:00<?, ? examples/s]"
      ]
     },
     "metadata": {},
     "output_type": "display_data"
    },
    {
     "data": {
      "application/vnd.jupyter.widget-view+json": {
       "model_id": "87c3ea39bba94a1ab596da68d6e5d8c0",
       "version_major": 2,
       "version_minor": 0
      },
      "text/plain": [
       "Map:   0%|          | 0/1658 [00:00<?, ? examples/s]"
      ]
     },
     "metadata": {},
     "output_type": "display_data"
    }
   ],
   "source": [
    "ppo_train_dataset = ppo_train_dataset.map(tokenize_prompt, remove_columns=ppo_train_dataset.features)\n",
    "ppo_test_dataset = ppo_test_dataset.map(tokenize_prompt, remove_columns=ppo_test_dataset.features)"
   ]
  },
  {
   "cell_type": "code",
   "execution_count": 15,
   "metadata": {},
   "outputs": [
    {
     "data": {
      "text/plain": [
       "Dataset({\n",
       "    features: ['input_ids', 'attention_mask'],\n",
       "    num_rows: 31485\n",
       "})"
      ]
     },
     "execution_count": 15,
     "metadata": {},
     "output_type": "execute_result"
    }
   ],
   "source": [
    "ppo_train_dataset"
   ]
  },
  {
   "cell_type": "code",
   "execution_count": 16,
   "metadata": {},
   "outputs": [
    {
     "name": "stdout",
     "output_type": "stream",
     "text": [
      "### Instruction:\n",
      "What are the different types of loans I can apply for to purchase a house.\n",
      "\n",
      "### Response:\n",
      "\n"
     ]
    }
   ],
   "source": [
    "print(tokenizer.decode(ppo_test_dataset[0]['input_ids']))"
   ]
  },
  {
   "cell_type": "markdown",
   "metadata": {},
   "source": [
    "### Initialize the PPOTrainer"
   ]
  },
  {
   "cell_type": "code",
   "execution_count": 17,
   "metadata": {},
   "outputs": [
    {
     "name": "stdout",
     "output_type": "stream",
     "text": [
      "PPOTrainer initialized.\n"
     ]
    }
   ],
   "source": [
    "# The PPOTrainer needs the policy model, a reference model (it creates one automatically if None),\n",
    "# the dataset of prompts, and the tokenizer.\n",
    "\n",
    "data_collator = DataCollatorWithPadding(tokenizer=tokenizer, return_tensors=\"pt\")\n",
    "\n",
    "ppo_trainer = PPOTrainer(\n",
    "    config=ppo_config,\n",
    "    model=policy_model,\n",
    "    ref_model=ref_model,\n",
    "    tokenizer=tokenizer,\n",
    "    dataset=ppo_train_dataset,\n",
    "    data_collator=data_collator\n",
    ")\n",
    "print(\"PPOTrainer initialized.\")"
   ]
  },
  {
   "cell_type": "code",
   "execution_count": 18,
   "metadata": {},
   "outputs": [],
   "source": [
    "generation_kwargs = {\n",
    "    \"min_length\": -1,\n",
    "    \"top_k\": 0.0,\n",
    "    \"top_p\": 1.0,\n",
    "    \"do_sample\": True,\n",
    "    \"pad_token_id\": tokenizer.eos_token_id,\n",
    "    \"max_new_tokens\": 150,\n",
    "}"
   ]
  },
  {
   "cell_type": "code",
   "execution_count": 19,
   "metadata": {
    "scrolled": false
   },
   "outputs": [],
   "source": [
    "test_batch = next(iter(ppo_trainer.dataloader))"
   ]
  },
  {
   "cell_type": "code",
   "execution_count": 20,
   "metadata": {},
   "outputs": [
    {
     "name": "stdout",
     "output_type": "stream",
     "text": [
      "Batch keys: dict_keys(['input_ids', 'attention_mask'])\n",
      "input_ids torch.Size([16, 39])\n",
      "attention_mask torch.Size([16, 39])\n",
      "\n",
      "Decoded prompt:\n",
      "<|endoftext|><|endoftext|><|endoftext|><|endoftext|><|endoftext|><|endoftext|><|endoftext|><|endoftext|><|endoftext|><|endoftext|><|endoftext|><|endoftext|><|endoftext|><|endoftext|><|endoftext|><|endoftext|>### Instruction:\n",
      "What are some simple steps I can take to improve my diet.\n",
      "\n",
      "### Response:\n",
      "\n"
     ]
    }
   ],
   "source": [
    "# See keys\n",
    "print(\"Batch keys:\", test_batch.keys())\n",
    "\n",
    "# Inspect shapes\n",
    "for k, v in test_batch.items():\n",
    "    print(k, v.shape)\n",
    "\n",
    "# Decode one sample\n",
    "print(\"\\nDecoded prompt:\")\n",
    "print(tokenizer.decode(test_batch[\"input_ids\"][0]))"
   ]
  },
  {
   "cell_type": "code",
   "execution_count": 21,
   "metadata": {},
   "outputs": [
    {
     "name": "stderr",
     "output_type": "stream",
     "text": [
      "You're using a GPT2TokenizerFast tokenizer. Please note that with a fast tokenizer, using the `__call__` method is faster than using a method to encode the text followed by a call to the `pad` method to get a padded encoding.\n"
     ]
    }
   ],
   "source": [
    "test_query_tensors = [q for q in test_batch[\"input_ids\"]]\n",
    "test_response_tensors = ppo_trainer.generate(test_query_tensors, return_prompt=False, **generation_kwargs)"
   ]
  },
  {
   "cell_type": "code",
   "execution_count": 22,
   "metadata": {},
   "outputs": [
    {
     "name": "stdout",
     "output_type": "stream",
     "text": [
      "16\n",
      "torch.Size([150])\n",
      "1. Regularly include at least 1 cup of whole grains, 3/4 cup of lean proteins, 3/4 cup of fruits and vegetables, and 3/4 cup of healthy fats. \n",
      "2. Reduce sodium, saturated fat, and added sugars, as well as calorie counting and avoid processed and sugary foods. \n",
      "3. Limit your intake of processed meats and limit processed sweeteners and take time to not consume caffeine and smoke. \n",
      "4. Eat as many avocados as you can during the day and limit processed while you are still alive. \n",
      "5. Drink plenty of water throughout the day, but clean your teeth to ensure you’re properly hydrated. \n",
      "6. Exercise regularly to help\n"
     ]
    }
   ],
   "source": [
    "print(len(test_response_tensors))             \n",
    "print(test_response_tensors[0].shape)         \n",
    "print(tokenizer.decode(test_response_tensors[0]))"
   ]
  },
  {
   "cell_type": "code",
   "execution_count": null,
   "metadata": {},
   "outputs": [],
   "source": []
  },
  {
   "cell_type": "code",
   "execution_count": 23,
   "metadata": {},
   "outputs": [
    {
     "data": {
      "text/plain": [
       "'1. Regularly include at least 1 cup of whole grains, 3/4 cup of lean proteins, 3/4 cup of fruits and vegetables, and 3/4 cup of healthy fats. \\n2. Reduce sodium, saturated fat, and added sugars, as well as calorie counting and avoid processed and sugary foods. \\n3. Limit your intake of processed meats and limit processed sweeteners and take time to not consume caffeine and smoke. \\n4. Eat as many avocados as you can during the day and limit processed while you are still alive. \\n5. Drink plenty of water throughout the day, but clean your teeth to ensure you’re properly hydrated. \\n6. Exercise regularly to help'"
      ]
     },
     "execution_count": 23,
     "metadata": {},
     "output_type": "execute_result"
    }
   ],
   "source": [
    "tokenizer.batch_decode(test_response_tensors, skip_special_tokens=True)[0]"
   ]
  },
  {
   "cell_type": "code",
   "execution_count": 24,
   "metadata": {},
   "outputs": [],
   "source": [
    "test_batch[\"response\"] = tokenizer.batch_decode(test_response_tensors, skip_special_tokens=True) "
   ]
  },
  {
   "cell_type": "code",
   "execution_count": 25,
   "metadata": {},
   "outputs": [],
   "source": [
    "test_prompt_texts = tokenizer.batch_decode(test_query_tensors, skip_special_tokens=True)"
   ]
  },
  {
   "cell_type": "code",
   "execution_count": 26,
   "metadata": {},
   "outputs": [
    {
     "data": {
      "text/plain": [
       "'### Instruction:\\nWhat are some simple steps I can take to improve my diet.\\n\\n### Response:\\n'"
      ]
     },
     "execution_count": 26,
     "metadata": {},
     "output_type": "execute_result"
    }
   ],
   "source": [
    "test_prompt_texts[0]"
   ]
  },
  {
   "cell_type": "code",
   "execution_count": 27,
   "metadata": {},
   "outputs": [],
   "source": [
    "test_texts_for_rm = [q + r for q, r in zip(test_prompt_texts, test_batch[\"response\"])]"
   ]
  },
  {
   "cell_type": "code",
   "execution_count": 28,
   "metadata": {},
   "outputs": [
    {
     "data": {
      "text/plain": [
       "16"
      ]
     },
     "execution_count": 28,
     "metadata": {},
     "output_type": "execute_result"
    }
   ],
   "source": [
    "len(test_texts_for_rm)"
   ]
  },
  {
   "cell_type": "code",
   "execution_count": 29,
   "metadata": {},
   "outputs": [
    {
     "name": "stdout",
     "output_type": "stream",
     "text": [
      "--- First combined text for Reward Model ---\n",
      "### Instruction:\n",
      "What are some simple steps I can take to improve my diet.\n",
      "\n",
      "### Response:\n",
      "1. Regularly include at least 1 cup of whole grains, 3/4 cup of lean proteins, 3/4 cup of fruits and vegetables, and 3/4 cup of healthy fats. \n",
      "2. Reduce sodium, saturated fat, and added sugars, as well as calorie counting and avoid processed and sugary foods. \n",
      "3. Limit your intake of processed meats and limit processed sweeteners and take time to not consume caffeine and smoke. \n",
      "4. Eat as many avocados as you can during the day and limit processed while you are still alive. \n",
      "5. Drink plenty of water throughout the day, but clean your teeth to ensure you’re properly hydrated. \n",
      "6. Exercise regularly to help\n"
     ]
    }
   ],
   "source": [
    "print(\"--- First combined text for Reward Model ---\")\n",
    "print(test_texts_for_rm[0])"
   ]
  },
  {
   "cell_type": "code",
   "execution_count": 30,
   "metadata": {},
   "outputs": [],
   "source": [
    "test_rm_inputs = tokenizer(test_texts_for_rm, padding=True, truncation=True, return_tensors=\"pt\").to(DEVICE)"
   ]
  },
  {
   "cell_type": "code",
   "execution_count": 31,
   "metadata": {},
   "outputs": [
    {
     "name": "stdout",
     "output_type": "stream",
     "text": [
      "dict_keys(['input_ids', 'attention_mask'])\n"
     ]
    }
   ],
   "source": [
    "print(test_rm_inputs.keys())"
   ]
  },
  {
   "cell_type": "code",
   "execution_count": 32,
   "metadata": {},
   "outputs": [
    {
     "name": "stdout",
     "output_type": "stream",
     "text": [
      "<|endoftext|><|endoftext|><|endoftext|><|endoftext|><|endoftext|><|endoftext|><|endoftext|><|endoftext|><|endoftext|><|endoftext|><|endoftext|><|endoftext|><|endoftext|><|endoftext|><|endoftext|><|endoftext|>### Instruction:\n",
      "What are some simple steps I can take to improve my diet.\n",
      "\n",
      "### Response:\n",
      "1. Regularly include at least 1 cup of whole grains, 3/4 cup of lean proteins, 3/4 cup of fruits and vegetables, and 3/4 cup of healthy fats. \n",
      "2. Reduce sodium, saturated fat, and added sugars, as well as calorie counting and avoid processed and sugary foods. \n",
      "3. Limit your intake of processed meats and limit processed sweeteners and take time to not consume caffeine and smoke. \n",
      "4. Eat as many avocados as you can during the day and limit processed while you are still alive. \n",
      "5. Drink plenty of water throughout the day, but clean your teeth to ensure you’re properly hydrated. \n",
      "6. Exercise regularly to help\n"
     ]
    }
   ],
   "source": [
    "print(tokenizer.decode(test_rm_inputs[0].ids))"
   ]
  },
  {
   "cell_type": "code",
   "execution_count": 33,
   "metadata": {},
   "outputs": [],
   "source": [
    "with torch.no_grad():\n",
    "    test_rewards = reward_model(**test_rm_inputs).logits"
   ]
  },
  {
   "cell_type": "code",
   "execution_count": 34,
   "metadata": {},
   "outputs": [
    {
     "data": {
      "text/plain": [
       "tensor([[-5.4809],\n",
       "        [-4.3386],\n",
       "        [-3.1747],\n",
       "        [-3.7182],\n",
       "        [ 1.8712],\n",
       "        [-6.3795],\n",
       "        [-5.3255],\n",
       "        [-1.0670],\n",
       "        [-5.8739],\n",
       "        [-2.1459],\n",
       "        [-6.7246],\n",
       "        [-5.6839],\n",
       "        [-4.0805],\n",
       "        [-1.4660],\n",
       "        [-2.4351],\n",
       "        [-2.3722]], device='cuda:0')"
      ]
     },
     "execution_count": 34,
     "metadata": {},
     "output_type": "execute_result"
    }
   ],
   "source": [
    "test_rewards"
   ]
  },
  {
   "cell_type": "code",
   "execution_count": 35,
   "metadata": {},
   "outputs": [],
   "source": [
    "test_rewards = list(test_rewards)"
   ]
  },
  {
   "cell_type": "code",
   "execution_count": 36,
   "metadata": {},
   "outputs": [],
   "source": [
    "test_stats = ppo_trainer.step(test_query_tensors, test_response_tensors, test_rewards)"
   ]
  },
  {
   "cell_type": "code",
   "execution_count": 37,
   "metadata": {},
   "outputs": [
    {
     "data": {
      "text/plain": [
       "{'objective/kl': 0.0,\n",
       " 'objective/kl_dist': array([0., 0., 0., 0., 0., 0., 0., 0., 0., 0., 0., 0., 0., 0., 0., 0.],\n",
       "       dtype=float32),\n",
       " 'objective/logprobs': array([[-3.3079712e+01, -1.5716061e+01, -1.6440786e+01, ...,\n",
       "         -5.5458542e-02, -1.1243004e+00, -1.2873931e+00],\n",
       "        [-3.3079712e+01, -1.5716061e+01, -1.6440786e+01, ...,\n",
       "         -8.5730290e-01, -7.3192105e+00, -3.1852951e+00],\n",
       "        [-3.3079712e+01, -1.5716061e+01, -1.6440786e+01, ...,\n",
       "         -1.7917137e+00, -1.1357296e+00, -4.1500254e+00],\n",
       "        ...,\n",
       "        [-3.3079712e+01, -1.5716061e+01, -1.6440786e+01, ...,\n",
       "         -1.2230125e-04, -1.9837071e+00, -6.5100050e-01],\n",
       "        [-3.3079712e+01, -1.5716061e+01, -1.6440786e+01, ...,\n",
       "         -3.6211004e+00, -1.8142107e-01, -7.8855944e+00],\n",
       "        [-3.3079712e+01, -1.5716061e+01, -1.6440786e+01, ...,\n",
       "         -4.3350916e+00, -1.9953432e+00, -8.4099588e+00]], dtype=float32),\n",
       " 'objective/ref_logprobs': array([[-3.3079712e+01, -1.5716061e+01, -1.6440786e+01, ...,\n",
       "         -5.5458542e-02, -1.1243004e+00, -1.2873931e+00],\n",
       "        [-3.3079712e+01, -1.5716061e+01, -1.6440786e+01, ...,\n",
       "         -8.5730290e-01, -7.3192105e+00, -3.1852951e+00],\n",
       "        [-3.3079712e+01, -1.5716061e+01, -1.6440786e+01, ...,\n",
       "         -1.7917137e+00, -1.1357296e+00, -4.1500254e+00],\n",
       "        ...,\n",
       "        [-3.3079712e+01, -1.5716061e+01, -1.6440786e+01, ...,\n",
       "         -1.2230125e-04, -1.9837071e+00, -6.5100050e-01],\n",
       "        [-3.3079712e+01, -1.5716061e+01, -1.6440786e+01, ...,\n",
       "         -3.6211004e+00, -1.8142107e-01, -7.8855944e+00],\n",
       "        [-3.3079712e+01, -1.5716061e+01, -1.6440786e+01, ...,\n",
       "         -4.3350916e+00, -1.9953432e+00, -8.4099588e+00]], dtype=float32),\n",
       " 'objective/kl_coef': 0.2,\n",
       " 'objective/entropy': 309.57891845703125,\n",
       " 'ppo/mean_non_score_reward': 0.0,\n",
       " 'ppo/mean_scores': -3.649712324142456,\n",
       " 'ppo/std_scores': 2.31419038772583,\n",
       " 'tokens/queries_len_mean': 39.0,\n",
       " 'tokens/queries_len_std': 0.0,\n",
       " 'tokens/queries_dist': array([39., 39., 39., 39., 39., 39., 39., 39., 39., 39., 39., 39., 39.,\n",
       "        39., 39., 39.], dtype=float32),\n",
       " 'tokens/responses_len_mean': 150.0,\n",
       " 'tokens/responses_len_std': 0.0,\n",
       " 'tokens/responses_dist': array([150., 150., 150., 150., 150., 150., 150., 150., 150., 150., 150.,\n",
       "        150., 150., 150., 150., 150.], dtype=float32),\n",
       " 'ppo/loss/policy': -0.031234048306941986,\n",
       " 'ppo/loss/value': 2.532064437866211,\n",
       " 'ppo/loss/total': 0.22197237610816956,\n",
       " 'ppo/policy/entropy': 2.0824241638183594,\n",
       " 'ppo/policy/approxkl': 0.05389143526554108,\n",
       " 'ppo/policy/policykl': 0.026846598833799362,\n",
       " 'ppo/policy/clipfrac': 0.22041666507720947,\n",
       " 'ppo/policy/advantages': array([ 0.15393616,  0.1519839 ,  0.14992888, ..., -2.7607865 ,\n",
       "        -2.7538307 , -2.1685452 ], dtype=float32),\n",
       " 'ppo/policy/advantages_mean': 4.6566128730773926e-09,\n",
       " 'ppo/policy/ratio': array([1.        , 1.        , 1.        , ..., 0.99502563, 0.643287  ,\n",
       "        0.54057866], dtype=float32),\n",
       " 'ppo/returns/mean': -0.7354236841201782,\n",
       " 'ppo/returns/var': 0.8168309926986694,\n",
       " 'ppo/val/vpred': -0.39159470796585083,\n",
       " 'ppo/val/error': 3.9583115577697754,\n",
       " 'ppo/val/clipfrac': 0.3631249964237213,\n",
       " 'ppo/val/mean': -0.2980468273162842,\n",
       " 'ppo/val/var': 4.200474739074707,\n",
       " 'ppo/val/var_explained': -3.8459372520446777,\n",
       " 'ppo/learning_rate': 1.41e-05,\n",
       " 'time/ppo/forward_pass': 0.23480677604675293,\n",
       " 'time/ppo/compute_rewards': 0.0025818347930908203,\n",
       " 'time/ppo/compute_advantages': 0.014442920684814453,\n",
       " 'time/ppo/optimize_step': 2.226379156112671,\n",
       " 'time/ppo/calc_stats': 0.0319211483001709,\n",
       " 'time/ppo/total': 2.5102884769439697}"
      ]
     },
     "execution_count": 37,
     "metadata": {},
     "output_type": "execute_result"
    }
   ],
   "source": [
    "test_stats"
   ]
  },
  {
   "cell_type": "code",
   "execution_count": 38,
   "metadata": {},
   "outputs": [],
   "source": [
    "def interpret_ppo_stats(stats):\n",
    "    \n",
    "    print(\"--- PPO Step Analysis ---\")\n",
    "    \n",
    "    # --- Reward & Performance Metrics ---\n",
    "    print(\"\\n--- Reward & Performance ---\")\n",
    "    mean_scores = stats.get('ppo/mean_scores', 0)\n",
    "    print(f\"Mean Reward Score: {mean_scores:.4f}  (Main objective)\")\n",
    "    \n",
    "    # --- Loss Components ---\n",
    "    print(\"\\n--- Loss Components ---\")\n",
    "    policy_loss = stats.get('ppo/loss/policy', 0)\n",
    "    value_loss = stats.get('ppo/loss/value', 0)\n",
    "    total_loss = stats.get('ppo/loss/total', 0)\n",
    "    print(f\"Total Loss: {total_loss:.4f}\")\n",
    "    print(f\"  - Policy Loss: {policy_loss:.4f} (Drives the policy to get higher rewards)\")\n",
    "    print(f\"  - Value Loss:  {value_loss:.4f} (Improves the value function's predictions)\")\n",
    "    \n",
    "    # --- Policy Behavior & Stability ---\n",
    "    print(\"\\n--- Policy Behavior & Stability ---\")\n",
    "    kl_div = stats.get('objective/kl', 0)\n",
    "    clip_frac = stats.get('ppo/policy/clipfrac', 0)\n",
    "    entropy = stats.get('ppo/policy/entropy', 0)\n",
    "    print(f\"KL Divergence: {kl_div:.4f} (Penalty to keep the policy stable. Should be low.)\")\n",
    "    print(f\"Entropy: {entropy:.4f} (Measure of policy randomness. Prevents premature convergence.)\")\n",
    "    print(f\"Clipping Fraction: {clip_frac:.4f} (Fraction of updates clipped. High values > 0.3 may suggest instability or LR is too high.)\")\n",
    "    \n",
    "    # --- Value Function Diagnostics ---\n",
    "    print(\"\\n--- Value Function Diagnostics ---\")\n",
    "    v_error = stats.get('ppo/val/error', 0)\n",
    "    var_explained = stats.get('ppo/val/var_explained', 0)\n",
    "    print(f\"Value Prediction Error: {v_error:.4f} (How wrong the value function's predictions are.)\")\n",
    "    print(f\"Explained Variance: {var_explained:.4f} (How well the value fn predicts returns. Target is 1.0. Negative is BAD)\")\n",
    "\n",
    "    # --- Timing ---\n",
    "    print(\"\\n--- Timing ---\")\n",
    "    total_time = stats.get('time/ppo/total', 0)\n",
    "    print(f\"Total Time for Step: {total_time:.4f} seconds\")\n",
    "    \n",
    "    print(\"\\n\" + \"=\"*40)"
   ]
  },
  {
   "cell_type": "code",
   "execution_count": 39,
   "metadata": {},
   "outputs": [
    {
     "name": "stdout",
     "output_type": "stream",
     "text": [
      "--- PPO Step Analysis ---\n",
      "\n",
      "--- Reward & Performance ---\n",
      "Mean Reward Score: -3.6497  (Main objective)\n",
      "\n",
      "--- Loss Components ---\n",
      "Total Loss: 0.2220\n",
      "  - Policy Loss: -0.0312 (Drives the policy to get higher rewards)\n",
      "  - Value Loss:  2.5321 (Improves the value function's predictions)\n",
      "\n",
      "--- Policy Behavior & Stability ---\n",
      "KL Divergence: 0.0000 (Penalty to keep the policy stable. Should be low.)\n",
      "Entropy: 2.0824 (Measure of policy randomness. Prevents premature convergence.)\n",
      "Clipping Fraction: 0.2204 (Fraction of updates clipped. High values > 0.3 may suggest instability or LR is too high.)\n",
      "\n",
      "--- Value Function Diagnostics ---\n",
      "Value Prediction Error: 3.9583 (How wrong the value function's predictions are.)\n",
      "Explained Variance: -3.8459 (How well the value fn predicts returns. Target is 1.0. Negative is BAD)\n",
      "\n",
      "--- Timing ---\n",
      "Total Time for Step: 2.5103 seconds\n",
      "\n",
      "========================================\n"
     ]
    }
   ],
   "source": [
    "interpret_ppo_stats(test_stats)"
   ]
  },
  {
   "cell_type": "code",
   "execution_count": null,
   "metadata": {},
   "outputs": [],
   "source": []
  },
  {
   "cell_type": "code",
   "execution_count": 46,
   "metadata": {},
   "outputs": [],
   "source": [
    "SAVE_DIR = \"./ppo_checkpoints\"\n",
    "os.makedirs(SAVE_DIR, exist_ok=True)\n",
    "\n",
    "MAX_STEPS = 100\n",
    "SAVE_INTERVAL = 20"
   ]
  },
  {
   "cell_type": "code",
   "execution_count": 47,
   "metadata": {},
   "outputs": [
    {
     "name": "stdout",
     "output_type": "stream",
     "text": [
      "\n",
      "Starting PPO training...\n"
     ]
    },
    {
     "name": "stderr",
     "output_type": "stream",
     "text": [
      "21it [02:29,  7.60s/it]"
     ]
    },
    {
     "name": "stdout",
     "output_type": "stream",
     "text": [
      "Checkpoint saved at ./ppo_checkpoints/step_20\n"
     ]
    },
    {
     "name": "stderr",
     "output_type": "stream",
     "text": [
      "41it [04:51,  7.63s/it]"
     ]
    },
    {
     "name": "stdout",
     "output_type": "stream",
     "text": [
      "Checkpoint saved at ./ppo_checkpoints/step_40\n"
     ]
    },
    {
     "name": "stderr",
     "output_type": "stream",
     "text": [
      "61it [07:12,  7.66s/it]"
     ]
    },
    {
     "name": "stdout",
     "output_type": "stream",
     "text": [
      "Checkpoint saved at ./ppo_checkpoints/step_60\n"
     ]
    },
    {
     "name": "stderr",
     "output_type": "stream",
     "text": [
      "81it [09:35,  7.65s/it]"
     ]
    },
    {
     "name": "stdout",
     "output_type": "stream",
     "text": [
      "Checkpoint saved at ./ppo_checkpoints/step_80\n"
     ]
    },
    {
     "name": "stderr",
     "output_type": "stream",
     "text": [
      "100it [11:57,  7.17s/it]"
     ]
    },
    {
     "name": "stdout",
     "output_type": "stream",
     "text": [
      "Checkpoint saved at ./ppo_checkpoints/step_100\n",
      "PPO training complete!\n"
     ]
    },
    {
     "name": "stderr",
     "output_type": "stream",
     "text": [
      "\n"
     ]
    }
   ],
   "source": [
    "print(\"\\nStarting PPO training...\")\n",
    "for step, batch in tqdm(enumerate(ppo_trainer.dataloader)):\n",
    "    query_tensors = [q for q in batch[\"input_ids\"]]\n",
    "\n",
    "    # 1. Generate a response from the policy model (the \"rollout\")\n",
    "    response_tensors = ppo_trainer.generate(query_tensors, return_prompt=False, **generation_kwargs)\n",
    "    batch[\"response\"] = tokenizer.batch_decode(response_tensors)\n",
    "\n",
    "    # 2. Score the response with the Reward Model\n",
    "    # We need to format the text as \"prompt + response\" for the RM\n",
    "    prompt_texts = tokenizer.batch_decode(query_tensors, skip_special_tokens=True)\n",
    "    texts_for_rm = [q + r for q, r in zip(prompt_texts, batch[\"response\"])]\n",
    "    \n",
    "    rm_inputs = tokenizer(texts_for_rm, padding=True, truncation=True, return_tensors=\"pt\").to(DEVICE)\n",
    "    \n",
    "    with torch.no_grad():\n",
    "        # The reward is a single score for each response\n",
    "        rewards = reward_model(**rm_inputs).logits\n",
    "        \n",
    "    # 3. Perform the PPO optimization step\n",
    "    # the trainer calculates the complex PPO loss and updates the policy model weights.\n",
    "    stats = ppo_trainer.step(query_tensors, response_tensors, list(rewards))\n",
    "    \n",
    "    # Log the stats\n",
    "    ppo_trainer.log_stats(stats, batch, rewards)\n",
    "    \n",
    "    if step % SAVE_INTERVAL == 0 and step > 0:\n",
    "        save_path = os.path.join(SAVE_DIR, f\"step_{step}\")\n",
    "        ppo_trainer.model.save_pretrained(save_path)\n",
    "        tokenizer.save_pretrained(save_path)\n",
    "        print(f\"Checkpoint saved at {save_path}\")\n",
    "    \n",
    "    if step >= MAX_STEPS:\n",
    "        break\n",
    "\n",
    "print(\"PPO training complete!\")"
   ]
  },
  {
   "cell_type": "code",
   "execution_count": 48,
   "metadata": {},
   "outputs": [],
   "source": [
    "ppo_trainer.model.save_pretrained(\"ppo_checkpoints/ppo_final\")"
   ]
  },
  {
   "cell_type": "code",
   "execution_count": null,
   "metadata": {},
   "outputs": [],
   "source": []
  },
  {
   "cell_type": "code",
   "execution_count": null,
   "metadata": {},
   "outputs": [],
   "source": []
  },
  {
   "cell_type": "markdown",
   "metadata": {},
   "source": [
    "## Evaluation"
   ]
  },
  {
   "cell_type": "code",
   "execution_count": 62,
   "metadata": {},
   "outputs": [],
   "source": [
    "import torch\n",
    "from transformers import AutoModelForCausalLM, AutoTokenizer\n",
    "from trl import AutoModelForCausalLMWithValueHead\n",
    "import json\n",
    "import os\n",
    "from prepare_data import get_sft_datasets"
   ]
  },
  {
   "cell_type": "code",
   "execution_count": 77,
   "metadata": {},
   "outputs": [],
   "source": [
    "BASE_MODEL_NAME = \"gpt2\"\n",
    "DEVICE = torch.device(\"cuda\" if torch.cuda.is_available() else \"cpu\")\n",
    "FULL_SFT_CHECKPOINT_PATH = \"./full_sft_final_checkpoint\"\n",
    "PPO_CHECKPOINT = \"./ppo_checkpoints/ppo_final/\"\n",
    "OUTPUTS_DIR = \"outputs\""
   ]
  },
  {
   "cell_type": "code",
   "execution_count": null,
   "metadata": {},
   "outputs": [],
   "source": []
  },
  {
   "cell_type": "code",
   "execution_count": 82,
   "metadata": {},
   "outputs": [
    {
     "name": "stdout",
     "output_type": "stream",
     "text": [
      "Loading Base Model (gpt2)...\n",
      "Loading SFT Model from ./full_sft_final_checkpoint...\n",
      "Loading PPO Model from ./ppo_checkpoints/ppo_final/...\n"
     ]
    },
    {
     "name": "stderr",
     "output_type": "stream",
     "text": [
      "Some weights of the model checkpoint at ./ppo_checkpoints/ppo_final/ were not used when initializing GPT2LMHeadModel: ['v_head.summary.bias', 'v_head.summary.weight']\n",
      "- This IS expected if you are initializing GPT2LMHeadModel from the checkpoint of a model trained on another task or with another architecture (e.g. initializing a BertForSequenceClassification model from a BertForPreTraining model).\n",
      "- This IS NOT expected if you are initializing GPT2LMHeadModel from the checkpoint of a model that you expect to be exactly identical (initializing a BertForSequenceClassification model from a BertForSequenceClassification model).\n"
     ]
    },
    {
     "name": "stdout",
     "output_type": "stream",
     "text": [
      "\n",
      "All models loaded successfully!\n"
     ]
    }
   ],
   "source": [
    "tokenizer = AutoTokenizer.from_pretrained(BASE_MODEL_NAME, padding_side=\"left\")\n",
    "tokenizer.pad_token = tokenizer.eos_token\n",
    "\n",
    "# Load Base Model\n",
    "print(\"Loading Base Model (gpt2)...\")\n",
    "base_model = AutoModelForCausalLM.from_pretrained(BASE_MODEL_NAME).to(DEVICE)\n",
    "base_model.eval()\n",
    "\n",
    "# Load Full SFT Model\n",
    "print(f\"Loading SFT Model from {FULL_SFT_CHECKPOINT_PATH}...\")\n",
    "sft_model = AutoModelForCausalLM.from_pretrained(FULL_SFT_CHECKPOINT_PATH).to(DEVICE)\n",
    "sft_model.eval()\n",
    "\n",
    "# Load PPO Model\n",
    "print(f\"Loading PPO Model from {PPO_CHECKPOINT}...\")\n",
    "ppo_model = AutoModelForCausalLM.from_pretrained(PPO_CHECKPOINT, local_files_only=True).to(DEVICE)\n",
    "ppo_model.eval()\n",
    "\n",
    "print(\"\\nAll models loaded successfully!\")"
   ]
  },
  {
   "cell_type": "code",
   "execution_count": 83,
   "metadata": {},
   "outputs": [
    {
     "name": "stdout",
     "output_type": "stream",
     "text": [
      "Loading and processing dataset\n",
      "Dataset split into 31485 training examples and 1658 testing examples.\n",
      "Dataset processing complete.\n"
     ]
    }
   ],
   "source": [
    "_, test_dataset = get_sft_datasets('my-local-dataset/')\n",
    "\n",
    "sample_indices = [10, 20, 50]\n",
    "sample_prompts = [test_dataset[i]['prompt'] for i in sample_indices]\n",
    "ground_truths = [test_dataset[i]['completion'] for i in sample_indices]"
   ]
  },
  {
   "cell_type": "code",
   "execution_count": 84,
   "metadata": {},
   "outputs": [],
   "source": [
    "models_to_compare = {\n",
    "    \"Base Model\": base_model,\n",
    "    \"Full SFT Model\": sft_model,\n",
    "    \"PPO Model\": ppo_model,\n",
    "}\n",
    "all_comparisons = []"
   ]
  },
  {
   "cell_type": "code",
   "execution_count": 85,
   "metadata": {
    "scrolled": true
   },
   "outputs": [
    {
     "name": "stderr",
     "output_type": "stream",
     "text": [
      "Setting `pad_token_id` to `eos_token_id`:50256 for open-end generation.\n"
     ]
    },
    {
     "name": "stdout",
     "output_type": "stream",
     "text": [
      "\n",
      "==================================================\n",
      "--- GENERATING MODEL COMPARISONS ---\n",
      "==================================================\n",
      "\n",
      "\n",
      "--- COMPARISON FOR PROMPT 1/3 ---\n",
      "PROMPT:\n",
      "### Instruction:\n",
      "What is the best way to clean and care for leather shoes.\n",
      "\n",
      "### Response:\n",
      "\n",
      "\n",
      "------------------------------\n",
      "GROUND TRUTH:\n",
      "The best way to clean and care for leather shoes is to start by using a leather cleaner specifically designed for the type of leather used. This will not only help keep them clean, but also help protect the leather from the elements. Once cleaned, apply a leather conditioner to help keep the leather soft and supple. Finally, use a leather polish to help add luster and protection. Reapply the products every couple of months to keep your shoes looking their best.\n",
      "------------------------------\n"
     ]
    },
    {
     "name": "stderr",
     "output_type": "stream",
     "text": [
      "Setting `pad_token_id` to `eos_token_id`:50256 for open-end generation.\n"
     ]
    },
    {
     "name": "stdout",
     "output_type": "stream",
     "text": [
      "\n",
      "--- Base Model Response ---\n",
      "I have a question about how I can help you with your shoe cleaning needs, so please feel free (or at least ask me) if there are any questions or concerns that need addressing here on this site!\n"
     ]
    },
    {
     "name": "stderr",
     "output_type": "stream",
     "text": [
      "Setting `pad_token_id` to `eos_token_id`:50256 for open-end generation.\n"
     ]
    },
    {
     "name": "stdout",
     "output_type": "stream",
     "text": [
      "\n",
      "--- Full SFT Model Response ---\n",
      "The most effective way to properly carefor leather shoes is to use a soft, non-abrasive cleaning solution such as vinegar or water. Apply it gently on the affected area of your shoe before using it again. If the surface is too dry, you may need additional treatment like rubbing alcohol with a damp cloth or sponge. Be sure not over-breathing will damage the leather. Finally be sure that the sole is free from dirt and debris while wearing the shoes. Make sure all surfaces are cleaned thoroughly after each wear. Lastly make sure they have been washed in cold water soapy water does not enter the leather. Good luck. Enjoy your new pair!  Update 2 - May 2020 The following information has changed since I last updated this\n"
     ]
    },
    {
     "name": "stderr",
     "output_type": "stream",
     "text": [
      "Setting `pad_token_id` to `eos_token_id`:50256 for open-end generation.\n"
     ]
    },
    {
     "name": "stdout",
     "output_type": "stream",
     "text": [
      "\n",
      "--- PPO Model Response ---\n",
      "The best way of cleaning, caring or conserving your leather shoe are to use a soft cloth such as cotton swabs with gentle pressure-treating soap; use a leather conditioner like leather cleaner or leather oil; and keep them in good condition. Additionally, you should regularly wash your shoes before use and make sure they are not stained or damaged. Finally, be sure that you follow all instructions carefully and thoroughly. Good luck. Keep in mind that it's important to maintain good hygiene habits while wearing leather shoes. It may also help to consider using an alternative method of care. Consider consulting a professional if you have any questions. Lastly, don't forget to take regular breaks throughout the day to rest and rejuvenate your skin. With proper maintenance\n",
      "\n",
      "\n",
      "--- COMPARISON FOR PROMPT 2/3 ---\n",
      "PROMPT:\n",
      "### Instruction:\n",
      "I want to shop for a new car. What should I look for in price, features, and safety.\n",
      "\n",
      "### Response:\n",
      "\n",
      "\n",
      "------------------------------\n",
      "GROUND TRUTH:\n",
      "For price, look for a car that fits your budget. Consider the total cost, including maintenance, registration, and insurance. When it comes to features, think about what is most important to you. Do you need a lot of cargo space? Or are you looking for the latest technology? When it comes to safety, look for a car with the latest safety features, like lane-keeping assist, adaptive cruise control, and blind spot monitoring. Additionally, consider the car’s ratings in crash tests and look for features like airbags, anti-lock brakes, and anti-theft systems.\n",
      "------------------------------\n"
     ]
    },
    {
     "name": "stderr",
     "output_type": "stream",
     "text": [
      "Setting `pad_token_id` to `eos_token_id`:50256 for open-end generation.\n"
     ]
    },
    {
     "name": "stdout",
     "output_type": "stream",
     "text": [
      "\n",
      "--- Base Model Response ---\n",
      "\"The best thing about this is that it's not just the cost of buying an old one.\" - Mike \"It was great! It took me out into my own world!\" – Chris \"This has been fun getting started with cars from different manufacturers so far but if you're looking at any other brand or model then go ahead...it will be worth your while\". -- Michael \"You can't beat these guys on pricing because they are all very good quality vehicles...\" — John \"They have some really cool stuff too..they make sure everything looks like what we expect them (and their) prices....you'll never get bored by anything else here!! :) Thanks again!!\"\n"
     ]
    },
    {
     "name": "stderr",
     "output_type": "stream",
     "text": [
      "Setting `pad_token_id` to `eos_token_id`:50256 for open-end generation.\n"
     ]
    },
    {
     "name": "stdout",
     "output_type": "stream",
     "text": [
      "\n",
      "--- Full SFT Model Response ---\n",
      "You will need to consider the type of vehicle you are looking at as well your budget and preferences when shopping for a new car. Consider factors such as fuel economy, reliability, cost, maintenance, performance, etc. You may also be able find some good deals on different models or accessories if you're interested in those items. Additionally check out reviews from other customers who have used similar cars before purchasing one so that you can compare prices between them. Finally make sure it is safe to take any necessary precautions while driving with the new car; this could include checking mirrors regularly, taking off lights whenever possible, avoiding side mirrors during drive-throughs, using an emergency brake system (eBI), and not turning left until after dark. Good luck.\n"
     ]
    },
    {
     "name": "stderr",
     "output_type": "stream",
     "text": [
      "Setting `pad_token_id` to `eos_token_id`:50256 for open-end generation.\n"
     ]
    },
    {
     "name": "stdout",
     "output_type": "stream",
     "text": [
      "\n",
      "--- PPO Model Response ---\n",
      "You should consider looking at the overall cost of your car as well as the potential benefits of having a good reputation. Consider researching different dealerships and comparing prices from different manufacturers. You may also be able to find deals on used cars or other luxury items. Finally, make sure you check with your local government and insurance companies to ensure you are getting quality service. Good luck. It is important to have fun while shopping and don't forget to take pride in being honest and trustworthy. With all of this in mind, it's best to research any available options and compare prices before making any decisions. Be patient and keep up with sales and promotions so you can get an edge in buying something that will last long-term. Don’t let too\n",
      "\n",
      "\n",
      "--- COMPARISON FOR PROMPT 3/3 ---\n",
      "PROMPT:\n",
      "### Instruction:\n",
      "What is the atomic structure of water.\n",
      "\n",
      "### Response:\n",
      "\n",
      "\n",
      "------------------------------\n",
      "GROUND TRUTH:\n",
      "The atomic structure of water is composed of two hydrogen atoms covalently bonded to one oxygen atom. The molecular formula of water is H2O, indicating that there are two atoms of hydrogen and one atom of oxygen bonded together. The covalent bond between the hydrogen and oxygen atoms is created by shared pairs of electrons between the two atoms. The two hydrogen atoms are oriented at an angle of approximately 104.5 degrees from the central oxygen atom. This creates a V-shaped molecule, with the oxygen atom at the vertex.\n",
      "------------------------------\n"
     ]
    },
    {
     "name": "stderr",
     "output_type": "stream",
     "text": [
      "Setting `pad_token_id` to `eos_token_id`:50256 for open-end generation.\n"
     ]
    },
    {
     "name": "stdout",
     "output_type": "stream",
     "text": [
      "\n",
      "--- Base Model Response ---\n",
      "- The following question was asked by a member of the committee on nuclear energy, and he answered it in an interesting way (see below). He said that there are two types - one type has to be very large for its size to have any effect; another kind can only affect small areas or regions where they don't exist at all but which may not necessarily cause problems with other parts of the system as well. This means we need more information about what kinds each element does when exposed to air pressure above 100 m/s than would otherwise occur if you were trying hard enough without having access into your own body's internal organs such cells from outside sources like blood vessels etc. So I think this answer should give us some idea how much radiation our bodies\n"
     ]
    },
    {
     "name": "stderr",
     "output_type": "stream",
     "text": [
      "Setting `pad_token_id` to `eos_token_id`:50256 for open-end generation.\n"
     ]
    },
    {
     "name": "stdout",
     "output_type": "stream",
     "text": [
      "\n",
      "--- Full SFT Model Response ---\n",
      "The atomic shape and size are determined by the chemical formula A = 2πr^2, where r is a radius and b is an atom. The ratio of the two elements in water is 0.8 to 1. This means that when the atoms interact with each other, they form a single nucleus which contains all the energy it needs for its production. Water has four basic forms, hydrogen (H), oxygen(O) or carbon dioxide; nitrogen gas (NO), and oxygen-rich gases such as sulfuric acid and chlorine. Hydrogen is the most abundant element on Earth, making it the only one found in nature. Oxygen is the second most abundant element, followed closely behind by carbon dioxide. Carbon dioxide is the third most abundant\n",
      "\n",
      "--- PPO Model Response ---\n",
      "The basic atomicity and its chemical composition are determined by their respective atoms, while other elements such as hydrogen or helium have a different arrangement in which they form one substance called an \"atomic\" (or equivalence) molecule; this includes all molecules within it except for itself - each element has two parts that share some common nucleus surrounded on both sides with another part consisting entirely outside these boundaries but inside them at rest-on/off balance to prevent collisions between particles nor interfere chemically when separated from any external environment.\"  This means there can be no single universal law governing how much energy is stored in our bodies. Furthermore we must remember that even though we may not always know exactly what is in our body, certain foods, beverages etc, can still provide\n"
     ]
    }
   ],
   "source": [
    "print(\"\\n\" + \"=\"*50)\n",
    "print(\"--- GENERATING MODEL COMPARISONS ---\")\n",
    "print(\"=\"*50)\n",
    "\n",
    "for i, prompt_text in enumerate(sample_prompts):\n",
    "    # Store results for this prompt\n",
    "    comparison_data = {\n",
    "        \"prompt\": prompt_text,\n",
    "        \"ground_truth\": ground_truths[i]\n",
    "    }\n",
    "    \n",
    "    print(f\"\\n\\n--- COMPARISON FOR PROMPT {i+1}/{len(sample_prompts)} ---\")\n",
    "    print(f\"PROMPT:\\n{prompt_text}\")\n",
    "    print(\"\\n\" + \"-\"*30)\n",
    "    print(f\"GROUND TRUTH:\\n{ground_truths[i]}\")\n",
    "    print(\"-\"*30)\n",
    "\n",
    "    for name, model in models_to_compare.items():\n",
    "        # Tokenize the single prompt\n",
    "        inputs = tokenizer(prompt_text, return_tensors=\"pt\").to(DEVICE)\n",
    "        \n",
    "        # Generate a response\n",
    "        with torch.no_grad():\n",
    "            outputs = model.generate(\n",
    "                **inputs,\n",
    "                max_new_tokens=150,\n",
    "                temperature=0.7,\n",
    "                do_sample=False,\n",
    "                repetition_penalty=1.2\n",
    "            )\n",
    "        \n",
    "        # Decode and clean the response\n",
    "        full_response = tokenizer.decode(outputs[0], skip_special_tokens=True)\n",
    "        generated_part = full_response[len(prompt_text):].strip()\n",
    "        \n",
    "        # Print for comparison\n",
    "        print(f\"\\n--- {name} Response ---\")\n",
    "        print(generated_part)\n",
    "        \n",
    "        # Save the response\n",
    "        comparison_data[f\"{name.lower().replace(' ', '_')}_response\"] = generated_part\n",
    "    \n",
    "    all_comparisons.append(comparison_data)"
   ]
  },
  {
   "cell_type": "code",
   "execution_count": 87,
   "metadata": {},
   "outputs": [],
   "source": [
    "output_file_path = \"final_model_comparisons.json\"\n",
    "with open(output_file_path, \"w\") as f:\n",
    "    json.dump(all_comparisons, f, indent=4)"
   ]
  },
  {
   "cell_type": "code",
   "execution_count": null,
   "metadata": {},
   "outputs": [],
   "source": []
  },
  {
   "cell_type": "code",
   "execution_count": null,
   "metadata": {},
   "outputs": [],
   "source": []
  },
  {
   "cell_type": "code",
   "execution_count": null,
   "metadata": {},
   "outputs": [],
   "source": []
  },
  {
   "cell_type": "code",
   "execution_count": null,
   "metadata": {},
   "outputs": [],
   "source": []
  },
  {
   "cell_type": "code",
   "execution_count": 92,
   "metadata": {},
   "outputs": [],
   "source": [
    "import logging\n",
    "from transformers import logging as transformers_logging\n",
    "transformers_logging.set_verbosity_error()"
   ]
  },
  {
   "cell_type": "code",
   "execution_count": 93,
   "metadata": {},
   "outputs": [
    {
     "name": "stdout",
     "output_type": "stream",
     "text": [
      "\n",
      "Generating predictions on the test set...\n"
     ]
    },
    {
     "name": "stderr",
     "output_type": "stream",
     "text": [
      "100%|██████████| 104/104 [02:59<00:00,  1.72s/it]\n"
     ]
    }
   ],
   "source": [
    "ppo_predictions = []\n",
    "ppo_references = []\n",
    "\n",
    "print(\"\\nGenerating predictions on the test set...\")\n",
    "\n",
    "batch_size = 16\n",
    "for i in tqdm(range(0, len(test_dataset), batch_size)):\n",
    "    batch = test_dataset[i:i+batch_size]\n",
    "    prompts = batch['prompt']\n",
    "    ground_truths = batch['completion']\n",
    "    \n",
    "    # Tokenize prompts\n",
    "    inputs = tokenizer(prompts, return_tensors=\"pt\", padding=True, truncation=True, max_length=512).to(DEVICE)\n",
    "    \n",
    "    with torch.no_grad():\n",
    "        outputs = ppo_model.generate(\n",
    "            **inputs,\n",
    "            max_new_tokens=100,\n",
    "            num_beams=3,\n",
    "            temperature=0.6,\n",
    "            do_sample=False,\n",
    "            repetition_penalty=1.2\n",
    "        )\n",
    "    \n",
    "    # Decode and clean up the generated text\n",
    "    decoded_outputs = tokenizer.batch_decode(outputs, skip_special_tokens=True)\n",
    "    \n",
    "    # Remove the original prompt from the generated text\n",
    "    cleaned_predictions = [out[len(prompt):].strip() for out, prompt in zip(decoded_outputs, prompts)]\n",
    "    \n",
    "    # Add to lists\n",
    "    ppo_predictions.extend(cleaned_predictions)\n",
    "    ppo_references.extend(ground_truths)"
   ]
  },
  {
   "cell_type": "code",
   "execution_count": 94,
   "metadata": {},
   "outputs": [],
   "source": [
    "from rouge_score import rouge_scorer\n",
    "\n",
    "scorer = rouge_scorer.RougeScorer(['rouge1', 'rouge2', 'rougeL'], use_stemmer=True)\n",
    "\n",
    "all_scores = []\n",
    "for ref, pred in zip(ppo_references, ppo_predictions):\n",
    "    score = scorer.score(ref, pred)\n",
    "    all_scores.append(score)"
   ]
  },
  {
   "cell_type": "code",
   "execution_count": 95,
   "metadata": {},
   "outputs": [
    {
     "name": "stdout",
     "output_type": "stream",
     "text": [
      "ROUGE-1: 0.33653781264982163\n",
      "ROUGE-2: 0.1389637210519761\n",
      "ROUGE-L: 0.251543377242404\n"
     ]
    }
   ],
   "source": [
    "rouge1 = [s[\"rouge1\"].fmeasure for s in all_scores]\n",
    "rouge2 = [s[\"rouge2\"].fmeasure for s in all_scores]\n",
    "rougeL = [s[\"rougeL\"].fmeasure for s in all_scores]\n",
    "\n",
    "print(\"ROUGE-1:\", np.mean(rouge1))\n",
    "print(\"ROUGE-2:\", np.mean(rouge2))\n",
    "print(\"ROUGE-L:\", np.mean(rougeL))"
   ]
  },
  {
   "cell_type": "code",
   "execution_count": null,
   "metadata": {},
   "outputs": [],
   "source": [
    "with open(\"ppo_predictions.json\", \"w\") as f:\n",
    "    json.dump({\n",
    "        \"predictions\": ppo_predictions,\n",
    "        \"references\": ppo_references\n",
    "    }, f, indent=4)"
   ]
  },
  {
   "cell_type": "code",
   "execution_count": null,
   "metadata": {},
   "outputs": [],
   "source": []
  },
  {
   "cell_type": "code",
   "execution_count": 100,
   "metadata": {},
   "outputs": [
    {
     "name": "stdout",
     "output_type": "stream",
     "text": [
      "Metrics saved to sft_ppo_performance_metrics.csv\n",
      "Plot saved to model_performance_comparison.png\n"
     ]
    },
    {
     "data": {
      "image/png": "[encoded data removed]",
      "text/plain": [
       "<Figure size 1200x700 with 1 Axes>"
      ]
     },
     "metadata": {},
     "output_type": "display_data"
    }
   ],
   "source": [
    "import pandas as pd\n",
    "import matplotlib.pyplot as plt\n",
    "import numpy as np\n",
    "\n",
    "# --- 1. Data Preparation ---\n",
    "data = {\n",
    "    \"Metric\": [\"ROUGE-1\", \"ROUGE-2\", \"ROUGE-L\"],\n",
    "    \"Base Model\": [0.1793, 0.0492, 0.1444],\n",
    "    \"Full SFT\": [0.3534, 0.1487, 0.2622],\n",
    "    \"PEFT SFT\": [0.3117, 0.1260, 0.2405],\n",
    "    \"PPO SFT\": [0.3365, 0.1390, 0.2515]\n",
    "}\n",
    "df = pd.DataFrame(data)\n",
    "\n",
    "# --- 2. Save the metrics to a CSV file ---\n",
    "csv_filename = 'sft_ppo_performance_metrics.csv'\n",
    "df.to_csv(csv_filename, index=False, float_format='%.4f')\n",
    "print(f\"Metrics saved to {csv_filename}\")\n",
    "\n",
    "\n",
    "# --- 3. Plotting the Comparison Chart ---\n",
    "fig, ax = plt.subplots(figsize=(12, 7), dpi=100)\n",
    "\n",
    "\n",
    "# Set bar positions and width for four groups\n",
    "x = np.arange(len(df['Metric']))\n",
    "width = 0.2  # Adjusted width for four bars\n",
    "\n",
    "# Plot the bars for each model with new positions\n",
    "rects1 = ax.bar(x - 1.5*width, df['Base Model'], width, label='Base Model', color='lightcoral')\n",
    "rects2 = ax.bar(x - 0.5*width, df['Full SFT'], width, label='Full SFT', color='cornflowerblue')\n",
    "rects3 = ax.bar(x + 0.5*width, df['PEFT SFT'], width, label='PEFT SFT', color='mediumseagreen')\n",
    "rects4 = ax.bar(x + 1.5*width, df['PPO SFT'], width, label='PPO SFT', color='mediumpurple')\n",
    "\n",
    "# Add labels, title, and ticks\n",
    "ax.set_ylabel('ROUGE Score', fontsize=12)\n",
    "ax.set_title('Model Performance Comparison (ROUGE Scores)', fontsize=16, fontweight='bold')\n",
    "ax.set_xticks(x)\n",
    "ax.set_xticklabels(df['Metric'], fontsize=12)\n",
    "ax.legend(fontsize=11)\n",
    "ax.set_ylim(0, 0.45) # Set Y-axis limit for better visual comparison\n",
    "ax.grid(axis='y', linestyle='--', alpha=0.7) # Add a light grid for readability\n",
    "\n",
    "# Add data labels on top of each bar\n",
    "ax.bar_label(rects1, padding=3, fmt='%.3f', fontsize=9)\n",
    "ax.bar_label(rects2, padding=3, fmt='%.3f', fontsize=9)\n",
    "ax.bar_label(rects3, padding=3, fmt='%.3f', fontsize=9)\n",
    "ax.bar_label(rects4, padding=3, fmt='%.3f', fontsize=9)\n",
    "\n",
    "# Final layout adjustments, save the figure, and show the plot\n",
    "fig.tight_layout()\n",
    "plot_filename = \"model_performance_comparison.png\"\n",
    "plt.savefig(plot_filename)\n",
    "print(f\"Plot saved to {plot_filename}\")\n",
    "plt.show()"
   ]
  },
  {
   "cell_type": "code",
   "execution_count": null,
   "metadata": {},
   "outputs": [],
   "source": []
  },
  {
   "cell_type": "code",
   "execution_count": null,
   "metadata": {},
   "outputs": [],
   "source": []
  },
  {
   "cell_type": "code",
   "execution_count": 101,
   "metadata": {},
   "outputs": [],
   "source": [
    "import torch\n",
    "from transformers import AutoModelForCausalLM, GPT2ForSequenceClassification, AutoTokenizer\n",
    "from peft import PeftModel\n",
    "import json\n",
    "import os\n",
    "from tqdm import tqdm\n",
    "from prepare_data import get_sft_datasets\n",
    "\n",
    "# --- 1. Setup: Define Paths and Load All Models & Tokenizers ---\n",
    "\n",
    "BASE_MODEL_NAME = \"gpt2\"\n",
    "FULL_SFT_CHECKPOINT_PATH = \"full_sft_final_checkpoint/\"\n",
    "PPO_CHECKPOINT = \"ppo_checkpoints/ppo_final/\"\n",
    "RM_CHECKPOINT = \"reward_model_output_new/\"\n",
    "DEVICE = torch.device(\"cuda\" if torch.cuda.is_available() else \"cpu\")"
   ]
  },
  {
   "cell_type": "code",
   "execution_count": 102,
   "metadata": {},
   "outputs": [
    {
     "name": "stdout",
     "output_type": "stream",
     "text": [
      "Loading Base Model (gpt2)...\n",
      "Loading SFT Model from full_sft_final_checkpoint/...\n",
      "Loading PPO Model from ppo_checkpoints/ppo_final/...\n",
      "Loading Reward Model from reward_model_output_new/...\n",
      "\n",
      "All models loaded successfully!\n"
     ]
    }
   ],
   "source": [
    "# Load the main tokenizer for generation (with left-padding)\n",
    "tokenizer = AutoTokenizer.from_pretrained(BASE_MODEL_NAME, padding_side=\"left\")\n",
    "tokenizer.pad_token = tokenizer.eos_token\n",
    "\n",
    "\n",
    "# Load Base Model\n",
    "print(\"Loading Base Model (gpt2)...\")\n",
    "base_model = AutoModelForCausalLM.from_pretrained(BASE_MODEL_NAME).to(DEVICE)\n",
    "base_model.eval()\n",
    "\n",
    "# Load Full SFT Model\n",
    "print(f\"Loading SFT Model from {FULL_SFT_CHECKPOINT_PATH}...\")\n",
    "sft_model = AutoModelForCausalLM.from_pretrained(FULL_SFT_CHECKPOINT_PATH).to(DEVICE)\n",
    "sft_model.eval()\n",
    "\n",
    "# Load PPO Model\n",
    "print(f\"Loading PPO Model from {PPO_CHECKPOINT}...\")\n",
    "ppo_model = AutoModelForCausalLM.from_pretrained(PPO_CHECKPOINT, local_files_only=True).to(DEVICE)\n",
    "ppo_model.eval()\n",
    "\n",
    "\n",
    "# --- Load the trained Reward Model ---\n",
    "print(f\"Loading Reward Model from {RM_CHECKPOINT}...\")\n",
    "rm_base_model = GPT2ForSequenceClassification.from_pretrained(BASE_MODEL_NAME, num_labels=1)\n",
    "reward_model = PeftModel.from_pretrained(rm_base_model, RM_CHECKPOINT).to(DEVICE)\n",
    "reward_model.eval()\n",
    "\n",
    "print(\"\\nAll models loaded successfully!\")"
   ]
  },
  {
   "cell_type": "code",
   "execution_count": 103,
   "metadata": {},
   "outputs": [],
   "source": [
    "def get_reward_score(prompt, response, rm, rm_tokenizer):\n",
    "    \"\"\"Calculates a reward score for a given prompt and response.\"\"\"\n",
    "    text_for_rm = prompt + response\n",
    "    \n",
    "    inputs = rm_tokenizer(text_for_rm, return_tensors=\"pt\", padding=True, truncation=True, max_length=1024).to(DEVICE)\n",
    "    \n",
    "    with torch.no_grad():\n",
    "        score = rm(**inputs).logits[0].item()\n",
    "    return score"
   ]
  },
  {
   "cell_type": "code",
   "execution_count": 109,
   "metadata": {},
   "outputs": [
    {
     "name": "stdout",
     "output_type": "stream",
     "text": [
      "Loading and processing dataset\n",
      "Dataset split into 31485 training examples and 1658 testing examples.\n",
      "Dataset processing complete.\n"
     ]
    }
   ],
   "source": [
    "_, test_dataset = get_sft_datasets('my-local-dataset/')\n",
    "sample_indices = [10, 20, 50, 60, 70, 80, 90, 100]\n",
    "sample_prompts = [test_dataset[i]['prompt'] for i in sample_indices]\n",
    "ground_truths = [test_dataset[i]['completion'] for i in sample_indices]"
   ]
  },
  {
   "cell_type": "code",
   "execution_count": 104,
   "metadata": {
    "scrolled": true
   },
   "outputs": [
    {
     "name": "stdout",
     "output_type": "stream",
     "text": [
      "Loading and processing dataset\n",
      "Dataset split into 31485 training examples and 1658 testing examples.\n",
      "Dataset processing complete.\n",
      "\n",
      "==================================================\n",
      "--- GENERATING MODEL COMPARISONS ---\n",
      "==================================================\n",
      "\n",
      "\n",
      "--- COMPARISON FOR PROMPT 1/8 ---\n",
      "PROMPT:\n",
      "### Instruction:\n",
      "What is the best way to clean and care for leather shoes.\n",
      "\n",
      "### Response:\n",
      "\n",
      "\n",
      "------------------------------\n",
      "\n",
      "--- Base Model Response (Reward Score: -0.14) ---\n",
      "\"I have a lot of questions about my Leather Shoes cleaning program, but I can't find anything on this website that details how you will do it or which steps are necessary.\"\n",
      "...and finally an answer! My response was great as well.. :D Thankyou guys!! The process itself has been extremely useful since we started so far because everything worked perfectly in theory (i've never had any problems with using them), except when i put pressure over rubbing against your foot while walking through woods/gravel etc...but after several hours washing each shoe every time there would be some weird odour coming out from under its skin.so if anyone wants more information please comment here :)\n",
      "\n",
      "--- SFT Model Response (Reward Score: 3.49) ---\n",
      "The most effective method of cleaning and caring about a leather shoe is to use an oil-based cleaner, such as WD-40 or petroleum jelly, before applying it. Carefully scrub the surface in both directions with your fingertips until the stain has been removed. Allow the leather sole to dry completely prior using an alcohol-based product. Finally wash the sneaker often after washing. For extra protection, avoid wearing leather footwear at all times while still warm. Make sure not to forget that any residual wear from wearing leather may come back over time. Always be respectful of other people's opinions on whether or no heirloom/reinforced items should be worn regularly. Be patient - if you find yourself needing to take regular breaks during long periods without\n",
      "\n",
      "--- PPO Model Response (Reward Score: 2.44) ---\n",
      "The best way of cleaning and caringfor leather footwear are using a soft, air-based cleaner that is gentle enough in your environment; wearing them regularly with minimal wear or use it as an outlet when not in use (suchas socks); and washing them thoroughly. Additionally making sure you have good ventilation systems such at least six feet away from any leather equipment can help keep them from drying out quickly. Finally, make sure to take care before leaving the area and never return it. Cleaning and caring for leather shoes should be done responsibly and without harsh chemicals. Always consult with a professional lacquer miter if you feel comfortable removing your shoes after they've been cleaned. Properly cared for leather shoes will also protect them from moisture, so always ensure\n",
      "\n",
      "\n",
      "--- COMPARISON FOR PROMPT 2/8 ---\n",
      "PROMPT:\n",
      "### Instruction:\n",
      "I want to shop for a new car. What should I look for in price, features, and safety.\n",
      "\n",
      "### Response:\n",
      "\n",
      "\n",
      "------------------------------\n",
      "\n",
      "--- Base Model Response (Reward Score: -2.94) ---\n",
      "— Thank you sir! When we started our site on June 20th 2001 it sold out quickly but now that many people have been looking at the cars recently they will know why their money is running low due either too little or overly much of an investment (which may be good). Today's owners can get what most manufacturers offer with no strings attached; high-value vehicles which are affordable enough not to go without them since there were never any problems when purchasing one from us before August 1996 as well so long ago this month. So my first question was \"have your customers asked about these products?\" because if anyone would ask themselves whether i had ever heard anything other than 'it looks like something' then yes he/she could say YES, even though\n",
      "\n",
      "--- SFT Model Response (Reward Score: 0.83) ---\n",
      "For any potential deals or discounts you may be able find on your upcoming visit, consider researching the local market where the vehicle is located before making an initial purchase. Additionally if you're looking for anything more specialized, check out online reviews of reputable dealerships that specialize in different models such as Mazda, Honda Civic etc. You might also inquire with friends who are knowledgeable about what kind of vehicles they can offer their customers. Finally, research similar road trips by asking around at regular stops along the way so you don't end up getting stuck trying to buy something from someone else's garage! It’s always better when prices compare favorably than not. In conclusion...if possible, make sure you have some quality parts available but never go overboard - once\n",
      "\n",
      "--- PPO Model Response (Reward Score: 3.19) ---\n",
      "The best way of shopping for an attractive new car is first to research the seller's prices, as well any additional discounts or offers that may be available. Additionally check with your local government to make sure they have an offer on cars you're considering getting used. Finally, ask friends and family for recommendations. It can help to keep up-to-date news and information about all of the latest trends and specials. Once you've narrowed down the list, it’s important not only to compare prices, but to use discount products whenever possible. Good luck in finding a good value car. Consider also researching dealerships at the same time and buying from trusted sources like auto auctions, online bookstores, or other reliable retailers. Be mindful of customer\n",
      "\n",
      "\n",
      "--- COMPARISON FOR PROMPT 3/8 ---\n",
      "PROMPT:\n",
      "### Instruction:\n",
      "What is the atomic structure of water.\n",
      "\n",
      "### Response:\n",
      "\n",
      "\n",
      "------------------------------\n",
      "\n",
      "--- Base Model Response (Reward Score: -2.67) ---\n",
      "\"Water on a surface, which has an atom and contains many molecules (also called atoms), can be divided into three groups:\"1) Water with two parts that are in any order; 2); Air-water containing one part but other elements not found there.\"\n",
      "\n",
      "--- SFT Model Response (Reward Score: 1.16) ---\n",
      "The atomic shape and size are determined by the chemical composition in which it is made, such as uranium or plutonium. The outermost layer has a density at its center that is equal to 0.51 g/cm2 (0 mg/cm3) and the innermost layer contains a density of 449 m³ (746 ml/m3). Water molecules have two groups of atoms with one atom having an extra group called nucleus consisting mainly from hydrogen and nitrogen, while the other half consists mostly iron and carbon dioxide atoms with oxygen atoms on top. All of these elements contain energy levels ranging from 1-68 times higher than those found in water. It is important for the reader not to overstate how much energy exists inside water when\n",
      "\n",
      "--- PPO Model Response (Reward Score: -1.21) ---\n",
      "The basic atom or hydrogen atoms are arranged in a ring consisting mainly (but not exclusively) Triatomic and Hydrogen, which form one single unit called an electron; while their subunits reside within this Ring containing two electrons attached to each other by free neutrons that act as spin-bonders for reactions on its surface.; also known simply \"triangles\". In general terms they have very little space relative to any fixed mass - only half energy per square centimeter squared,. Triplanes are also very small compared with air molecules suchAsthey can be used efficiently when moving at high speeds, and are extremely difficult due largelyto gravity itself* They also tend instead toward smaller masses, making them less proneTo collisions thanair devices.* Additionally, tri\n",
      "\n",
      "\n",
      "--- COMPARISON FOR PROMPT 4/8 ---\n",
      "PROMPT:\n",
      "### Instruction:\n",
      "What types of jobs are trending in the technology industry.\n",
      "\n",
      "### Response:\n",
      "\n",
      "\n",
      "------------------------------\n",
      "\n",
      "--- Base Model Response (Reward Score: -0.10) ---\n",
      "The following question was raised by a reader on reddit today, which I believe is relevant to many people and we may be able answer it more accurately if you include this information below (note that there were also questions about different fields): Are tech companies hiring engineers or technical workers? Is any software company looking for programmers who can help create new products with their own team members working together at other firms around them? You might have seen some posts from TechCrunch earlier tonight asking whether they find IT organizations \"more open\" than most others when asked directly what type these employees would like/would want such an environment inside those businesses; while another commenter pointed out how much easier things could become outside traditional corporate environments because all your local office space has one person doing everything\n"
     ]
    },
    {
     "name": "stdout",
     "output_type": "stream",
     "text": [
      "\n",
      "--- SFT Model Response (Reward Score: 0.16) ---\n",
      "-Finance and finance analysts  -Research, analysis & development specialists  1) Data analyst -Programming experts 2), IT systems administrator (H&S) -Software developers 3)(Designers and technical/technicians) 4) Consulting Engineer or software developer 5(Technology engineer)  Other roles such as web designer, data analyst, product manager, customer service representative at companies like Google, Microsoft, Apple etc. The tech sector is a highly competitive field with many different industries vying for each job. In order to find out which type would be considered an ideal candidate for every career field, search engine optimization (SEO) algorithms were used to create more detailed profiles of potential employers based on their skills, experience level, location, network capabilities\n",
      "\n",
      "--- PPO Model Response (Reward Score: 2.66) ---\n",
      "In order to find job opportunities and career paths, it is important for employers looking into software development roles or automation solutions that have strong background training; networking with experts in the field; and seeking out current research and analysis to gain insight into potential trends. Additionally there may be opportunities such as open positions or internships that offer a variety level of experience, while also being highly competitive for those looking towards tech-related projects. Finally, having an understanding about professional environments will help employers better manage their workload and can lead them to think outside the box. It is always good to seek advice from experienced professionals whenever possible. Good luck. Be sure to stay up-to-date on any new developments and make use of all available resources. With time and dedication\n",
      "\n",
      "\n",
      "--- COMPARISON FOR PROMPT 5/8 ---\n",
      "PROMPT:\n",
      "### Instruction:\n",
      "What should I know about starting a small business.\n",
      "\n",
      "### Response:\n",
      "\n",
      "\n",
      "------------------------------\n",
      "\n",
      "--- Base Model Response (Reward Score: -1.32) ---\n",
      "I am very interested in the ideas and resources that you mentioned, but if it is something to do with start-ups or startups then there are many more things on my mind when deciding what skills will help me get started this way (with some examples here).\n",
      "\n",
      "--- SFT Model Response (Reward Score: 2.54) ---\n",
      "To start your own Small Business, you will need to first define what it is and how it works. Then create an operational plan for the project and budget. Once all of this is done in writing or by consulting with other businesses, make sure that everything flows smoothly from start-up to production. Additionally research any legal requirements such as obtaining permits and payment forms before beginning your operation. Finally secure financing through crowdfunding efforts like Ponzi schemes or angel investors who may be able to take advantage of tax incentives offered at participating banks and financial institutions. It's also important not to forget to follow up regularly after providing information on your progress and ensure there are no errors while maintaining effective customer service policies. With these steps, you’ll have established\n",
      "\n",
      "--- PPO Model Response (Reward Score: 2.49) ---\n",
      "To start your small business, you should understand the concept of entrepreneurship and consider the potential risks associated with starting larger businesses. Additionally it is important to have a clear vision for how you will want to build the business and be prepared if needed in order not only to survive but also to grow. Once these two factors are taken into consideration, you should research any new opportunities or strategies that may be beneficial to you and seek advice from experienced entrepreneurs. Finally, make sure to stay organized and keep track of all your progress as well as take responsibility for handling unexpected challenges. By following through with successful ventures and finding ways to reduce overhead costs, you can ensure you achieve success at your own pace. Good luck in reaching your big dream. Don't forget to follow\n",
      "\n",
      "\n",
      "--- COMPARISON FOR PROMPT 6/8 ---\n",
      "PROMPT:\n",
      "### Instruction:\n",
      "How do I price my artwork.\n",
      "\n",
      "### Response:\n",
      "\n",
      "\n",
      "------------------------------\n",
      "\n",
      "--- Base Model Response (Reward Score: 0.93) ---\n",
      ", please read this section carefully. If it says something that you think is wrong or not worth the money and if there are any questions ask them first to see how much they want before deciding on a higher level of pricing (e-mail fee). Some artists only have access in case their work isn't particularly good but some will show up for free as quickly with no charge at all unless paid by one person who doesn´t pay, e2p has many great galleries where people can find artworks which sell very well... The more commissions an artist produces so far from each other over time then its possible even better quality - just click through without taking your eye off everything; http://www3dscannerproximity1/blog/?\n",
      "\n",
      "--- SFT Model Response (Reward Score: 1.71) ---\n",
      "To buy artwork online, you will need to visit a gallery or website like Etsy for art prints and accessories. For more detailed information on the process of buying artwork, see How can I choose an artist in your area who specializes in painting murals. \n",
      "\n",
      "2 Once you have selected an artist, they may be able help offer discounts by offering coupons through their websites that allow customers to shop at higher rates than normal prices. Additionally​, if you are looking for handmade pieces from trusted artists, consider using local craft stores such as ArtCinema which specialize around making custom-made items available directly within the store. Finally​​, it’s important not to discount any other products offered during the purchase time period; only select quality materials\n",
      "\n",
      "--- PPO Model Response (Reward Score: 1.81) ---\n",
      "To pricing your art, start by researching the artist and their portfolio to determine what other artists are making versus competing with them for quality or price point of a workpiece! You can also look at online auctions or ask friends/family who have done art for you to find out if they've found a good value on artpieces. Additionally be sure not sell art directly as it may be difficult selling in bulk. Finally, research the local area where you are purchasing art to ensure you get something that is only fair. Good luck. With enough resources and patience, you'll soon be able to negotiate prices consistently and make art sales more affordable. Believe in yourself and take advantage of any opportunities taken. Make sure to maintain an active customer service team so you\n",
      "\n",
      "\n",
      "--- COMPARISON FOR PROMPT 7/8 ---\n",
      "PROMPT:\n",
      "### Instruction:\n",
      "What kind of diet should I follow to lose weight healthily.\n",
      "\n",
      "### Response:\n",
      "\n",
      "\n",
      "------------------------------\n",
      "\n",
      "--- Base Model Response (Reward Score: 1.83) ---\n",
      "I'm happy with the first 10 steps, but don't know what you've been doing wrong before now! But if it's still not right for me or your body and mind (at least when my kids are young), then this is where we need more guidance on how bestto do so in life as well...you can be a little bit different :) So please note that all these tips will help make getting into healthier habits happen!! For example, eating healthy means taking care off foods like fruit; fruits reduce energy intake by 4-6% while vegetables also have less than 5%, they lower inflammation levels & promote positive moods.* Check out our full guide here.\n",
      "\n",
      "--- SFT Model Response (Reward Score: 2.21) ---\n",
      "Protein-rich foods such as fruits, vegetables and whole grains are high in fiber, protein sources like lean proteins like fish or chicken, and low fat diets that include a variety can help you maintain healthy eating habits while increasing your intake during the day. \n",
      "2 Low-fat dairy products may also provide additional benefits with their lower glycemic index (GI) levels compared for other types but they usually have fewer calories than saturated fats when used together. Eating smaller portions will give you more time to burn off excess calories after meals rather then consuming too much energy from carbohydrates alone. Avoid processed foods due both the amount refined sugars and trans fatty acids present in them. Additionally avoid sugary drinks at least twice per week – only portion sizes higher than 10\n"
     ]
    },
    {
     "name": "stdout",
     "output_type": "stream",
     "text": [
      "\n",
      "--- PPO Model Response (Reward Score: 2.95) ---\n",
      "One type that you should follow for losing fat and unhealthy weight is a balanced, nutritious plan based on eating whole foods such as fruits & vegetables; limiting your intake too much or too little can help to maintain a healthy weight control regime. Additionally, make sure to try to limit processed and sugary foods and avoid sugary beverages. Finally, don't forget to include in-vitro meals with healthy fats like nuts and seeds. This will promote good digestion and reduce your risk factors for overeating. It's important to take the time to adjust your dietary habits so as not become overweight or obese. Good luck. Now, it’s best to reach out to friends and family who may have experienced anorexia. You could also consider\n",
      "\n",
      "\n",
      "--- COMPARISON FOR PROMPT 8/8 ---\n",
      "PROMPT:\n",
      "### Instruction:\n",
      "What are the most common mistakes people make when color coordinating their wardrobes.\n",
      "\n",
      "### Response:\n",
      "\n",
      "\n",
      "------------------------------\n",
      "\n",
      "--- Base Model Response (Reward Score: 0.72) ---\n",
      "'This is a great step.' When I started this project, my husband was working on his first book about an actual painting of African-American history and he'd just finished with it! We've since worked together to create something that's so unique we're making one myself!' My own experience as part black man (and white woman in general) has taught me how things can go wrong if you don't let your imagination be hijacked by other folks without permission from them or even realizing they might not realize what happened until later into life…even where there were no legal protections for us outside our home country….or ever after!! [emphasis mine]\n",
      "\n",
      " For those unfamiliarize yourself with 'color coordination', here goes... Color Coordinators do NOT\n",
      "\n",
      "--- SFT Model Response (Reward Score: 0.97) ---\n",
      "Dyeing or blotting colors on fabric is not recommended if they don't match up with your desired look. \n",
      "2 Adding dye and a paste can also cause an uneven, yellowed effect that could take away from the beauty of your outfit.  \n",
      "3 If you want to add texture and depth, try adding lighter tones such as orange or lime for added vibrancy.  This has been known to improve overall tone and enhance contrast in shades.  Yet even these techniques often end up making it seem more like a chore than something unique. It's important to be mindful of how much effort you put into each step before committing to them. Finally grasping this small bit at least makes me happy! Ultimately though, patience will\n",
      "\n",
      "--- PPO Model Response (Reward Score: 3.52) ---\n",
      "1) Oversizing or over-the lining of a colored sheet.  2.) Overmixing colors in different areas of your kit to enhance their contrast and color paleness (elements of one color can be mixed together at once). 3 ) Not using shades that are too close, such as blues nor green tones on an otherwise neutral color palette like cotton/sewers. 4) Not taking the time for each color to take effect. 5) Keeping the same shade combination throughout the entire project. 6) Unnecessarily mixing different layers so they blend rather than blending. 7) Minimizing the amount changes between colors you plan to use. 8) Trying not only to create harmony but also to adjust settings accordingly. 9) Avoid\n"
     ]
    }
   ],
   "source": [
    "models_to_compare = {\n",
    "    \"Base Model\": base_model,\n",
    "    \"SFT Model\": sft_model,\n",
    "    \"PPO Model\": ppo_model,\n",
    "}\n",
    "all_comparisons = []\n",
    "\n",
    "print(\"\\n\" + \"=\"*50)\n",
    "print(\"--- GENERATING MODEL COMPARISONS ---\")\n",
    "print(\"=\"*50)\n",
    "\n",
    "for i, prompt_text in tqdm(enumerate(sample_prompts)):\n",
    "    comparison_data = {\"prompt\": prompt_text, \"ground_truth\": ground_truths[i]}\n",
    "    \n",
    "    print(f\"\\n\\n--- COMPARISON FOR PROMPT {i+1}/{len(sample_prompts)} ---\")\n",
    "    print(f\"PROMPT:\\n{prompt_text}\")\n",
    "    print(\"\\n\" + \"-\"*30)\n",
    "\n",
    "    for name, model in models_to_compare.items():\n",
    "        inputs = tokenizer(prompt_text, return_tensors=\"pt\").to(DEVICE)\n",
    "        \n",
    "        with torch.no_grad():\n",
    "            outputs = model.generate(**inputs, max_new_tokens=150, temperature=0.7, do_sample=True, repetition_penalty=1.2)\n",
    "        \n",
    "        full_response = tokenizer.decode(outputs[0], skip_special_tokens=True)\n",
    "        generated_part = full_response[len(prompt_text):].strip()\n",
    "        \n",
    "        # --- Get reward score for the generated response ---\n",
    "        reward_score = get_reward_score(prompt_text, generated_part, reward_model, tokenizer)\n",
    "        \n",
    "        # Print for side-by-side comparison\n",
    "        print(f\"\\n--- {name} Response (Reward Score: {reward_score:.2f}) ---\")\n",
    "        print(generated_part)\n",
    "        \n",
    "        # Save the response and its reward\n",
    "        comparison_data[f\"{name.lower().replace(' ', '_')}_response\"] = generated_part\n",
    "        comparison_data[f\"{name.lower().replace(' ', '_')}_reward\"] = reward_score\n",
    "    \n",
    "    all_comparisons.append(comparison_data)"
   ]
  },
  {
   "cell_type": "code",
   "execution_count": 105,
   "metadata": {},
   "outputs": [],
   "source": [
    "output_file_path = \"final_model_comparisons_with_rewards.json\"\n",
    "with open(output_file_path, \"w\") as f:\n",
    "    json.dump(all_comparisons, f, indent=4)"
   ]
  },
  {
   "cell_type": "code",
   "execution_count": null,
   "metadata": {},
   "outputs": [],
   "source": []
  },
  {
   "cell_type": "code",
   "execution_count": null,
   "metadata": {},
   "outputs": [],
   "source": []
  },
  {
   "cell_type": "code",
   "execution_count": null,
   "metadata": {},
   "outputs": [],
   "source": []
  },
  {
   "cell_type": "code",
   "execution_count": 110,
   "metadata": {},
   "outputs": [
    {
     "name": "stdout",
     "output_type": "stream",
     "text": [
      "Loading and processing dataset\n",
      "Dataset split into 31485 training examples and 1658 testing examples.\n",
      "Dataset processing complete.\n"
     ]
    }
   ],
   "source": [
    "_, test_dataset = get_sft_datasets('my-local-dataset/')"
   ]
  },
  {
   "cell_type": "code",
   "execution_count": 111,
   "metadata": {},
   "outputs": [
    {
     "name": "stdout",
     "output_type": "stream",
     "text": [
      "1658 1658\n"
     ]
    }
   ],
   "source": [
    "# Take all prompts and completions\n",
    "prompts = [item['prompt'] for item in test_dataset]\n",
    "ground_truths = [item['completion'] for item in test_dataset]\n",
    "\n",
    "print(len(prompts), len(ground_truths))"
   ]
  },
  {
   "cell_type": "code",
   "execution_count": null,
   "metadata": {},
   "outputs": [],
   "source": []
  },
  {
   "cell_type": "code",
   "execution_count": 114,
   "metadata": {},
   "outputs": [
    {
     "name": "stdout",
     "output_type": "stream",
     "text": [
      "\n",
      "--- Generating and Scoring Responses for All Models ---\n"
     ]
    },
    {
     "name": "stderr",
     "output_type": "stream",
     "text": [
      "Scoring Test Set: 100%|██████████| 200/200 [09:34<00:00,  2.87s/it]\n"
     ]
    }
   ],
   "source": [
    "models_to_compare = {\n",
    "    \"Base Model\": base_model,\n",
    "    \"SFT Model\": sft_model,\n",
    "    \"PPO Model\": ppo_model,\n",
    "}\n",
    "\n",
    "# --- 1. Initialize a dictionary to store lists of scores ---\n",
    "reward_scores = {name: [] for name in models_to_compare.keys()}\n",
    "\n",
    "print(\"\\n--- Generating and Scoring Responses for All Models ---\")\n",
    "\n",
    "prompts_for_scoring = test_dataset['prompt'][:200]\n",
    "\n",
    "for prompt_text in tqdm(prompts_for_scoring, desc=\"Scoring Test Set\"):\n",
    "    for name, model in models_to_compare.items():\n",
    "        # Generate a response\n",
    "        inputs = tokenizer(prompt_text, return_tensors=\"pt\").to(DEVICE)\n",
    "        with torch.no_grad():\n",
    "            outputs = model.generate(\n",
    "                **inputs,\n",
    "                max_new_tokens=150,\n",
    "                temperature=0.6,\n",
    "                do_sample=True,\n",
    "                repetition_penalty=1.2\n",
    "            )\n",
    "        \n",
    "        full_response = tokenizer.decode(outputs[0], skip_special_tokens=True)\n",
    "        generated_part = full_response[len(prompt_text):].strip()\n",
    "        \n",
    "        # Get reward score and append to the list for the current model\n",
    "        score = get_reward_score(prompt_text, generated_part, reward_model, tokenizer)\n",
    "        reward_scores[name].append(score)"
   ]
  },
  {
   "cell_type": "code",
   "execution_count": null,
   "metadata": {},
   "outputs": [],
   "source": []
  },
  {
   "cell_type": "code",
   "execution_count": 115,
   "metadata": {},
   "outputs": [
    {
     "name": "stdout",
     "output_type": "stream",
     "text": [
      "\n",
      "==================================================\n",
      "--- Final Average Reward Scores ---\n",
      "            Average Reward Score\n",
      "PPO Model               2.374737\n",
      "SFT Model               1.544633\n",
      "Base Model             -0.454855\n",
      "==================================================\n"
     ]
    }
   ],
   "source": [
    "final_avg_rewards = {name: np.mean(scores) for name, scores in reward_scores.items()}\n",
    "\n",
    "results_df = pd.DataFrame.from_dict(final_avg_rewards, orient='index', columns=['Average Reward Score'])\n",
    "results_df = results_df.sort_values(by='Average Reward Score', ascending=False)\n",
    "\n",
    "print(\"\\n\" + \"=\"*50)\n",
    "print(\"--- Final Average Reward Scores ---\")\n",
    "print(results_df)\n",
    "print(\"=\"*50)"
   ]
  },
  {
   "cell_type": "code",
   "execution_count": 116,
   "metadata": {},
   "outputs": [],
   "source": [
    "output_file_path = \"final_reward_scores.csv\"\n",
    "results_df.to_csv(output_file_path)"
   ]
  },
  {
   "cell_type": "code",
   "execution_count": null,
   "metadata": {},
   "outputs": [],
   "source": []
  }
 ],
 "metadata": {
  "kernelspec": {
   "display_name": "Python 3",
   "language": "python",
   "name": "python3"
  },
  "language_info": {
   "codemirror_mode": {
    "name": "ipython",
    "version": 3
   },
   "file_extension": ".py",
   "mimetype": "text/x-python",
   "name": "python",
   "nbconvert_exporter": "python",
   "pygments_lexer": "ipython3",
   "version": "3.8.10"
  }
 },
 "nbformat": 4,
 "nbformat_minor": 2
}
