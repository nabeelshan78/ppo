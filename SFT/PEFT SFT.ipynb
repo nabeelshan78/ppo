{
 "cells": [
  {
   "cell_type": "code",
   "execution_count": 5,
   "metadata": {},
   "outputs": [],
   "source": [
    "# !pip install transformers==4.43.4\n",
    "# !pip install torch\n",
    "# # !pip install trl\n",
    "# !pip install trl==0.11\n",
    "# !pip install peft\n",
    "# !pip install --upgrade tqdm\n",
    "# !pip install -U bitsandbytes\n",
    "# !pip install --upgrade jinja2"
   ]
  },
  {
   "cell_type": "code",
   "execution_count": 6,
   "metadata": {},
   "outputs": [],
   "source": [
    "import torch\n",
    "from transformers import AutoModelForCausalLM, AutoTokenizer, BitsAndBytesConfig, TrainingArguments\n",
    "from peft import LoraConfig\n",
    "from trl import SFTTrainer"
   ]
  },
  {
   "cell_type": "code",
   "execution_count": 7,
   "metadata": {},
   "outputs": [],
   "source": [
    "from prepare_data import get_sft_datasets"
   ]
  },
  {
   "cell_type": "code",
   "execution_count": 8,
   "metadata": {},
   "outputs": [
    {
     "name": "stdout",
     "output_type": "stream",
     "text": [
      "Loading and processing dataset\n",
      "Dataset split into 31485 training examples and 1658 testing examples.\n",
      "Dataset processing complete.\n"
     ]
    }
   ],
   "source": [
    "train_dataset, test_dataset = get_sft_datasets(dataset_name='my-local-dataset/')"
   ]
  },
  {
   "cell_type": "code",
   "execution_count": 5,
   "metadata": {},
   "outputs": [
    {
     "name": "stdout",
     "output_type": "stream",
     "text": [
      "\n",
      "--- Train Set Verification ---\n",
      "Train dataset size: 31485 examples\n",
      "Features: {'prompt': Value(dtype='string', id=None), 'completion': Value(dtype='string', id=None)}\n",
      "\n",
      "PROMPT: ### Instruction:\n",
      "What are some tips for developing a better mental attitude towards difficult tasks.\n",
      "\n",
      "### Response:\n",
      "\n",
      "COMPLETION: Break difficult tasks down into manageable pieces. \n",
      "2. Take things one step at a time and reward yourself for small accomplishments. \n",
      "3. Visualize yourself succeeding in the task. \n",
      "4. Focus on the process rather than the outcome. \n",
      "5. Remind yourself that you are capable of completing the task.\n",
      "6. Believe in yourself and your ability to find new solutions to problems. \n",
      "7. Give yourself positive affirmations and build a positive mindset.\n",
      "8. Eliminate distractions and prioritize meaningful tasks. \n",
      "9. Take time to refocus and regroup when necessary. \n",
      "10. Surround yourself with positive people who will help you stay focused on your goals.\n",
      "\n",
      "--- Test Set Verification ---\n",
      "Test dataset size: 1658 examples\n",
      "Features: {'prompt': Value(dtype='string', id=None), 'completion': Value(dtype='string', id=None)}\n",
      "\n",
      "PROMPT: ### Instruction:\n",
      "What are the different types of loans I can apply for to purchase a house.\n",
      "\n",
      "### Response:\n",
      "\n",
      "COMPLETION: Conventional Loans  \n",
      "\t\t\t2  FHA Loans  \n",
      "\t\t\t3  VA Loans \n",
      "\t\t\t4  USDA Loans \n",
      "\t\t\t5  Home Equity Loans \n",
      "\t\t\t6  Balloon Mortgages \n",
      "\t\t\t7  Adjustable Rate Mortgages (ARMs) \n",
      "\t\t\t8  Jumbo Mortgage Loans.\n"
     ]
    }
   ],
   "source": [
    "print(\"\\n--- Train Set Verification ---\")\n",
    "print(f\"Train dataset size: {len(train_dataset)} examples\")\n",
    "print(\"Features:\", train_dataset.features)\n",
    "print(\"\\nPROMPT:\", train_dataset[0]['prompt'])\n",
    "print(\"COMPLETION:\", train_dataset[0]['completion'])\n",
    "    \n",
    "print(\"\\n--- Test Set Verification ---\")\n",
    "print(f\"Test dataset size: {len(test_dataset)} examples\")\n",
    "print(\"Features:\", test_dataset.features)\n",
    "print(\"\\nPROMPT:\", test_dataset[0]['prompt'])\n",
    "print(\"COMPLETION:\", test_dataset[0]['completion'])"
   ]
  },
  {
   "cell_type": "code",
   "execution_count": 6,
   "metadata": {},
   "outputs": [
    {
     "data": {
      "text/plain": [
       "Dataset({\n",
       "    features: ['prompt', 'completion'],\n",
       "    num_rows: 31485\n",
       "})"
      ]
     },
     "execution_count": 6,
     "metadata": {},
     "output_type": "execute_result"
    }
   ],
   "source": [
    "train_dataset"
   ]
  },
  {
   "cell_type": "code",
   "execution_count": 7,
   "metadata": {},
   "outputs": [
    {
     "data": {
      "text/plain": [
       "Dataset({\n",
       "    features: ['prompt', 'completion'],\n",
       "    num_rows: 1658\n",
       "})"
      ]
     },
     "execution_count": 7,
     "metadata": {},
     "output_type": "execute_result"
    }
   ],
   "source": [
    "test_dataset"
   ]
  },
  {
   "cell_type": "code",
   "execution_count": null,
   "metadata": {},
   "outputs": [],
   "source": []
  },
  {
   "cell_type": "code",
   "execution_count": null,
   "metadata": {},
   "outputs": [],
   "source": []
  },
  {
   "cell_type": "code",
   "execution_count": 8,
   "metadata": {},
   "outputs": [
    {
     "name": "stdout",
     "output_type": "stream",
     "text": [
      "CUDA available: True\n",
      "GPU count: 1\n",
      "GPU name: NVIDIA A10G\n"
     ]
    }
   ],
   "source": [
    "print(\"CUDA available:\", torch.cuda.is_available())\n",
    "print(\"GPU count:\", torch.cuda.device_count())\n",
    "if torch.cuda.is_available():\n",
    "    print(\"GPU name:\", torch.cuda.get_device_name(0))"
   ]
  },
  {
   "cell_type": "code",
   "execution_count": null,
   "metadata": {},
   "outputs": [],
   "source": []
  },
  {
   "cell_type": "code",
   "execution_count": 9,
   "metadata": {},
   "outputs": [],
   "source": [
    "# Model and tokenizer names\n",
    "model_name = \"gpt2\"\n",
    "\n",
    "tokenizer = AutoTokenizer.from_pretrained(model_name)\n",
    "tokenizer.pad_token = tokenizer.eos_token "
   ]
  },
  {
   "cell_type": "code",
   "execution_count": 10,
   "metadata": {},
   "outputs": [],
   "source": [
    "bnb_config = BitsAndBytesConfig(\n",
    "    load_in_4bit=True,\n",
    "    bnb_4bit_quant_type=\"nf4\",\n",
    "    bnb_4bit_compute_dtype=torch.float16,\n",
    ")"
   ]
  },
  {
   "cell_type": "code",
   "execution_count": 11,
   "metadata": {},
   "outputs": [],
   "source": [
    "model = AutoModelForCausalLM.from_pretrained(\n",
    "    model_name,\n",
    "    quantization_config=bnb_config,\n",
    "    device_map=\"auto\",\n",
    ")\n",
    "model.config.use_cache = False # Disable caching for training"
   ]
  },
  {
   "cell_type": "code",
   "execution_count": 12,
   "metadata": {},
   "outputs": [],
   "source": [
    "lora_config = LoraConfig(\n",
    "    r=16,                \n",
    "    lora_alpha=32,       \n",
    "    target_modules=[\"c_attn\"],\n",
    "    lora_dropout=0.05,\n",
    "    bias=\"none\",\n",
    "    task_type=\"CAUSAL_LM\"\n",
    ")"
   ]
  },
  {
   "cell_type": "code",
   "execution_count": 13,
   "metadata": {},
   "outputs": [],
   "source": [
    "training_args = TrainingArguments(\n",
    "    output_dir=\"./sft_results\",\n",
    "    num_train_epochs=3,\n",
    "    per_device_train_batch_size=4,\n",
    "    per_device_eval_batch_size=4,\n",
    "    gradient_accumulation_steps=4,\n",
    "    optim=\"paged_adamw_8bit\",\n",
    "    learning_rate=2e-4,\n",
    "    fp16=True,\n",
    "    max_grad_norm=0.3,\n",
    "    warmup_ratio=0.03,\n",
    "    lr_scheduler_type=\"constant\",\n",
    "    logging_steps=50,\n",
    "    logging_first_step=True,\n",
    "    eval_strategy=\"steps\",      \n",
    "    eval_steps=500,             \n",
    "    save_steps=500,             \n",
    "    save_total_limit=2,         \n",
    "    load_best_model_at_end=True\n",
    ")"
   ]
  },
  {
   "cell_type": "code",
   "execution_count": 14,
   "metadata": {},
   "outputs": [],
   "source": [
    "trainer = SFTTrainer(\n",
    "    model=model,\n",
    "    train_dataset=train_dataset,\n",
    "    eval_dataset=test_dataset,\n",
    "    peft_config=lora_config,\n",
    "    tokenizer=tokenizer,\n",
    "    args=training_args,\n",
    "    max_seq_length=1024,\n",
    ")"
   ]
  },
  {
   "cell_type": "markdown",
   "metadata": {},
   "source": [
    "##  Start training"
   ]
  },
  {
   "cell_type": "code",
   "execution_count": 15,
   "metadata": {
    "scrolled": true
   },
   "outputs": [
    {
     "data": {
      "text/html": [
       "\n",
       "    <div>\n",
       "      \n",
       "      <progress value='5904' max='5904' style='width:300px; height:20px; vertical-align: middle;'></progress>\n",
       "      [5904/5904 20:24, Epoch 3/3]\n",
       "    </div>\n",
       "    <table border=\"1\" class=\"dataframe\">\n",
       "  <thead>\n",
       " <tr style=\"text-align: left;\">\n",
       "      <th>Step</th>\n",
       "      <th>Training Loss</th>\n",
       "      <th>Validation Loss</th>\n",
       "    </tr>\n",
       "  </thead>\n",
       "  <tbody>\n",
       "    <tr>\n",
       "      <td>500</td>\n",
       "      <td>2.132800</td>\n",
       "      <td>2.020864</td>\n",
       "    </tr>\n",
       "    <tr>\n",
       "      <td>1000</td>\n",
       "      <td>2.110600</td>\n",
       "      <td>1.962985</td>\n",
       "    </tr>\n",
       "    <tr>\n",
       "      <td>1500</td>\n",
       "      <td>2.083500</td>\n",
       "      <td>1.935814</td>\n",
       "    </tr>\n",
       "    <tr>\n",
       "      <td>2000</td>\n",
       "      <td>2.057300</td>\n",
       "      <td>1.916776</td>\n",
       "    </tr>\n",
       "    <tr>\n",
       "      <td>2500</td>\n",
       "      <td>2.042000</td>\n",
       "      <td>1.903975</td>\n",
       "    </tr>\n",
       "    <tr>\n",
       "      <td>3000</td>\n",
       "      <td>2.015600</td>\n",
       "      <td>1.889812</td>\n",
       "    </tr>\n",
       "    <tr>\n",
       "      <td>3500</td>\n",
       "      <td>2.015000</td>\n",
       "      <td>1.881979</td>\n",
       "    </tr>\n",
       "    <tr>\n",
       "      <td>4000</td>\n",
       "      <td>2.003500</td>\n",
       "      <td>1.874724</td>\n",
       "    </tr>\n",
       "    <tr>\n",
       "      <td>4500</td>\n",
       "      <td>1.987200</td>\n",
       "      <td>1.868824</td>\n",
       "    </tr>\n",
       "    <tr>\n",
       "      <td>5000</td>\n",
       "      <td>1.995500</td>\n",
       "      <td>1.863858</td>\n",
       "    </tr>\n",
       "    <tr>\n",
       "      <td>5500</td>\n",
       "      <td>1.996500</td>\n",
       "      <td>1.856733</td>\n",
       "    </tr>\n",
       "  </tbody>\n",
       "</table><p>"
      ],
      "text/plain": [
       "<IPython.core.display.HTML object>"
      ]
     },
     "metadata": {},
     "output_type": "display_data"
    },
    {
     "data": {
      "text/plain": [
       "TrainOutput(global_step=5904, training_loss=2.0524148342974464, metrics={'train_runtime': 1224.7351, 'train_samples_per_second': 77.123, 'train_steps_per_second': 4.821, 'total_flos': 8489488484100096.0, 'train_loss': 2.0524148342974464, 'epoch': 3.0})"
      ]
     },
     "execution_count": 15,
     "metadata": {},
     "output_type": "execute_result"
    }
   ],
   "source": [
    "trainer.train()"
   ]
  },
  {
   "cell_type": "code",
   "execution_count": 17,
   "metadata": {},
   "outputs": [
    {
     "data": {
      "text/plain": [
       "('./peft_sft_final_checkpoint/tokenizer_config.json',\n",
       " './peft_sft_final_checkpoint/special_tokens_map.json',\n",
       " './peft_sft_final_checkpoint/vocab.json',\n",
       " './peft_sft_final_checkpoint/merges.txt',\n",
       " './peft_sft_final_checkpoint/added_tokens.json',\n",
       " './peft_sft_final_checkpoint/tokenizer.json')"
      ]
     },
     "execution_count": 17,
     "metadata": {},
     "output_type": "execute_result"
    }
   ],
   "source": [
    "trainer.save_model(\"./peft_sft_final_checkpoint\")\n",
    "tokenizer.save_pretrained(\"./peft_sft_final_checkpoint\")"
   ]
  },
  {
   "cell_type": "code",
   "execution_count": null,
   "metadata": {},
   "outputs": [],
   "source": []
  },
  {
   "cell_type": "code",
   "execution_count": 9,
   "metadata": {},
   "outputs": [
    {
     "name": "stdout",
     "output_type": "stream",
     "text": [
      "\n",
      "Loading base gpt2 model...\n",
      "Loading PEFT fine-tuned SFT model...\n"
     ]
    }
   ],
   "source": [
    "device = torch.device(\"cuda\" if torch.cuda.is_available() else \"cpu\")\n",
    "\n",
    "print(\"\\nLoading base gpt2 model...\")\n",
    "base_model = AutoModelForCausalLM.from_pretrained(\"gpt2\").to(device)\n",
    "base_tokenizer = AutoTokenizer.from_pretrained(\"gpt2\")\n",
    "\n",
    "print(\"Loading PEFT fine-tuned SFT model...\")\n",
    "sft_model = AutoModelForCausalLM.from_pretrained(\"./peft_sft_final_checkpoint\").to(device)\n",
    "sft_tokenizer = AutoTokenizer.from_pretrained(\"./peft_sft_final_checkpoint\")"
   ]
  },
  {
   "cell_type": "code",
   "execution_count": 10,
   "metadata": {},
   "outputs": [],
   "source": [
    "def generate_response(model, tokenizer, prompt_text):\n",
    "    \"\"\"\n",
    "    Generates a response from a given model and tokenizer.\n",
    "    \"\"\"\n",
    "    \n",
    "    formatted_prompt = f\"### Instruction:\\n{prompt_text}\\n\\n### Response:\\n\"\n",
    "    \n",
    "    inputs = tokenizer(formatted_prompt, return_tensors=\"pt\").to(device)\n",
    "    \n",
    "    with torch.no_grad():\n",
    "        outputs = model.generate(\n",
    "            **inputs,\n",
    "            max_new_tokens=200,\n",
    "            temperature=0.7,  \n",
    "            do_sample=True, \n",
    "        )\n",
    "    \n",
    "    full_response = tokenizer.decode(outputs[0], skip_special_tokens=True)\n",
    "    return full_response[len(formatted_prompt):].strip()"
   ]
  },
  {
   "cell_type": "code",
   "execution_count": null,
   "metadata": {},
   "outputs": [],
   "source": []
  },
  {
   "cell_type": "code",
   "execution_count": 13,
   "metadata": {},
   "outputs": [
    {
     "data": {
      "text/plain": [
       "Dataset({\n",
       "    features: ['prompt', 'completion'],\n",
       "    num_rows: 1658\n",
       "})"
      ]
     },
     "execution_count": 13,
     "metadata": {},
     "output_type": "execute_result"
    }
   ],
   "source": [
    "test_dataset"
   ]
  },
  {
   "cell_type": "code",
   "execution_count": 14,
   "metadata": {},
   "outputs": [],
   "source": [
    "def evaluate_models(prompt, ground_truth, models):\n",
    "    print(\"\\n\" + \"=\"*60)\n",
    "    print(\" PERFORMANCE COMPARISON \".center(60, \"=\"))\n",
    "    print(\"=\"*60)\n",
    "\n",
    "    print(f\"\\nPROMPT:\\n{prompt}\\n\")\n",
    "    print(f\"GROUND TRUTH:\\n{ground_truth}\\n\")\n",
    "\n",
    "    for name, model, tokenizer in models:\n",
    "        print(f\"\\n--- {name.upper()} RESPONSE ---\")\n",
    "        response = generate_response(model, tokenizer, prompt)\n",
    "        print(response)\n",
    "\n",
    "    print(\"\\n\" + \"=\"*60)\n",
    "\n",
    "models_to_compare = [\n",
    "    (\"Base Model (GPT-2)\", base_model, base_tokenizer),\n",
    "    (\"PEFT SFT Model\", sft_model, sft_tokenizer),\n",
    "]"
   ]
  },
  {
   "cell_type": "code",
   "execution_count": 15,
   "metadata": {},
   "outputs": [
    {
     "name": "stderr",
     "output_type": "stream",
     "text": [
      "Setting `pad_token_id` to `eos_token_id`:50256 for open-end generation.\n"
     ]
    },
    {
     "name": "stdout",
     "output_type": "stream",
     "text": [
      "\n",
      "============================================================\n",
      "================== PERFORMANCE COMPARISON ==================\n",
      "============================================================\n",
      "\n",
      "PROMPT:\n",
      "### Instruction:\n",
      "I want to shop for a new car. What should I look for in price, features, and safety.\n",
      "\n",
      "### Response:\n",
      "\n",
      "\n",
      "GROUND TRUTH:\n",
      "For price, look for a car that fits your budget. Consider the total cost, including maintenance, registration, and insurance. When it comes to features, think about what is most important to you. Do you need a lot of cargo space? Or are you looking for the latest technology? When it comes to safety, look for a car with the latest safety features, like lane-keeping assist, adaptive cruise control, and blind spot monitoring. Additionally, consider the car’s ratings in crash tests and look for features like airbags, anti-lock brakes, and anti-theft systems.\n",
      "\n",
      "\n",
      "--- BASE MODEL (GPT-2) RESPONSE ---\n"
     ]
    },
    {
     "name": "stderr",
     "output_type": "stream",
     "text": [
      "Setting `pad_token_id` to `eos_token_id`:50256 for open-end generation.\n"
     ]
    },
    {
     "name": "stdout",
     "output_type": "stream",
     "text": [
      "It's just me trying to get a car that looks nice, feels like it has fun, and can drive well enough.\n",
      "\n",
      "### Response:\n",
      "\n",
      "\n",
      "### Response:\n",
      "\n",
      "I have a new car, but it has a couple things I need to do to make it fit.\n",
      "\n",
      "### Response:\n",
      "\n",
      "\n",
      "### Response:\n",
      "\n",
      "\n",
      "### Response:\n",
      "\n",
      "I have a new car, but it has a couple things I need to do to make it fit.\n",
      "\n",
      "### Response:\n",
      "\n",
      "\n",
      "### Response:\n",
      "\n",
      "\n",
      "### Response:\n",
      "\n",
      "I have a new car, but it has a couple things I need to do to make it fit.\n",
      "\n",
      "### Response:\n",
      "\n",
      "\n",
      "### Response:\n",
      "\n",
      "\n",
      "### Response:\n",
      "\n",
      "\n",
      "### Response:\n",
      "\n",
      "\n",
      "### Response:\n",
      "\n",
      "\n",
      "### Response:\n",
      "\n",
      "\n",
      "### Response:\n",
      "\n",
      "\n",
      "### Response:\n",
      "\n",
      "\n",
      "### Response:\n",
      "\n",
      "\n",
      "### Response:\n",
      "\n",
      "\n",
      "### Response:\n",
      "\n",
      "\n",
      "### Response:\n",
      "\n",
      "\n",
      "### Response:\n",
      "\n",
      "--- PEFT SFT MODEL RESPONSE ---\n",
      "Some other factors you may consider in price, features, and safety include performance, environmental, and safety. This can include the size of the car and the type of warranty you are seeking. Additionally, you may need to know the type of vehicle you are looking for. Additionally, you may want to look into the safety features of the car such as seatbelts and steering systems, as well as the driver’s license number. Finally, you may want to look into the safety features of the vehicle such as seat belts and safety equipment. Finally, consider what type of vehicle you are looking for to avoid an accident. Finally, it is important to make sure to check your insurance policies and make sure to pay attention to the safety features of the vehicle. Finally, it is important to look into the driving conditions of the car to avoid any accidents.\n",
      "\n",
      "2. Make sure to check your driving record to make sure it is functioning properly. This is particularly important as the new car may\n",
      "\n",
      "============================================================\n"
     ]
    }
   ],
   "source": [
    "idx = 20\n",
    "prompt = test_dataset[idx][\"prompt\"]\n",
    "ground_truth = test_dataset[idx][\"completion\"]\n",
    "\n",
    "\n",
    "evaluate_models(prompt, ground_truth, models_to_compare)"
   ]
  },
  {
   "cell_type": "code",
   "execution_count": null,
   "metadata": {},
   "outputs": [],
   "source": []
  },
  {
   "cell_type": "code",
   "execution_count": 23,
   "metadata": {},
   "outputs": [],
   "source": [
    "import json\n",
    "import matplotlib.pyplot as plt\n",
    "\n",
    "log_file = \"sft_results/checkpoint-5904/trainer_state.json\"\n",
    "\n",
    "# Read the log file\n",
    "with open(log_file, 'r') as f:\n",
    "    logs = json.load(f)\n",
    "\n",
    "# --- Prepare lists to store all metrics ---\n",
    "train_steps = []\n",
    "train_losses = []\n",
    "eval_steps = []\n",
    "eval_losses = []\n",
    "\n",
    "# --- Iterate through the log history and extract all data ---\n",
    "for log in logs[\"log_history\"]:\n",
    "    if \"loss\" in log:\n",
    "        train_steps.append(log[\"step\"])\n",
    "        train_losses.append(log[\"loss\"])\n",
    "    \n",
    "    elif \"eval_loss\" in log:\n",
    "        eval_steps.append(log[\"step\"])\n",
    "        eval_losses.append(log[\"eval_loss\"])"
   ]
  },
  {
   "cell_type": "code",
   "execution_count": 25,
   "metadata": {},
   "outputs": [
    {
     "data": {
      "image/png": "[encoded data removed]",
      "text/plain": [
       "<Figure size 1200x600 with 1 Axes>"
      ]
     },
     "metadata": {},
     "output_type": "display_data"
    }
   ],
   "source": [
    "fig, ax1 = plt.subplots(figsize=(12, 6))\n",
    "\n",
    "ax1.plot(train_steps, train_losses, 'b-', label=\"Training Loss\")\n",
    "ax1.plot(eval_steps, eval_losses, 'g-s', label=\"Validation Loss\", markersize=8) \n",
    "ax1.set_xlabel(\"Steps\", fontsize=12)\n",
    "ax1.set_ylabel(\"Loss\", color='b', fontsize=12)\n",
    "ax1.tick_params(axis='y', labelcolor='b')\n",
    "ax1.grid(True, which='both', linestyle='--', linewidth=0.5)\n",
    "\n",
    "plt.title(\"Training & Validation Losses Over Time\", fontsize=16)\n",
    "\n",
    "lines, labels = ax1.get_legend_handles_labels()\n",
    "ax1.legend(lines, labels, loc='upper right')\n",
    "\n",
    "plt.show()"
   ]
  },
  {
   "cell_type": "code",
   "execution_count": null,
   "metadata": {},
   "outputs": [],
   "source": []
  }
 ],
 "metadata": {
  "kernelspec": {
   "display_name": "Python 3",
   "language": "python",
   "name": "python3"
  },
  "language_info": {
   "codemirror_mode": {
    "name": "ipython",
    "version": 3
   },
   "file_extension": ".py",
   "mimetype": "text/x-python",
   "name": "python",
   "nbconvert_exporter": "python",
   "pygments_lexer": "ipython3",
   "version": "3.8.10"
  }
 },
 "nbformat": 4,
 "nbformat_minor": 2
}
