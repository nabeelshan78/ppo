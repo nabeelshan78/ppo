{
 "cells": [
  {
   "cell_type": "markdown",
   "metadata": {},
   "source": [
    "# Supervised Fine-Tuning (SFT): Full Parameter Training\n",
    "\n",
    "This notebook performs a **full fine-tuning** of the base `gpt2` model. All of the model's parameters are updated during training on our custom instruction dataset.\n",
    "\n",
    "### **Objective:**\n",
    "- Create a powerful, specialized model by training the entire network.\n",
    "- Establish a high-performance benchmark to compare against more efficient methods."
   ]
  },
  {
   "cell_type": "code",
   "execution_count": 2,
   "metadata": {},
   "outputs": [],
   "source": [
    "# !pip install transformers==4.43.4\n",
    "# !pip install torch\n",
    "# # !pip install trl\n",
    "# !pip install trl==0.11\n",
    "# !pip install peft\n",
    "# !pip install --upgrade tqdm\n",
    "# !pip install --upgrade jinja2"
   ]
  },
  {
   "cell_type": "code",
   "execution_count": 1,
   "metadata": {},
   "outputs": [],
   "source": [
    "import torch\n",
    "from transformers import AutoModelForCausalLM, AutoTokenizer, BitsAndBytesConfig, TrainingArguments\n",
    "from peft import LoraConfig\n",
    "from trl import SFTTrainer"
   ]
  },
  {
   "cell_type": "code",
   "execution_count": 2,
   "metadata": {},
   "outputs": [],
   "source": [
    "from prepare_data import get_sft_datasets"
   ]
  },
  {
   "cell_type": "code",
   "execution_count": 3,
   "metadata": {},
   "outputs": [
    {
     "name": "stdout",
     "output_type": "stream",
     "text": [
      "Loading and processing dataset\n",
      "Dataset split into 31485 training examples and 1658 testing examples.\n",
      "Dataset processing complete.\n"
     ]
    }
   ],
   "source": [
    "train_dataset, test_dataset = get_sft_datasets(dataset_name='my-local-dataset/')"
   ]
  },
  {
   "cell_type": "code",
   "execution_count": 12,
   "metadata": {},
   "outputs": [],
   "source": [
    "tokenizer = AutoTokenizer.from_pretrained('gpt2')"
   ]
  },
  {
   "cell_type": "code",
   "execution_count": 13,
   "metadata": {},
   "outputs": [],
   "source": [
    "def add_eos_token(sample):\n",
    "    sample[\"completion\"] = sample[\"completion\"] + tokenizer.eos_token\n",
    "    return sample"
   ]
  },
  {
   "cell_type": "code",
   "execution_count": 14,
   "metadata": {},
   "outputs": [],
   "source": [
    "train_dataset = train_dataset.map(add_eos_token)\n",
    "test_dataset = test_dataset.map(add_eos_token)"
   ]
  },
  {
   "cell_type": "code",
   "execution_count": 15,
   "metadata": {},
   "outputs": [
    {
     "name": "stdout",
     "output_type": "stream",
     "text": [
      "\n",
      "--- Train Set Verification ---\n",
      "Train dataset size: 31485 examples\n",
      "Features: {'prompt': Value(dtype='string', id=None), 'completion': Value(dtype='string', id=None)}\n",
      "\n",
      "PROMPT: ### Instruction:\n",
      "What are some tips for developing a better mental attitude towards difficult tasks.\n",
      "\n",
      "### Response:\n",
      "\n",
      "COMPLETION: Break difficult tasks down into manageable pieces. \n",
      "2. Take things one step at a time and reward yourself for small accomplishments. \n",
      "3. Visualize yourself succeeding in the task. \n",
      "4. Focus on the process rather than the outcome. \n",
      "5. Remind yourself that you are capable of completing the task.\n",
      "6. Believe in yourself and your ability to find new solutions to problems. \n",
      "7. Give yourself positive affirmations and build a positive mindset.\n",
      "8. Eliminate distractions and prioritize meaningful tasks. \n",
      "9. Take time to refocus and regroup when necessary. \n",
      "10. Surround yourself with positive people who will help you stay focused on your goals.<|endoftext|>\n",
      "\n",
      "--- Test Set Verification ---\n",
      "Test dataset size: 1658 examples\n",
      "Features: {'prompt': Value(dtype='string', id=None), 'completion': Value(dtype='string', id=None)}\n",
      "\n",
      "PROMPT: ### Instruction:\n",
      "What are the different types of loans I can apply for to purchase a house.\n",
      "\n",
      "### Response:\n",
      "\n",
      "COMPLETION: Conventional Loans  \n",
      "\t\t\t2  FHA Loans  \n",
      "\t\t\t3  VA Loans \n",
      "\t\t\t4  USDA Loans \n",
      "\t\t\t5  Home Equity Loans \n",
      "\t\t\t6  Balloon Mortgages \n",
      "\t\t\t7  Adjustable Rate Mortgages (ARMs) \n",
      "\t\t\t8  Jumbo Mortgage Loans.<|endoftext|>\n"
     ]
    }
   ],
   "source": [
    "print(\"\\n--- Train Set Verification ---\")\n",
    "print(f\"Train dataset size: {len(train_dataset)} examples\")\n",
    "print(\"Features:\", train_dataset.features)\n",
    "print(\"\\nPROMPT:\", train_dataset[0]['prompt'])\n",
    "print(\"COMPLETION:\", train_dataset[0]['completion'])\n",
    "    \n",
    "print(\"\\n--- Test Set Verification ---\")\n",
    "print(f\"Test dataset size: {len(test_dataset)} examples\")\n",
    "print(\"Features:\", test_dataset.features)\n",
    "print(\"\\nPROMPT:\", test_dataset[0]['prompt'])\n",
    "print(\"COMPLETION:\", test_dataset[0]['completion'])"
   ]
  },
  {
   "cell_type": "code",
   "execution_count": 16,
   "metadata": {},
   "outputs": [
    {
     "data": {
      "text/plain": [
       "Dataset({\n",
       "    features: ['prompt', 'completion'],\n",
       "    num_rows: 31485\n",
       "})"
      ]
     },
     "execution_count": 16,
     "metadata": {},
     "output_type": "execute_result"
    }
   ],
   "source": [
    "train_dataset"
   ]
  },
  {
   "cell_type": "code",
   "execution_count": 17,
   "metadata": {},
   "outputs": [
    {
     "data": {
      "text/plain": [
       "Dataset({\n",
       "    features: ['prompt', 'completion'],\n",
       "    num_rows: 1658\n",
       "})"
      ]
     },
     "execution_count": 17,
     "metadata": {},
     "output_type": "execute_result"
    }
   ],
   "source": [
    "test_dataset"
   ]
  },
  {
   "cell_type": "code",
   "execution_count": null,
   "metadata": {},
   "outputs": [],
   "source": []
  },
  {
   "cell_type": "code",
   "execution_count": null,
   "metadata": {},
   "outputs": [],
   "source": []
  },
  {
   "cell_type": "code",
   "execution_count": 18,
   "metadata": {},
   "outputs": [
    {
     "name": "stdout",
     "output_type": "stream",
     "text": [
      "CUDA available: True\n",
      "GPU count: 1\n",
      "GPU name: NVIDIA A10G\n"
     ]
    }
   ],
   "source": [
    "print(\"CUDA available:\", torch.cuda.is_available())\n",
    "print(\"GPU count:\", torch.cuda.device_count())\n",
    "if torch.cuda.is_available():\n",
    "    print(\"GPU name:\", torch.cuda.get_device_name(0))"
   ]
  },
  {
   "cell_type": "code",
   "execution_count": null,
   "metadata": {},
   "outputs": [],
   "source": []
  },
  {
   "cell_type": "code",
   "execution_count": 19,
   "metadata": {},
   "outputs": [],
   "source": [
    "# Model and tokenizer names\n",
    "model_name = \"gpt2\"\n",
    "\n",
    "tokenizer = AutoTokenizer.from_pretrained(model_name)\n",
    "tokenizer.pad_token = tokenizer.eos_token "
   ]
  },
  {
   "cell_type": "code",
   "execution_count": 20,
   "metadata": {},
   "outputs": [],
   "source": [
    "model = AutoModelForCausalLM.from_pretrained(\n",
    "    model_name,\n",
    "    device_map=\"auto\",\n",
    ")\n",
    "model.config.use_cache = False # Disable caching for training"
   ]
  },
  {
   "cell_type": "code",
   "execution_count": 21,
   "metadata": {},
   "outputs": [],
   "source": [
    "training_args = TrainingArguments(\n",
    "    output_dir=\"./full_sft_results\",\n",
    "    num_train_epochs=3,\n",
    "    per_device_train_batch_size=4,\n",
    "    per_device_eval_batch_size=4,\n",
    "    gradient_accumulation_steps=4,\n",
    "    optim=\"adamw_torch\",     \n",
    "    learning_rate=2e-5,      \n",
    "    fp16=True,\n",
    "    max_grad_norm=0.3,\n",
    "    warmup_ratio=0.03,\n",
    "    lr_scheduler_type=\"constant\",\n",
    "    logging_steps=50,\n",
    "    logging_first_step=True,\n",
    "    eval_strategy=\"steps\",      \n",
    "    eval_steps=500,             \n",
    "    save_steps=500,             \n",
    "    save_total_limit=2,         \n",
    "    load_best_model_at_end=True\n",
    ")"
   ]
  },
  {
   "cell_type": "code",
   "execution_count": 23,
   "metadata": {},
   "outputs": [],
   "source": [
    "trainer = SFTTrainer(\n",
    "    model=model,\n",
    "    train_dataset=train_dataset,\n",
    "    eval_dataset=test_dataset,\n",
    "    tokenizer=tokenizer,\n",
    "    args=training_args,\n",
    "    max_seq_length=1024,\n",
    ")"
   ]
  },
  {
   "cell_type": "markdown",
   "metadata": {},
   "source": [
    "##  Start training"
   ]
  },
  {
   "cell_type": "code",
   "execution_count": 24,
   "metadata": {
    "scrolled": true
   },
   "outputs": [
    {
     "data": {
      "text/html": [
       "\n",
       "    <div>\n",
       "      \n",
       "      <progress value='5904' max='5904' style='width:300px; height:20px; vertical-align: middle;'></progress>\n",
       "      [5904/5904 22:20, Epoch 3/3]\n",
       "    </div>\n",
       "    <table border=\"1\" class=\"dataframe\">\n",
       "  <thead>\n",
       " <tr style=\"text-align: left;\">\n",
       "      <th>Step</th>\n",
       "      <th>Training Loss</th>\n",
       "      <th>Validation Loss</th>\n",
       "    </tr>\n",
       "  </thead>\n",
       "  <tbody>\n",
       "    <tr>\n",
       "      <td>500</td>\n",
       "      <td>1.965800</td>\n",
       "      <td>1.850789</td>\n",
       "    </tr>\n",
       "    <tr>\n",
       "      <td>1000</td>\n",
       "      <td>1.925900</td>\n",
       "      <td>1.796923</td>\n",
       "    </tr>\n",
       "    <tr>\n",
       "      <td>1500</td>\n",
       "      <td>1.879000</td>\n",
       "      <td>1.763775</td>\n",
       "    </tr>\n",
       "    <tr>\n",
       "      <td>2000</td>\n",
       "      <td>1.813800</td>\n",
       "      <td>1.741225</td>\n",
       "    </tr>\n",
       "    <tr>\n",
       "      <td>2500</td>\n",
       "      <td>1.781300</td>\n",
       "      <td>1.727432</td>\n",
       "    </tr>\n",
       "    <tr>\n",
       "      <td>3000</td>\n",
       "      <td>1.754900</td>\n",
       "      <td>1.711965</td>\n",
       "    </tr>\n",
       "    <tr>\n",
       "      <td>3500</td>\n",
       "      <td>1.750500</td>\n",
       "      <td>1.698856</td>\n",
       "    </tr>\n",
       "    <tr>\n",
       "      <td>4000</td>\n",
       "      <td>1.702700</td>\n",
       "      <td>1.688667</td>\n",
       "    </tr>\n",
       "    <tr>\n",
       "      <td>4500</td>\n",
       "      <td>1.687700</td>\n",
       "      <td>1.682476</td>\n",
       "    </tr>\n",
       "    <tr>\n",
       "      <td>5000</td>\n",
       "      <td>1.697400</td>\n",
       "      <td>1.673320</td>\n",
       "    </tr>\n",
       "    <tr>\n",
       "      <td>5500</td>\n",
       "      <td>1.700400</td>\n",
       "      <td>1.663182</td>\n",
       "    </tr>\n",
       "  </tbody>\n",
       "</table><p>"
      ],
      "text/plain": [
       "<IPython.core.display.HTML object>"
      ]
     },
     "metadata": {},
     "output_type": "display_data"
    },
    {
     "name": "stderr",
     "output_type": "stream",
     "text": [
      "There were missing keys in the checkpoint model loaded: ['lm_head.weight'].\n"
     ]
    },
    {
     "data": {
      "text/plain": [
       "TrainOutput(global_step=5904, training_loss=1.7994211636746156, metrics={'train_runtime': 1343.5866, 'train_samples_per_second': 70.301, 'train_steps_per_second': 4.394, 'total_flos': 8479227026304000.0, 'train_loss': 1.7994211636746156, 'epoch': 3.0})"
      ]
     },
     "execution_count": 24,
     "metadata": {},
     "output_type": "execute_result"
    }
   ],
   "source": [
    "trainer.train()"
   ]
  },
  {
   "cell_type": "code",
   "execution_count": null,
   "metadata": {},
   "outputs": [],
   "source": []
  },
  {
   "cell_type": "code",
   "execution_count": null,
   "metadata": {},
   "outputs": [],
   "source": []
  },
  {
   "cell_type": "code",
   "execution_count": 25,
   "metadata": {},
   "outputs": [
    {
     "data": {
      "text/plain": [
       "('./full_sft_final_checkpoint/tokenizer_config.json',\n",
       " './full_sft_final_checkpoint/special_tokens_map.json',\n",
       " './full_sft_final_checkpoint/vocab.json',\n",
       " './full_sft_final_checkpoint/merges.txt',\n",
       " './full_sft_final_checkpoint/added_tokens.json',\n",
       " './full_sft_final_checkpoint/tokenizer.json')"
      ]
     },
     "execution_count": 25,
     "metadata": {},
     "output_type": "execute_result"
    }
   ],
   "source": [
    "trainer.save_model(\"./full_sft_final_checkpoint\")\n",
    "tokenizer.save_pretrained(\"./full_sft_final_checkpoint\")"
   ]
  },
  {
   "cell_type": "code",
   "execution_count": 79,
   "metadata": {},
   "outputs": [
    {
     "name": "stdout",
     "output_type": "stream",
     "text": [
      "\n",
      "Loading base gpt2 model...\n",
      "Loading FULL SFT model...\n"
     ]
    }
   ],
   "source": [
    "device = torch.device(\"cuda\" if torch.cuda.is_available() else \"cpu\")\n",
    "\n",
    "print(\"\\nLoading base gpt2 model...\")\n",
    "base_model = AutoModelForCausalLM.from_pretrained(\"gpt2\").to(device)\n",
    "base_tokenizer = AutoTokenizer.from_pretrained(\"gpt2\")\n",
    "\n",
    "print(\"Loading FULL SFT model...\")\n",
    "sft_model = AutoModelForCausalLM.from_pretrained(\"./full_sft_final_checkpoint/\").to(device)\n",
    "sft_tokenizer = AutoTokenizer.from_pretrained(\"./full_sft_final_checkpoint/\")"
   ]
  },
  {
   "cell_type": "code",
   "execution_count": 80,
   "metadata": {},
   "outputs": [],
   "source": [
    "def generate_response(model, tokenizer, prompt_text):\n",
    "    \"\"\"\n",
    "    Generates a response from a given model and tokenizer.\n",
    "    \"\"\"\n",
    "    \n",
    "    formatted_prompt = f\"### Instruction:\\n{prompt_text}\\n\\n### Response:\\n\"\n",
    "    \n",
    "    inputs = tokenizer(formatted_prompt, return_tensors=\"pt\").to(device)\n",
    "    \n",
    "    with torch.no_grad():\n",
    "        outputs = model.generate(\n",
    "            **inputs,\n",
    "            max_new_tokens=250,\n",
    "            temperature=0.6,  \n",
    "            do_sample=True, \n",
    "            repetition_penalty=1.2\n",
    "        )\n",
    "    \n",
    "    full_response = tokenizer.decode(outputs[0], skip_special_tokens=True)\n",
    "    return full_response[len(formatted_prompt):].strip()"
   ]
  },
  {
   "cell_type": "code",
   "execution_count": 81,
   "metadata": {},
   "outputs": [],
   "source": [
    "def evaluate_models(prompt, ground_truth, models):\n",
    "    print(\"\\n\" + \"=\"*100)\n",
    "    print(\" PERFORMANCE COMPARISON \".center(100, \"=\"))\n",
    "    print(\"=\"*100)\n",
    "\n",
    "    print(f\"\\nPROMPT:\\n{prompt}\\n\")\n",
    "    print('-'*100)\n",
    "    print(f\"GROUND TRUTH:\\n{ground_truth}\\n\")\n",
    "\n",
    "    for name, model, tokenizer in models:\n",
    "        print(\"-\"*100)\n",
    "        print(f\"\\n--- {name.upper()} RESPONSE ---\")\n",
    "        response = generate_response(model, tokenizer, prompt)\n",
    "        print(response)"
   ]
  },
  {
   "cell_type": "code",
   "execution_count": 82,
   "metadata": {},
   "outputs": [],
   "source": [
    "models_to_compare = [\n",
    "    (\"Base Model (GPT-2)\", base_model, base_tokenizer),\n",
    "    (\"FULL SFT Model\", sft_model, sft_tokenizer),\n",
    "]"
   ]
  },
  {
   "cell_type": "code",
   "execution_count": 83,
   "metadata": {},
   "outputs": [
    {
     "name": "stderr",
     "output_type": "stream",
     "text": [
      "Setting `pad_token_id` to `eos_token_id`:50256 for open-end generation.\n"
     ]
    },
    {
     "name": "stdout",
     "output_type": "stream",
     "text": [
      "\n",
      "====================================================================================================\n",
      "====================================== PERFORMANCE COMPARISON ======================================\n",
      "====================================================================================================\n",
      "\n",
      "PROMPT:\n",
      "### Instruction:\n",
      "What is the best way to clean and care for leather shoes.\n",
      "\n",
      "### Response:\n",
      "\n",
      "\n",
      "----------------------------------------------------------------------------------------------------\n",
      "GROUND TRUTH:\n",
      "The best way to clean and care for leather shoes is to start by using a leather cleaner specifically designed for the type of leather used. This will not only help keep them clean, but also help protect the leather from the elements. Once cleaned, apply a leather conditioner to help keep the leather soft and supple. Finally, use a leather polish to help add luster and protection. Reapply the products every couple of months to keep your shoes looking their best.<|endoftext|>\n",
      "\n",
      "----------------------------------------------------------------------------------------------------\n",
      "\n",
      "--- BASE MODEL (GPT-2) RESPONSE ---\n"
     ]
    },
    {
     "name": "stderr",
     "output_type": "stream",
     "text": [
      "Setting `pad_token_id` to `eos_token_id`:50256 for open-end generation.\n"
     ]
    },
    {
     "name": "stdout",
     "output_type": "stream",
     "text": [
      "The material provided in this post was not created by me or any of my employees, nor does it represent an endorsement by Nike (or anyone else). The materials are made out with extreme caution as they do contain a wide range available from both regular high quality fabrics such 2X3s that can be used on your footwear without ever being exposed to moisture due over time but you should always wear protective clothing when using these types if possible while working at work - check our \"Safety Tips\" section below\n",
      "----------------------------------------------------------------------------------------------------\n",
      "\n",
      "--- FULL SFT MODEL RESPONSE ---\n",
      "The best method of cleaning and caringfor a Leather Shoes is to use an antibacterial soap made from natural fibers such as cotton, linen or wool for several days a week. This will help prevent the leathers from becoming scratched or stained. Additionally it can be helpful in brushing your feet with some mild dish soap before washing them regularly so they don't become dry. Finally, using high-quality rubber boots may also provide additional protection against bacteria or other environmental hazards that could affect the leathers. If you have any specific questions about how to properly remove leather from leather shoes, contact us right away! Good luck on your leather shoes. Enjoy your new life.  [Update 2/15 - The following blog post has been updated by Dr Steven Rommo who offers advice regarding ways to safely treat leather shoes] There are many different types — synthetic, leather—to choose from; however, one thing always remains constant when dealing out leather shoes is patience. Make sure if you're having trouble getting rid of leather shoes quickly enough does your job justice. Once again thank you for visiting my website here at Home Depot Online. Happy shopping, and happy browsing. Your next visit should bring good news and comfort to all those affected by leather shoes. Let\n"
     ]
    }
   ],
   "source": [
    "idx = 10\n",
    "prompt = test_dataset[idx][\"prompt\"]\n",
    "ground_truth = test_dataset[idx][\"completion\"]\n",
    "\n",
    "\n",
    "evaluate_models(prompt, ground_truth, models_to_compare)"
   ]
  },
  {
   "cell_type": "code",
   "execution_count": 84,
   "metadata": {},
   "outputs": [
    {
     "name": "stderr",
     "output_type": "stream",
     "text": [
      "Setting `pad_token_id` to `eos_token_id`:50256 for open-end generation.\n"
     ]
    },
    {
     "name": "stdout",
     "output_type": "stream",
     "text": [
      "\n",
      "====================================================================================================\n",
      "====================================== PERFORMANCE COMPARISON ======================================\n",
      "====================================================================================================\n",
      "\n",
      "PROMPT:\n",
      "### Instruction:\n",
      "I want to shop for a new car. What should I look for in price, features, and safety.\n",
      "\n",
      "### Response:\n",
      "\n",
      "\n",
      "----------------------------------------------------------------------------------------------------\n",
      "GROUND TRUTH:\n",
      "For price, look for a car that fits your budget. Consider the total cost, including maintenance, registration, and insurance. When it comes to features, think about what is most important to you. Do you need a lot of cargo space? Or are you looking for the latest technology? When it comes to safety, look for a car with the latest safety features, like lane-keeping assist, adaptive cruise control, and blind spot monitoring. Additionally, consider the car’s ratings in crash tests and look for features like airbags, anti-lock brakes, and anti-theft systems.<|endoftext|>\n",
      "\n",
      "----------------------------------------------------------------------------------------------------\n",
      "\n",
      "--- BASE MODEL (GPT-2) RESPONSE ---\n"
     ]
    },
    {
     "name": "stderr",
     "output_type": "stream",
     "text": [
      "Setting `pad_token_id` to `eos_token_id`:50256 for open-end generation.\n"
     ]
    },
    {
     "name": "stdout",
     "output_type": "stream",
     "text": [
      "There are 3 options available here that will help you choose the right vehicle based on your needs.: 1.) The best option is our 6 speed manual transmission (2WD) or 2). This may be better if it has an EPA rating than other choices such as those offered by BMW Group of America.(3).\"If there's any question about which model would fit my requirements,\" says Richard Kresser,, \"the answer depends upon what type/specification we're looking at.\"The 5-speed automatic transmissions come with no brakes while they have all their independent parts installed so this way customers can get into control without having them move around uncontrollably during driving.�So how do these cars compare?�We'll say one thing immediately when someone points out some differences between different models but before going further please read through each part separately from others below:\"You need 4 tires plus front wheels.\"\"Which engine does driver prefer?\"\"Ford Fusions\"\"Sterling SVT 830 Turbo Diesel\".And lastly...is anyone able make up his mind whether he wants another turbo diesel instead of just being limited warranty dependent??\n",
      "----------------------------------------------------------------------------------------------------\n",
      "\n",
      "--- FULL SFT MODEL RESPONSE ---\n",
      "Price of the vehicle you are looking at is important; it typically has good fuel economy, reliable maintenance, and adequate handling. If the seller does not have an extensive history of quality repairs or upgrades, chances are they will be disappointed with your purchase. Additionally there are many other factors that could affect the overall cost of ownership including location, engine size (including tires), air conditioning, windshield wipers/glasses etc., but this may vary by region. It's also worth checking reviews on local dealerships before making any decision about which one best fits your needs. Finally, always search online when available so you can find what looks most affordable - prices don't necessarily reflect up-to-.  With all these considerations, consider purchasing a used Nissan Leaf instead if it’s something you need more dependant upon. Good luck! You might enjoy driving another day tomorrow afternoon without having to go back until late June 2019. Happy shopping. Best wishes from everyone involved. Now let me know who some potential buyers would like to see come through tonight as well. Let us hear anything possible between now and then--good night and happy cruising. Thank you again for reading my letter. Enjoy your visit today. Q Any questions? Have fun searching around\n"
     ]
    }
   ],
   "source": [
    "idx = 20\n",
    "prompt = test_dataset[idx][\"prompt\"]\n",
    "ground_truth = test_dataset[idx][\"completion\"]\n",
    "\n",
    "\n",
    "evaluate_models(prompt, ground_truth, models_to_compare)"
   ]
  },
  {
   "cell_type": "code",
   "execution_count": null,
   "metadata": {},
   "outputs": [],
   "source": []
  },
  {
   "cell_type": "code",
   "execution_count": null,
   "metadata": {},
   "outputs": [],
   "source": []
  },
  {
   "cell_type": "code",
   "execution_count": 67,
   "metadata": {},
   "outputs": [],
   "source": [
    "import json\n",
    "import matplotlib.pyplot as plt\n",
    "\n",
    "log_file = \"full_sft_results/checkpoint-5904/trainer_state.json\"\n",
    "\n",
    "# Read the log file\n",
    "with open(log_file, 'r') as f:\n",
    "    logs = json.load(f)\n",
    "\n",
    "# --- Prepare lists to store all metrics ---\n",
    "train_steps = []\n",
    "train_losses = []\n",
    "eval_steps = []\n",
    "eval_losses = []\n",
    "\n",
    "# --- Iterate through the log history and extract all data ---\n",
    "for log in logs[\"log_history\"]:\n",
    "    if \"loss\" in log:\n",
    "        train_steps.append(log[\"step\"])\n",
    "        train_losses.append(log[\"loss\"])\n",
    "    \n",
    "    elif \"eval_loss\" in log:\n",
    "        eval_steps.append(log[\"step\"])\n",
    "        eval_losses.append(log[\"eval_loss\"])"
   ]
  },
  {
   "cell_type": "code",
   "execution_count": 69,
   "metadata": {},
   "outputs": [
    {
     "data": {
      "image/png": "[encoded data removed]",
      "text/plain": [
       "<Figure size 1200x600 with 1 Axes>"
      ]
     },
     "metadata": {},
     "output_type": "display_data"
    }
   ],
   "source": [
    "fig, ax1 = plt.subplots(figsize=(12, 6))\n",
    "\n",
    "ax1.plot(train_steps, train_losses, 'b-', label=\"Training Loss\")\n",
    "ax1.plot(eval_steps, eval_losses, 'g-s', label=\"Validation Loss\", markersize=8) \n",
    "ax1.set_xlabel(\"Steps\", fontsize=12)\n",
    "ax1.set_ylabel(\"Loss\", color='b', fontsize=12)\n",
    "ax1.tick_params(axis='y', labelcolor='b')\n",
    "ax1.grid(True, which='both', linestyle='--', linewidth=0.5)\n",
    "\n",
    "plt.title(\"Training & Validation Losses (FULL SFT)\", fontsize=16)\n",
    "\n",
    "lines, labels = ax1.get_legend_handles_labels()\n",
    "ax1.legend(lines, labels, loc='upper right')\n",
    "\n",
    "plt.show()"
   ]
  },
  {
   "cell_type": "code",
   "execution_count": null,
   "metadata": {},
   "outputs": [],
   "source": []
  },
  {
   "cell_type": "markdown",
   "metadata": {},
   "source": [
    "### Rouge Score"
   ]
  },
  {
   "cell_type": "code",
   "execution_count": 4,
   "metadata": {},
   "outputs": [],
   "source": [
    "from tqdm import tqdm\n",
    "import numpy as np\n",
    "import logging\n",
    "from transformers import logging as transformers_logging\n",
    "transformers_logging.set_verbosity_error()"
   ]
  },
  {
   "cell_type": "markdown",
   "metadata": {},
   "source": [
    "### Full SFT Model Performance"
   ]
  },
  {
   "cell_type": "code",
   "execution_count": 5,
   "metadata": {},
   "outputs": [],
   "source": [
    "device = torch.device(\"cuda\" if torch.cuda.is_available() else \"cpu\")\n",
    "\n",
    "base_model_name = \"gpt2\"\n",
    "full_sft_checkpoint = \"./full_sft_final_checkpoint/\"\n",
    "\n",
    "tokenizer = AutoTokenizer.from_pretrained(base_model_name, padding_side=\"left\")\n",
    "tokenizer.pad_token = tokenizer.eos_token"
   ]
  },
  {
   "cell_type": "code",
   "execution_count": 6,
   "metadata": {},
   "outputs": [
    {
     "name": "stdout",
     "output_type": "stream",
     "text": [
      "Models loaded successfully!\n"
     ]
    }
   ],
   "source": [
    "base_model = AutoModelForCausalLM.from_pretrained(base_model_name).to(device)\n",
    "base_model.eval()\n",
    "sft_model = AutoModelForCausalLM.from_pretrained(full_sft_checkpoint).to(device)\n",
    "sft_model.eval()\n",
    "print(\"Models loaded successfully!\")"
   ]
  },
  {
   "cell_type": "code",
   "execution_count": 7,
   "metadata": {},
   "outputs": [
    {
     "name": "stdout",
     "output_type": "stream",
     "text": [
      "\n",
      "Generating predictions on the test set...\n"
     ]
    },
    {
     "name": "stderr",
     "output_type": "stream",
     "text": [
      "100%|██████████| 104/104 [02:57<00:00,  1.70s/it]\n"
     ]
    }
   ],
   "source": [
    "predictions = []\n",
    "references = []\n",
    "\n",
    "print(\"\\nGenerating predictions on the test set...\")\n",
    "\n",
    "batch_size = 16\n",
    "for i in tqdm(range(0, len(test_dataset), batch_size)):\n",
    "    batch = test_dataset[i:i+batch_size]\n",
    "    prompts = batch['prompt']\n",
    "    ground_truths = batch['completion']\n",
    "    \n",
    "    # Tokenize prompts\n",
    "    inputs = tokenizer(prompts, return_tensors=\"pt\", padding=True, truncation=True, max_length=512).to(device)\n",
    "    \n",
    "    with torch.no_grad():\n",
    "        outputs = sft_model.generate(\n",
    "            **inputs,\n",
    "            max_new_tokens=100,\n",
    "            num_beams=3,\n",
    "            temperature=0.6,\n",
    "            do_sample=False,\n",
    "            repetition_penalty=1.2\n",
    "        )\n",
    "    \n",
    "    # Decode and clean up the generated text\n",
    "    decoded_outputs = tokenizer.batch_decode(outputs, skip_special_tokens=True)\n",
    "    \n",
    "    # Remove the original prompt from the generated text\n",
    "    cleaned_predictions = [out[len(prompt):].strip() for out, prompt in zip(decoded_outputs, prompts)]\n",
    "    \n",
    "    # Add to lists\n",
    "    predictions.extend(cleaned_predictions)\n",
    "    references.extend(ground_truths)"
   ]
  },
  {
   "cell_type": "code",
   "execution_count": 8,
   "metadata": {},
   "outputs": [
    {
     "name": "stdout",
     "output_type": "stream",
     "text": [
      "1658\n",
      "1658\n"
     ]
    }
   ],
   "source": [
    "print(len(predictions))\n",
    "print(len(references))"
   ]
  },
  {
   "cell_type": "code",
   "execution_count": 9,
   "metadata": {},
   "outputs": [
    {
     "name": "stdout",
     "output_type": "stream",
     "text": [
      "The different types of loans you can apply for to purchase a house include fixed-rate mortgages, adjustable-rate mortgages, variable-rate mortgages, and home equity loans. Each type of loan has its own set of terms and conditions, so it is important to understand the different types of loans before making any decisions. Additionally, it is important to research the different types of loans before making any decisions. Finally, it is important to review the terms and conditions of each loan before making any decisions.\n"
     ]
    }
   ],
   "source": [
    "print(predictions[0])"
   ]
  },
  {
   "cell_type": "code",
   "execution_count": 10,
   "metadata": {},
   "outputs": [
    {
     "name": "stdout",
     "output_type": "stream",
     "text": [
      "Conventional Loans  \n",
      "\t\t\t2  FHA Loans  \n",
      "\t\t\t3  VA Loans \n",
      "\t\t\t4  USDA Loans \n",
      "\t\t\t5  Home Equity Loans \n",
      "\t\t\t6  Balloon Mortgages \n",
      "\t\t\t7  Adjustable Rate Mortgages (ARMs) \n",
      "\t\t\t8  Jumbo Mortgage Loans.\n"
     ]
    }
   ],
   "source": [
    "print(references[0])"
   ]
  },
  {
   "cell_type": "code",
   "execution_count": null,
   "metadata": {},
   "outputs": [],
   "source": []
  },
  {
   "cell_type": "code",
   "execution_count": 11,
   "metadata": {},
   "outputs": [],
   "source": [
    "# !pip install rouge_score"
   ]
  },
  {
   "cell_type": "code",
   "execution_count": 12,
   "metadata": {},
   "outputs": [],
   "source": [
    "from rouge_score import rouge_scorer\n",
    "\n",
    "scorer = rouge_scorer.RougeScorer(['rouge1', 'rouge2', 'rougeL'], use_stemmer=True)\n",
    "\n",
    "all_scores = []\n",
    "for ref, pred in zip(references, predictions):\n",
    "    score = scorer.score(ref, pred)\n",
    "    all_scores.append(score)"
   ]
  },
  {
   "cell_type": "code",
   "execution_count": 13,
   "metadata": {
    "scrolled": true
   },
   "outputs": [
    {
     "data": {
      "text/plain": [
       "{'rouge1': Score(precision=0.1511627906976744, recall=0.48148148148148145, fmeasure=0.23008849557522124),\n",
       " 'rouge2': Score(precision=0.047058823529411764, recall=0.15384615384615385, fmeasure=0.07207207207207207),\n",
       " 'rougeL': Score(precision=0.08139534883720931, recall=0.25925925925925924, fmeasure=0.12389380530973454)}"
      ]
     },
     "execution_count": 13,
     "metadata": {},
     "output_type": "execute_result"
    }
   ],
   "source": [
    "all_scores[0]"
   ]
  },
  {
   "cell_type": "code",
   "execution_count": 14,
   "metadata": {},
   "outputs": [
    {
     "name": "stdout",
     "output_type": "stream",
     "text": [
      "ROUGE-1: 0.35344826914040317\n",
      "ROUGE-2: 0.14871991893327755\n",
      "ROUGE-L: 0.2621895897977325\n"
     ]
    }
   ],
   "source": [
    "rouge1 = [s[\"rouge1\"].fmeasure for s in all_scores]\n",
    "rouge2 = [s[\"rouge2\"].fmeasure for s in all_scores]\n",
    "rougeL = [s[\"rougeL\"].fmeasure for s in all_scores]\n",
    "\n",
    "print(\"ROUGE-1:\", np.mean(rouge1))\n",
    "print(\"ROUGE-2:\", np.mean(rouge2))\n",
    "print(\"ROUGE-L:\", np.mean(rougeL))"
   ]
  },
  {
   "cell_type": "code",
   "execution_count": null,
   "metadata": {},
   "outputs": [],
   "source": []
  },
  {
   "cell_type": "code",
   "execution_count": null,
   "metadata": {},
   "outputs": [],
   "source": []
  },
  {
   "cell_type": "markdown",
   "metadata": {},
   "source": [
    "### Base Model Performance"
   ]
  },
  {
   "cell_type": "code",
   "execution_count": 15,
   "metadata": {},
   "outputs": [
    {
     "name": "stdout",
     "output_type": "stream",
     "text": [
      "\n",
      "Generating predictions on the test set...\n"
     ]
    },
    {
     "name": "stderr",
     "output_type": "stream",
     "text": [
      "100%|██████████| 104/104 [02:56<00:00,  1.70s/it]\n"
     ]
    }
   ],
   "source": [
    "base_predictions = []\n",
    "base_references = []\n",
    "\n",
    "print(\"\\nGenerating predictions on the test set...\")\n",
    "\n",
    "batch_size = 16\n",
    "for i in tqdm(range(0, len(test_dataset), batch_size)):\n",
    "    batch = test_dataset[i:i+batch_size]\n",
    "    prompts = batch['prompt']\n",
    "    ground_truths = batch['completion']\n",
    "    \n",
    "    # Tokenize prompts\n",
    "    inputs = tokenizer(prompts, return_tensors=\"pt\", padding=True, truncation=True, max_length=512).to(device)\n",
    "    \n",
    "    # Generate predictions\n",
    "    with torch.no_grad():\n",
    "        outputs = base_model.generate(\n",
    "            **inputs,\n",
    "            max_new_tokens=100,\n",
    "            num_beams=3,\n",
    "            temperature=0.6,\n",
    "            do_sample=False,\n",
    "            repetition_penalty=1.2\n",
    "        )\n",
    "    \n",
    "    # Decode and clean up the generated text\n",
    "    decoded_outputs = tokenizer.batch_decode(outputs, skip_special_tokens=True)\n",
    "    \n",
    "    # Remove the original prompt from the generated text\n",
    "    cleaned_predictions = [out[len(prompt):].strip() for out, prompt in zip(decoded_outputs, prompts)]\n",
    "    \n",
    "    # Add to lists\n",
    "    base_predictions.extend(cleaned_predictions)\n",
    "    base_references.extend(ground_truths)"
   ]
  },
  {
   "cell_type": "code",
   "execution_count": 16,
   "metadata": {},
   "outputs": [],
   "source": [
    "scorer = rouge_scorer.RougeScorer(['rouge1', 'rouge2', 'rougeL'], use_stemmer=True)\n",
    "\n",
    "all_scores = []\n",
    "for ref, pred in zip(base_references, base_predictions):\n",
    "    score = scorer.score(ref, pred)\n",
    "    all_scores.append(score)"
   ]
  },
  {
   "cell_type": "code",
   "execution_count": 17,
   "metadata": {},
   "outputs": [
    {
     "name": "stdout",
     "output_type": "stream",
     "text": [
      "ROUGE-1: 0.17926610018962283\n",
      "ROUGE-2: 0.049183680182620836\n",
      "ROUGE-L: 0.144408105417299\n"
     ]
    }
   ],
   "source": [
    "rouge1 = [s[\"rouge1\"].fmeasure for s in all_scores]\n",
    "rouge2 = [s[\"rouge2\"].fmeasure for s in all_scores]\n",
    "rougeL = [s[\"rougeL\"].fmeasure for s in all_scores]\n",
    "\n",
    "print(\"ROUGE-1:\", np.mean(rouge1))\n",
    "print(\"ROUGE-2:\", np.mean(rouge2))\n",
    "print(\"ROUGE-L:\", np.mean(rougeL))"
   ]
  },
  {
   "cell_type": "code",
   "execution_count": null,
   "metadata": {},
   "outputs": [],
   "source": []
  },
  {
   "cell_type": "markdown",
   "metadata": {},
   "source": [
    "    Metric\tBase Model Score  \tSFT Model Score   \tImprovement\n",
    "    ROUGE-1\t17.93\t            35.34\t                    +97.1%\n",
    "    ROUGE-2\t4.92    \t        14.87                       +202.2%\n",
    "    ROUGE-L\t14.44\t           26.22\t                     +81.6%"
   ]
  },
  {
   "cell_type": "code",
   "execution_count": 21,
   "metadata": {},
   "outputs": [
    {
     "data": {
      "image/png": "[encoded data removed]",
      "text/plain": [
       "<Figure size 1000x600 with 1 Axes>"
      ]
     },
     "metadata": {},
     "output_type": "display_data"
    }
   ],
   "source": [
    "import matplotlib.pyplot as plt\n",
    "import pandas as pd\n",
    "import numpy as np\n",
    "\n",
    "data = {\n",
    "    \"Metric\": [\"ROUGE-1\", \"ROUGE-2\", \"ROUGE-L\"],\n",
    "    \"Base Model\": [0.1792, 0.0491, 0.1444],\n",
    "    \"SFT Model\": [0.3534, 0.1487, 0.2621]\n",
    "}\n",
    "df = pd.DataFrame(data)\n",
    "plt.style.use('seaborn-whitegrid')\n",
    "\n",
    "fig, ax = plt.subplots(figsize=(10, 6))\n",
    "\n",
    "x = np.arange(len(df['Metric']))\n",
    "width = 0.35  \n",
    "\n",
    "rects1 = ax.bar(x - width/2, df['Base Model'], width, label='Base Model', color='skyblue')\n",
    "rects2 = ax.bar(x + width/2, df['SFT Model'], width, label='SFT Model', color='darkorange')\n",
    "\n",
    "ax.set_ylabel('ROUGE Score', fontsize=12)\n",
    "ax.set_xlabel('Metric', fontsize=12)\n",
    "ax.set_title('SFT vs. Base Model ROUGE Score Comparison', fontsize=16, fontweight='bold')\n",
    "ax.set_xticks(x)\n",
    "ax.set_xticklabels(df['Metric'], fontsize=12)\n",
    "ax.legend(fontsize=11)\n",
    "ax.set_ylim(0, 0.4) \n",
    "\n",
    "\n",
    "ax.bar_label(rects1, padding=3, fmt='%.3f', fontsize=10)\n",
    "ax.bar_label(rects2, padding=3, fmt='%.3f', fontsize=10)\n",
    "\n",
    "\n",
    "fig.tight_layout()\n",
    "plt.show()"
   ]
  },
  {
   "cell_type": "code",
   "execution_count": null,
   "metadata": {},
   "outputs": [],
   "source": []
  },
  {
   "cell_type": "code",
   "execution_count": 42,
   "metadata": {},
   "outputs": [],
   "source": [
    "import os\n",
    "os.chdir('..')"
   ]
  },
  {
   "cell_type": "code",
   "execution_count": 43,
   "metadata": {},
   "outputs": [],
   "source": [
    "os.makedirs(\"outputs\", exist_ok=True)"
   ]
  },
  {
   "cell_type": "code",
   "execution_count": null,
   "metadata": {},
   "outputs": [],
   "source": []
  },
  {
   "cell_type": "markdown",
   "metadata": {},
   "source": [
    "### PEFT SFT Model Performance"
   ]
  },
  {
   "cell_type": "code",
   "execution_count": 37,
   "metadata": {},
   "outputs": [],
   "source": [
    "base_model_name = \"SFT/gpt2\"\n",
    "peft_sft_checkpoint = \"./SFT/peft_sft_final_checkpoint_2/\"\n",
    "\n",
    "base_model = AutoModelForCausalLM.from_pretrained(base_model_name).to(device)\n",
    "tokenizer = AutoTokenizer.from_pretrained(base_model_name, padding_side=\"left\")\n",
    "tokenizer.pad_token = tokenizer.eos_token"
   ]
  },
  {
   "cell_type": "code",
   "execution_count": 38,
   "metadata": {
    "scrolled": true
   },
   "outputs": [
    {
     "data": {
      "text/plain": [
       "PeftModelForCausalLM(\n",
       "  (base_model): LoraModel(\n",
       "    (model): GPT2LMHeadModel(\n",
       "      (transformer): GPT2Model(\n",
       "        (wte): Embedding(50257, 768)\n",
       "        (wpe): Embedding(1024, 768)\n",
       "        (drop): Dropout(p=0.1, inplace=False)\n",
       "        (h): ModuleList(\n",
       "          (0-11): 12 x GPT2Block(\n",
       "            (ln_1): LayerNorm((768,), eps=1e-05, elementwise_affine=True)\n",
       "            (attn): GPT2SdpaAttention(\n",
       "              (c_attn): lora.Linear(\n",
       "                (base_layer): Conv1D()\n",
       "                (lora_dropout): ModuleDict(\n",
       "                  (default): Dropout(p=0.05, inplace=False)\n",
       "                )\n",
       "                (lora_A): ModuleDict(\n",
       "                  (default): Linear(in_features=768, out_features=16, bias=False)\n",
       "                )\n",
       "                (lora_B): ModuleDict(\n",
       "                  (default): Linear(in_features=16, out_features=2304, bias=False)\n",
       "                )\n",
       "                (lora_embedding_A): ParameterDict()\n",
       "                (lora_embedding_B): ParameterDict()\n",
       "                (lora_magnitude_vector): ModuleDict()\n",
       "              )\n",
       "              (c_proj): Conv1D()\n",
       "              (attn_dropout): Dropout(p=0.1, inplace=False)\n",
       "              (resid_dropout): Dropout(p=0.1, inplace=False)\n",
       "            )\n",
       "            (ln_2): LayerNorm((768,), eps=1e-05, elementwise_affine=True)\n",
       "            (mlp): GPT2MLP(\n",
       "              (c_fc): Conv1D()\n",
       "              (c_proj): Conv1D()\n",
       "              (act): NewGELUActivation()\n",
       "              (dropout): Dropout(p=0.1, inplace=False)\n",
       "            )\n",
       "          )\n",
       "        )\n",
       "        (ln_f): LayerNorm((768,), eps=1e-05, elementwise_affine=True)\n",
       "      )\n",
       "      (lm_head): Linear(in_features=768, out_features=50257, bias=False)\n",
       "    )\n",
       "  )\n",
       ")"
      ]
     },
     "execution_count": 38,
     "metadata": {},
     "output_type": "execute_result"
    }
   ],
   "source": [
    "from peft import PeftModel\n",
    "peft_sft_model = PeftModel.from_pretrained(base_model, peft_sft_checkpoint)\n",
    "peft_sft_model.eval()"
   ]
  },
  {
   "cell_type": "code",
   "execution_count": 39,
   "metadata": {},
   "outputs": [
    {
     "name": "stdout",
     "output_type": "stream",
     "text": [
      "\n",
      "Generating predictions on the test set...\n"
     ]
    },
    {
     "name": "stderr",
     "output_type": "stream",
     "text": [
      "100%|██████████| 104/104 [03:10<00:00,  1.83s/it]\n"
     ]
    }
   ],
   "source": [
    "peft_predictions = []\n",
    "peft_references = []\n",
    "\n",
    "print(\"\\nGenerating predictions on the test set...\")\n",
    "\n",
    "batch_size = 16\n",
    "for i in tqdm(range(0, len(test_dataset), batch_size)):\n",
    "    batch = test_dataset[i:i+batch_size]\n",
    "    prompts = batch['prompt']\n",
    "    ground_truths = batch['completion']\n",
    "    \n",
    "    # Tokenize prompts\n",
    "    inputs = tokenizer(prompts, return_tensors=\"pt\", padding=True, truncation=True, max_length=512).to(device)\n",
    "    \n",
    "    with torch.no_grad():\n",
    "        outputs = peft_sft_model.generate(\n",
    "            **inputs,\n",
    "            max_new_tokens=100,\n",
    "            num_beams=3,\n",
    "            temperature=0.6,\n",
    "            do_sample=False,\n",
    "            repetition_penalty=1.2\n",
    "        )\n",
    "    \n",
    "    # Decode and clean up the generated text\n",
    "    decoded_outputs = tokenizer.batch_decode(outputs, skip_special_tokens=True)\n",
    "    \n",
    "    # Remove the original prompt from the generated text\n",
    "    cleaned_predictions = [out[len(prompt):].strip() for out, prompt in zip(decoded_outputs, prompts)]\n",
    "    \n",
    "    # Add to lists\n",
    "    peft_predictions.extend(cleaned_predictions)\n",
    "    peft_references.extend(ground_truths)"
   ]
  },
  {
   "cell_type": "code",
   "execution_count": null,
   "metadata": {},
   "outputs": [],
   "source": []
  },
  {
   "cell_type": "code",
   "execution_count": 40,
   "metadata": {},
   "outputs": [],
   "source": [
    "scorer = rouge_scorer.RougeScorer(['rouge1', 'rouge2', 'rougeL'], use_stemmer=True)\n",
    "\n",
    "all_scores = []\n",
    "for ref, pred in zip(peft_references, peft_predictions):\n",
    "    score = scorer.score(ref, pred)\n",
    "    all_scores.append(score)"
   ]
  },
  {
   "cell_type": "code",
   "execution_count": 41,
   "metadata": {
    "scrolled": true
   },
   "outputs": [
    {
     "name": "stdout",
     "output_type": "stream",
     "text": [
      "ROUGE-1: 0.3117310002930892\n",
      "ROUGE-2: 0.12603219237194924\n",
      "ROUGE-L: 0.2405275465875746\n"
     ]
    }
   ],
   "source": [
    "rouge1 = [s[\"rouge1\"].fmeasure for s in all_scores]\n",
    "rouge2 = [s[\"rouge2\"].fmeasure for s in all_scores]\n",
    "rougeL = [s[\"rougeL\"].fmeasure for s in all_scores]\n",
    "\n",
    "print(\"ROUGE-1:\", np.mean(rouge1))\n",
    "print(\"ROUGE-2:\", np.mean(rouge2))\n",
    "print(\"ROUGE-L:\", np.mean(rougeL))"
   ]
  },
  {
   "cell_type": "code",
   "execution_count": 48,
   "metadata": {},
   "outputs": [],
   "source": [
    "import json\n",
    "\n",
    "with open(\"outputs/base_outputs.json\", \"w\") as f:\n",
    "    json.dump({\n",
    "        \"predictions\": base_predictions,\n",
    "        \"references\": base_references\n",
    "    }, f, indent=4)\n",
    "    \n",
    "    \n",
    "with open(\"outputs/full_sft_outputs.json\", \"w\") as f:\n",
    "    json.dump({\n",
    "        \"predictions\": predictions,\n",
    "        \"references\": references\n",
    "    }, f, indent=4)\n",
    "    \n",
    "with open(\"outputs/peft_sft_outputs.json\", \"w\") as f:\n",
    "    json.dump({\n",
    "        \"predictions\": peft_predictions,\n",
    "        \"references\": peft_references\n",
    "    }, f, indent=4)"
   ]
  },
  {
   "cell_type": "code",
   "execution_count": null,
   "metadata": {},
   "outputs": [],
   "source": []
  },
  {
   "cell_type": "code",
   "execution_count": null,
   "metadata": {},
   "outputs": [],
   "source": []
  },
  {
   "cell_type": "code",
   "execution_count": 54,
   "metadata": {},
   "outputs": [
    {
     "name": "stdout",
     "output_type": "stream",
     "text": [
      "Metrics saved to sft_performance_metrics.csv\n"
     ]
    }
   ],
   "source": [
    "# Data for the three models\n",
    "data = {\n",
    "    \"Metric\": [\"ROUGE-1\", \"ROUGE-2\", \"ROUGE-L\"],\n",
    "    \"Base Model\": [0.1793, 0.0492, 0.1444],\n",
    "    \"Full SFT\": [0.3534, 0.1487, 0.2622],\n",
    "    \"PEFT SFT\": [0.3117, 0.1260, 0.2405]\n",
    "}\n",
    "df = pd.DataFrame(data)\n",
    "\n",
    "# --- 1. Save the metrics to a CSV file ---\n",
    "csv_filename = 'sft_performance_metrics.csv'\n",
    "df.to_csv(csv_filename, index=False, float_format='%.4f')\n",
    "print(f\"Metrics saved to {csv_filename}\")\n",
    "\n",
    "fig, ax = plt.subplots(figsize=(12, 7))\n",
    "\n",
    "# Set bar positions and width for three groups\n",
    "x = np.arange(len(df['Metric']))\n",
    "width = 0.25\n",
    "\n",
    "# Plot the bars for each model\n",
    "rects1 = ax.bar(x - width, df['Base Model'], width, label='Base Model', color='lightcoral')\n",
    "rects2 = ax.bar(x, df['Full SFT'], width, label='Full SFT', color='cornflowerblue')\n",
    "rects3 = ax.bar(x + width, df['PEFT SFT'], width, label='PEFT SFT', color='mediumseagreen')\n",
    "\n",
    "# Add labels, title, and ticks\n",
    "ax.set_ylabel('ROUGE Score', fontsize=12)\n",
    "ax.set_xlabel('Metric', fontsize=12)\n",
    "ax.set_title('SFT Performance Comparison: Full vs. PEFT', fontsize=16, fontweight='bold')\n",
    "ax.set_xticks(x)\n",
    "ax.set_xticklabels(df['Metric'], fontsize=12)\n",
    "ax.legend(fontsize=11)\n",
    "ax.set_ylim(0, 0.45)\n",
    "\n",
    "# Add data labels on top of each bar\n",
    "ax.bar_label(rects1, padding=3, fmt='%.3f', fontsize=9)\n",
    "ax.bar_label(rects2, padding=3, fmt='%.3f', fontsize=9)\n",
    "ax.bar_label(rects3, padding=3, fmt='%.3f', fontsize=9)\n",
    "\n",
    "# Final layout adjustments and save the figure\n",
    "fig.tight_layout()\n",
    "plot_filename = \"sft_vs_peft_comparison.png\"\n",
    "plt.savefig(plot_filename)"
   ]
  },
  {
   "cell_type": "code",
   "execution_count": null,
   "metadata": {},
   "outputs": [],
   "source": []
  }
 ],
 "metadata": {
  "kernelspec": {
   "display_name": "Python 3",
   "language": "python",
   "name": "python3"
  },
  "language_info": {
   "codemirror_mode": {
    "name": "ipython",
    "version": 3
   },
   "file_extension": ".py",
   "mimetype": "text/x-python",
   "name": "python",
   "nbconvert_exporter": "python",
   "pygments_lexer": "ipython3",
   "version": "3.8.10"
  }
 },
 "nbformat": 4,
 "nbformat_minor": 2
}
